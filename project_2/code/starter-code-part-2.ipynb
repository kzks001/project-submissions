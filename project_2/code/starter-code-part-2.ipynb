{
 "cells": [
  {
   "cell_type": "markdown",
   "id": "b84407a8-4da1-4243-9e00-82a9f9b5e10e",
   "metadata": {},
   "source": [
    "<img src=\"http://imgur.com/1ZcRyrc.png\" style=\"float: left; margin: 20px; height: 55px\">\n",
    "\n",
    "# Project 2: Development of a Machine Learning Model for Accurate Prediction of HDB Prices"
   ]
  },
  {
   "cell_type": "markdown",
   "id": "6835bcf0-dab7-4b13-8e9e-74d66b83b040",
   "metadata": {},
   "source": [
    "--- \n",
    "# Part 2\n",
    "\n",
    "Data dictionary, baseline model, (Modeling,feature engineering, evaluating)\n",
    "\n",
    "---"
   ]
  },
  {
   "cell_type": "markdown",
   "id": "248b0709-6b7e-4651-8112-17cc43593174",
   "metadata": {
    "tags": []
   },
   "source": [
    "### Contents:\n",
    "- [Data dictionary](#Data-dictionary)\n",
    "- [Baseline model](#Baseline-model)\n",
    "- [Modeling/Feature engineering/Evaluating](#Modeling/Feature-engineering/Evaluating)\n",
    "- [Conclusion](#Conclusion)\n"
   ]
  },
  {
   "cell_type": "markdown",
   "id": "2eaaecdf-9719-4150-8aa1-ae26f83b7eb4",
   "metadata": {},
   "source": [
    "### Structure"
   ]
  },
  {
   "cell_type": "markdown",
   "id": "44ff0b47-da9c-4196-a6b6-4420e79c44aa",
   "metadata": {},
   "source": [
    "In this notebook, we will create a baseline model with some of the continuous features (such as area, hdb age) we identified in the previous part. The next step would be to engineer features to train a model to beat the baseline, then evaluating and repeating the above steps until we get a satisfactory performance. We will evaluate our model using k-fold cross validation with metrics RMSE."
   ]
  },
  {
   "cell_type": "markdown",
   "id": "9be65abb-0ba2-4ea8-9b55-569ce4375691",
   "metadata": {},
   "source": [
    "## Data dictionary"
   ]
  },
  {
   "cell_type": "markdown",
   "id": "585520b0-f0be-4110-a3c7-cd698c0268f0",
   "metadata": {},
   "source": [
    "There is only one dataset here, train-clean.csv, created in part 1.\n",
    "|Feature|Type|Description|\n",
    "|---|---|---|\n",
    "|3room_sold|int|number of 3 room flats in the block the flat was sold|\n",
    "|4room_sold|int|number of 4 room flats in the block the flat was sold|\n",
    "|5room_sold|int|number of 5 room flats in the block the flat was sold|\n",
    "|bus_stop_nearest_distance|float|distance (in metres) to the nearest bus stop|\n",
    "|exec_sold|int|number of executive flats in the block the flat was sold|\n",
    "|flat_model|object|HDB model of the resale flat|\n",
    "|flat_type|object|type of the resale flat unit|\n",
    "|floor_area_sqm|float|floor area of the resale flat unit in square metres|\n",
    "|hawker_food_stalls|int|number of hawker food stalls in the nearest hawker centre|\n",
    "|hawker_market_stalls|int|number of hawker and market stalls in the nearest hawker centre|\n",
    "|hawker_nearest_distance|float|distance (in metres) to the nearest hawker centre|\n",
    "|hawker_within_1km|int|number of hawker centres within 1 kilometre|\n",
    "|hawker_within_2km|int|number of hawker centres within 2 kilometre|\n",
    "|hawker_within_500m|int|number of hawker centres within 500 metres|\n",
    "|hdb_age|int|number of years from lease commence date to present year(year the sale was made)|\n",
    "|mall_nearest_distance|float|distance (in metres) to the nearest mall|\n",
    "|mall_within_1km|int|number of malls within 1 kilometre|\n",
    "|mall_within_2km|int|number of malls within 2 kilometre|\n",
    "|mall_within_500m|int|number of malls within 500 metres|\n",
    "|max_floor_lvl|int|highest floor of the block of resale flat|\n",
    "|mid|int|middle value of storey range of the resale flat|\n",
    "|mrt_nearest_distance|float|distance (in metres) to the nearest MRT station|\n",
    "|planning_area|object|Government planning area that the flat is located|\n",
    "|resale_price|float|the property's sale price in Singapore dollars. This is the target variable that we are trying to predict for this project.|\n",
    "|total_dwelling_units|int|total number of residential dwelling units in the resale flat|\n",
    "|tranc_month|int|year of resale transaction|\n",
    "|tranc_year|int|month of resale transaction|\n"
   ]
  },
  {
   "cell_type": "markdown",
   "id": "ee1374a3-b589-496c-88bb-8d92046654a2",
   "metadata": {},
   "source": [
    "[Back to contents](#Contents:)"
   ]
  },
  {
   "cell_type": "markdown",
   "id": "87931c5f-6746-4676-b9a2-cd83dc1dd067",
   "metadata": {},
   "source": [
    "### Import stuff"
   ]
  },
  {
   "cell_type": "code",
   "execution_count": 1,
   "id": "836e7c78-84dc-4576-957b-8e93656e37de",
   "metadata": {},
   "outputs": [],
   "source": [
    "import numpy as np\n",
    "import pandas as pd\n",
    "import matplotlib.pyplot as plt\n",
    "import seaborn as sns\n",
    "\n",
    "from sklearn.model_selection import train_test_split, cross_val_score\n",
    "from sklearn.preprocessing import StandardScaler, OneHotEncoder, PolynomialFeatures\n",
    "from sklearn.compose import ColumnTransformer\n",
    "from sklearn.linear_model import LinearRegression, LassoCV, Lasso, RidgeCV, Ridge\n",
    "from sklearn.metrics import r2_score, mean_squared_error\n",
    "from sklearn.feature_selection import RFECV\n",
    "\n",
    "pd.set_option(\"display.max_rows\", 100)"
   ]
  },
  {
   "cell_type": "code",
   "execution_count": 2,
   "id": "77ac3f13-3b21-41ae-9d02-f4b36874c4a1",
   "metadata": {},
   "outputs": [],
   "source": [
    "df = pd.read_csv('../datasets/train-clean.csv')"
   ]
  },
  {
   "cell_type": "markdown",
   "id": "5a5e1d4f-2ad0-4f78-9ee3-0bd9da10898c",
   "metadata": {},
   "source": [
    "Picking out the features which has to be StandardScaler-ed"
   ]
  },
  {
   "cell_type": "code",
   "execution_count": 3,
   "id": "020923fe-c606-498c-9487-bf1d91dbc664",
   "metadata": {},
   "outputs": [],
   "source": [
    "continuous = df.columns.drop(['flat_model', 'flat_type', 'planning_area', 'resale_price'])"
   ]
  },
  {
   "cell_type": "markdown",
   "id": "49028971-dd66-4b9e-92ad-2ddd4138fa84",
   "metadata": {},
   "source": [
    "## Baseline model"
   ]
  },
  {
   "cell_type": "markdown",
   "id": "b58da625-a0b2-419c-84a4-91e69f70889d",
   "metadata": {},
   "source": [
    "We create a baseline model using LinearRegression and the following features. These are features which have shown a high correlation with resale price."
   ]
  },
  {
   "cell_type": "code",
   "execution_count": 4,
   "id": "fc3be8b7-1c9d-4f1d-908a-6733d643edaa",
   "metadata": {},
   "outputs": [],
   "source": [
    "baseline = ['floor_area_sqm', 'mid', 'hdb_age', 'max_floor_lvl']"
   ]
  },
  {
   "cell_type": "code",
   "execution_count": 5,
   "id": "45553a8d-5cfd-45c1-baef-f9db887aebde",
   "metadata": {},
   "outputs": [],
   "source": [
    "X_base = df[baseline]\n",
    "y = df['resale_price']"
   ]
  },
  {
   "cell_type": "code",
   "execution_count": 6,
   "id": "19cbc764-c761-4f8e-b531-58a20b41c2fc",
   "metadata": {},
   "outputs": [],
   "source": [
    "X_train_base, X_test_base, y_train, y_test = train_test_split(X_base, \n",
    "                                                              y, \n",
    "                                                              test_size=0.2, \n",
    "                                                              random_state=42)\n",
    "\n",
    "#scaling because we will be doing so later on. Easier to intepret.\n",
    "ss = StandardScaler()\n",
    "X_train_base = ss.fit_transform(X_train_base)\n",
    "X_test_base = ss.transform(X_test_base)"
   ]
  },
  {
   "cell_type": "code",
   "execution_count": 7,
   "id": "f19438a5-647b-4d47-bfe2-95ac856c7fc9",
   "metadata": {
    "tags": []
   },
   "outputs": [
    {
     "data": {
      "text/plain": [
       "84543.7735653718"
      ]
     },
     "execution_count": 7,
     "metadata": {},
     "output_type": "execute_result"
    }
   ],
   "source": [
    "lr_base = LinearRegression()\n",
    "lr_base.fit(X_train_base, y_train)\n",
    "lr_base_scores = -cross_val_score(lr_base, X_train_base, y_train, \n",
    "                                  scoring = 'neg_root_mean_squared_error')\n",
    "lr_base_scores.mean()"
   ]
  },
  {
   "cell_type": "markdown",
   "id": "b38a5ba4-7012-4727-9ac6-eb0ffbd2fd3b",
   "metadata": {},
   "source": [
    "The CV score based on RMSE is about 85k. We will try to create a model to beat this score."
   ]
  },
  {
   "cell_type": "code",
   "execution_count": 8,
   "id": "4f0bc6f8-7a84-4936-8599-6a3b20c16ac0",
   "metadata": {
    "tags": []
   },
   "outputs": [
    {
     "data": {
      "text/plain": [
       "84241.96562765863"
      ]
     },
     "execution_count": 8,
     "metadata": {},
     "output_type": "execute_result"
    }
   ],
   "source": [
    "#Test score\n",
    "mean_squared_error(y_test, lr_base.predict(X_test_base)) ** 0.5"
   ]
  },
  {
   "cell_type": "markdown",
   "id": "8c61edb7-a271-4765-b62a-f1e60d5f65c7",
   "metadata": {},
   "source": [
    "The similarity between test score and CV score indicates that there is little sampling error."
   ]
  },
  {
   "cell_type": "code",
   "execution_count": 9,
   "id": "2579212a-f02c-41b4-9678-0523c14ccacf",
   "metadata": {},
   "outputs": [
    {
     "data": {
      "text/plain": [
       "84541.39475408602"
      ]
     },
     "execution_count": 9,
     "metadata": {},
     "output_type": "execute_result"
    }
   ],
   "source": [
    "#Train score\n",
    "mean_squared_error(y_train, lr_base.predict(X_train_base)) ** 0.5"
   ]
  },
  {
   "cell_type": "markdown",
   "id": "0213c921-829b-428d-83d4-3667fdb2d56b",
   "metadata": {},
   "source": [
    "The RMSE scores between test and train indicate that there is little variance. Although it seems the model \"generalises\" well, at this point in time, it is simply underfitted."
   ]
  },
  {
   "cell_type": "markdown",
   "id": "ad99040d-5350-44a1-ab3f-0bd97d24727c",
   "metadata": {},
   "source": [
    "Taking a look at the coefficients,"
   ]
  },
  {
   "cell_type": "code",
   "execution_count": 10,
   "id": "b13de7af-0121-4811-851b-9ab687c82e73",
   "metadata": {},
   "outputs": [
    {
     "data": {
      "text/html": [
       "<div>\n",
       "<style scoped>\n",
       "    .dataframe tbody tr th:only-of-type {\n",
       "        vertical-align: middle;\n",
       "    }\n",
       "\n",
       "    .dataframe tbody tr th {\n",
       "        vertical-align: top;\n",
       "    }\n",
       "\n",
       "    .dataframe thead th {\n",
       "        text-align: right;\n",
       "    }\n",
       "</style>\n",
       "<table border=\"1\" class=\"dataframe\">\n",
       "  <thead>\n",
       "    <tr style=\"text-align: right;\">\n",
       "      <th></th>\n",
       "      <th>0</th>\n",
       "    </tr>\n",
       "  </thead>\n",
       "  <tbody>\n",
       "    <tr>\n",
       "      <th>floor_area_sqm</th>\n",
       "      <td>87104.895214</td>\n",
       "    </tr>\n",
       "    <tr>\n",
       "      <th>mid</th>\n",
       "      <td>18426.270513</td>\n",
       "    </tr>\n",
       "    <tr>\n",
       "      <th>hdb_age</th>\n",
       "      <td>6015.104569</td>\n",
       "    </tr>\n",
       "    <tr>\n",
       "      <th>max_floor_lvl</th>\n",
       "      <td>57572.956522</td>\n",
       "    </tr>\n",
       "  </tbody>\n",
       "</table>\n",
       "</div>"
      ],
      "text/plain": [
       "                           0\n",
       "floor_area_sqm  87104.895214\n",
       "mid             18426.270513\n",
       "hdb_age          6015.104569\n",
       "max_floor_lvl   57572.956522"
      ]
     },
     "execution_count": 10,
     "metadata": {},
     "output_type": "execute_result"
    }
   ],
   "source": [
    "pd.DataFrame(lr_base.coef_, index=baseline)"
   ]
  },
  {
   "cell_type": "markdown",
   "id": "0ba748f9-8020-4546-9c9a-2bcdd6731a76",
   "metadata": {},
   "source": [
    "Per standard deviation, we find that price of a flat increases approximately:\n",
    "- 87104 for area\n",
    "- 18426 for floor the flat is on\n",
    "- 6015 for hdb age\n",
    "- 57572 for maximuum number of floors in the block\n",
    "\n",
    "The age of a hdb seems to play the least role in determining prices."
   ]
  },
  {
   "cell_type": "markdown",
   "id": "a8c59231-25c9-4a4f-b3ea-cdec6d3b3244",
   "metadata": {},
   "source": [
    "[Back to contents](#Contents:)"
   ]
  },
  {
   "cell_type": "markdown",
   "id": "f4d3ab1d-d736-4a12-8fb4-f10fe2a3f88e",
   "metadata": {},
   "source": [
    "## Modeling/Feature engineering/Evaluating"
   ]
  },
  {
   "cell_type": "markdown",
   "id": "89da9c84-636f-4756-a12e-9715ae2ceaca",
   "metadata": {},
   "source": [
    "We will try to drastically increase the complexity of the model by building some polynomials of degree at most 3. We then proceed to check their correlation and discard those that fall below a certain threshold, which is again arbitrarily chosen, so that we do not lose ALL of the features."
   ]
  },
  {
   "cell_type": "code",
   "execution_count": 11,
   "id": "327796bc-73c5-4dfa-8a50-7cbef165b1a6",
   "metadata": {},
   "outputs": [],
   "source": [
    "poly = PolynomialFeatures(degree=3,interaction_only=True,include_bias=False)\n",
    "X_poly = poly.fit_transform(df[continuous])\n",
    "df_poly = pd.DataFrame(X_poly, columns=poly.get_feature_names_out(continuous))\n",
    "df_poly['resale_price'] = y\n",
    "df_poly_corr = df_poly.corr()\n",
    "features = df_poly_corr[abs(df_poly_corr['resale_price']) > 0.5]['resale_price'].index\n",
    "df_poly = df_poly[features]\n",
    "df_poly.to_csv('datasets/poly-feat-deg-3.csv', index=False)"
   ]
  },
  {
   "cell_type": "markdown",
   "id": "2d229089-a695-496b-b3c7-9c1152936f25",
   "metadata": {},
   "source": [
    "The below csv file was obtained with the code above, ran with degree = 3.It took >1200secs to run the block with degree = 3. For your convenience, we have saved a copy of the csv file for you to run so you do not have to wait that long."
   ]
  },
  {
   "cell_type": "code",
   "execution_count": 12,
   "id": "bd06403c-34b3-4f1d-a09a-42a9a1fb503b",
   "metadata": {},
   "outputs": [],
   "source": [
    "df_poly = pd.read_csv('../datasets/poly-feat-deg-3.csv')"
   ]
  },
  {
   "cell_type": "markdown",
   "id": "5e849622-edd3-4aea-a4d2-bef90d0774cd",
   "metadata": {},
   "source": [
    "We now proceed to check the scores produced by a subset of these features. Notice that only area and max level is still in the list of features as standalone features. This is because the correlation coefficient threshold was increased to 0.5 from the previous 0.3. We will toss out those that \"does not make sense\" and check for multicollinearity after."
   ]
  },
  {
   "cell_type": "code",
   "execution_count": 13,
   "id": "a54cdb39-fc4a-4030-9b18-1f511ff345ce",
   "metadata": {},
   "outputs": [
    {
     "data": {
      "text/html": [
       "<div>\n",
       "<style scoped>\n",
       "    .dataframe tbody tr th:only-of-type {\n",
       "        vertical-align: middle;\n",
       "    }\n",
       "\n",
       "    .dataframe tbody tr th {\n",
       "        vertical-align: top;\n",
       "    }\n",
       "\n",
       "    .dataframe thead th {\n",
       "        text-align: right;\n",
       "    }\n",
       "</style>\n",
       "<table border=\"1\" class=\"dataframe\">\n",
       "  <thead>\n",
       "    <tr style=\"text-align: right;\">\n",
       "      <th></th>\n",
       "      <th>floor_area_sqm</th>\n",
       "      <th>mid</th>\n",
       "      <th>hdb_age</th>\n",
       "      <th>max_floor_lvl</th>\n",
       "    </tr>\n",
       "  </thead>\n",
       "  <tbody>\n",
       "    <tr>\n",
       "      <th>floor_area_sqm</th>\n",
       "      <td>1.000000</td>\n",
       "      <td>0.027494</td>\n",
       "      <td>-0.305761</td>\n",
       "      <td>0.080437</td>\n",
       "    </tr>\n",
       "    <tr>\n",
       "      <th>mid</th>\n",
       "      <td>0.027494</td>\n",
       "      <td>1.000000</td>\n",
       "      <td>-0.259764</td>\n",
       "      <td>0.552800</td>\n",
       "    </tr>\n",
       "    <tr>\n",
       "      <th>hdb_age</th>\n",
       "      <td>-0.305761</td>\n",
       "      <td>-0.259764</td>\n",
       "      <td>1.000000</td>\n",
       "      <td>-0.454025</td>\n",
       "    </tr>\n",
       "    <tr>\n",
       "      <th>max_floor_lvl</th>\n",
       "      <td>0.080437</td>\n",
       "      <td>0.552800</td>\n",
       "      <td>-0.454025</td>\n",
       "      <td>1.000000</td>\n",
       "    </tr>\n",
       "  </tbody>\n",
       "</table>\n",
       "</div>"
      ],
      "text/plain": [
       "                floor_area_sqm       mid   hdb_age  max_floor_lvl\n",
       "floor_area_sqm        1.000000  0.027494 -0.305761       0.080437\n",
       "mid                   0.027494  1.000000 -0.259764       0.552800\n",
       "hdb_age              -0.305761 -0.259764  1.000000      -0.454025\n",
       "max_floor_lvl         0.080437  0.552800 -0.454025       1.000000"
      ]
     },
     "execution_count": 13,
     "metadata": {},
     "output_type": "execute_result"
    }
   ],
   "source": [
    "df[baseline].corr()"
   ]
  },
  {
   "cell_type": "markdown",
   "id": "ba39e29e-21a0-4675-8576-d80f646aa681",
   "metadata": {},
   "source": [
    "<a id='sidenote'></a>**Side note:**\n",
    "Notice how age and max level has a -0.45 correlation coefficient, this could indicate that newer hdb buildings are being built with more levels, and therefore max level affects housing prices because the buildings are new.\n",
    "\n",
    "[Back](#back)"
   ]
  },
  {
   "cell_type": "code",
   "execution_count": 14,
   "id": "e22d5624-a225-4d06-9e24-940435b498dd",
   "metadata": {
    "tags": []
   },
   "outputs": [
    {
     "data": {
      "image/png": "[encoded data removed]",
      "text/plain": [
       "<Figure size 1000x1000 with 2 Axes>"
      ]
     },
     "metadata": {},
     "output_type": "display_data"
    }
   ],
   "source": [
    "df_poly_corr = df_poly.drop(columns=['resale_price']).corr().round(2)\n",
    "plt.figure(figsize=(10,10))\n",
    "sns.heatmap(df_poly_corr, annot = True);"
   ]
  },
  {
   "cell_type": "markdown",
   "id": "57a155a4-4883-4613-b01a-6487d19c088a",
   "metadata": {},
   "source": [
    "<a id=garbage></a>Scroll up!\n",
    "\n",
    "[Back](#obs)"
   ]
  },
  {
   "cell_type": "markdown",
   "id": "7552f600-e65d-4937-b7f0-f2846a6f7297",
   "metadata": {},
   "source": [
    "### Model prep:"
   ]
  },
  {
   "cell_type": "code",
   "execution_count": 15,
   "id": "453ec0de-3fe6-41a3-876a-19b039bf3ae7",
   "metadata": {},
   "outputs": [],
   "source": [
    "X = df_poly.drop(columns=['resale_price']) #QUESTION: CONSIDERING THEY ARE INTERACTION TERMS, DOES THE MULTICOLLINEARITY IN THIS CASE MEAN ANYTHING?\n",
    "y = df['resale_price']\n",
    "features_for_test_csv = X.columns\n",
    "\n",
    "X_train_1, X_test_1, y_train_1, y_test_1 = train_test_split(X,\n",
    "                                                    y,\n",
    "                                                    test_size=0.2,\n",
    "                                                    random_state=42)\n",
    "\n",
    "#scaling since using lasso, ridge\n",
    "ss = StandardScaler()\n",
    "X_train_1 = ss.fit_transform(X_train_1)\n",
    "X_test_1 = ss.transform(X_test_1)"
   ]
  },
  {
   "cell_type": "markdown",
   "id": "85787879-a574-45ea-acad-fe41b43671a8",
   "metadata": {},
   "source": [
    "Instantiate the models:"
   ]
  },
  {
   "cell_type": "code",
   "execution_count": 16,
   "id": "aa090281-d93d-425f-a78f-183f8a1ed604",
   "metadata": {},
   "outputs": [],
   "source": [
    "lr = LinearRegression()\n",
    "lasso = LassoCV(n_alphas=200)\n",
    "ridge = RidgeCV(alphas=np.linspace(.1, 10, 100))"
   ]
  },
  {
   "cell_type": "markdown",
   "id": "bfd16648-f753-4029-8fed-e32f7b5d1f7c",
   "metadata": {},
   "source": [
    "Cross validate:"
   ]
  },
  {
   "cell_type": "code",
   "execution_count": 17,
   "id": "ece4494a-9bec-44fb-bde7-781231e20079",
   "metadata": {},
   "outputs": [
    {
     "data": {
      "text/plain": [
       "69655.23248051733"
      ]
     },
     "execution_count": 17,
     "metadata": {},
     "output_type": "execute_result"
    }
   ],
   "source": [
    "lr_scores = -cross_val_score(lr, X_train_1, y_train_1, \n",
    "                             scoring='neg_root_mean_squared_error')\n",
    "lr_scores.mean()"
   ]
  },
  {
   "cell_type": "code",
   "execution_count": 18,
   "id": "0751a82c-3e38-4986-b914-a8b401ba39ca",
   "metadata": {},
   "outputs": [
    {
     "data": {
      "text/plain": [
       "70701.60597600842"
      ]
     },
     "execution_count": 18,
     "metadata": {},
     "output_type": "execute_result"
    }
   ],
   "source": [
    "lasso_scores = -cross_val_score(lasso, X_train_1, y_train_1, \n",
    "                                scoring='neg_root_mean_squared_error')\n",
    "lasso_scores.mean()"
   ]
  },
  {
   "cell_type": "code",
   "execution_count": 19,
   "id": "9b2b6fd0-9b9e-48b8-97b6-482139f3556a",
   "metadata": {},
   "outputs": [
    {
     "data": {
      "text/plain": [
       "69983.1948544522"
      ]
     },
     "execution_count": 19,
     "metadata": {},
     "output_type": "execute_result"
    }
   ],
   "source": [
    "ridge_scores = -cross_val_score(ridge, X_train_1, y_train_1, \n",
    "                                scoring='neg_root_mean_squared_error')\n",
    "ridge_scores.mean()"
   ]
  },
  {
   "cell_type": "markdown",
   "id": "536c964d-45df-4a01-9b9e-54df2dc70de5",
   "metadata": {},
   "source": [
    "Overall, our scores seem to have improved, but not by much."
   ]
  },
  {
   "cell_type": "markdown",
   "id": "6e218b6c-926c-43f4-8217-48250ee5cb4c",
   "metadata": {},
   "source": [
    "As per the baseline model, let's check the coefficients of the model:"
   ]
  },
  {
   "cell_type": "code",
   "execution_count": 20,
   "id": "dc33df89-0ff3-41fc-af51-b4c5c0111ad9",
   "metadata": {},
   "outputs": [
    {
     "data": {
      "text/html": [
       "<div>\n",
       "<style scoped>\n",
       "    .dataframe tbody tr th:only-of-type {\n",
       "        vertical-align: middle;\n",
       "    }\n",
       "\n",
       "    .dataframe tbody tr th {\n",
       "        vertical-align: top;\n",
       "    }\n",
       "\n",
       "    .dataframe thead th {\n",
       "        text-align: right;\n",
       "    }\n",
       "</style>\n",
       "<table border=\"1\" class=\"dataframe\">\n",
       "  <thead>\n",
       "    <tr style=\"text-align: right;\">\n",
       "      <th></th>\n",
       "      <th>model_1_coef</th>\n",
       "      <th>baseline_coef</th>\n",
       "    </tr>\n",
       "  </thead>\n",
       "  <tbody>\n",
       "    <tr>\n",
       "      <th>floor_area_sqm</th>\n",
       "      <td>4.636255e+06</td>\n",
       "      <td>87104.895214</td>\n",
       "    </tr>\n",
       "    <tr>\n",
       "      <th>max_floor_lvl</th>\n",
       "      <td>7.382507e+06</td>\n",
       "      <td>57572.956522</td>\n",
       "    </tr>\n",
       "    <tr>\n",
       "      <th>5room_sold hawker_within_2km</th>\n",
       "      <td>2.477777e+05</td>\n",
       "      <td>NaN</td>\n",
       "    </tr>\n",
       "    <tr>\n",
       "      <th>floor_area_sqm max_floor_lvl</th>\n",
       "      <td>-1.303559e+07</td>\n",
       "      <td>NaN</td>\n",
       "    </tr>\n",
       "    <tr>\n",
       "      <th>floor_area_sqm mid</th>\n",
       "      <td>-1.887414e+06</td>\n",
       "      <td>NaN</td>\n",
       "    </tr>\n",
       "    <tr>\n",
       "      <th>floor_area_sqm tranc_year</th>\n",
       "      <td>-4.553746e+06</td>\n",
       "      <td>NaN</td>\n",
       "    </tr>\n",
       "    <tr>\n",
       "      <th>max_floor_lvl tranc_year</th>\n",
       "      <td>-7.378557e+06</td>\n",
       "      <td>NaN</td>\n",
       "    </tr>\n",
       "    <tr>\n",
       "      <th>5room_sold floor_area_sqm hawker_within_2km</th>\n",
       "      <td>-3.628514e+04</td>\n",
       "      <td>NaN</td>\n",
       "    </tr>\n",
       "    <tr>\n",
       "      <th>5room_sold hawker_within_2km max_floor_lvl</th>\n",
       "      <td>-2.907095e+03</td>\n",
       "      <td>NaN</td>\n",
       "    </tr>\n",
       "    <tr>\n",
       "      <th>5room_sold hawker_within_2km tranc_year</th>\n",
       "      <td>-2.165987e+05</td>\n",
       "      <td>NaN</td>\n",
       "    </tr>\n",
       "    <tr>\n",
       "      <th>floor_area_sqm hawker_food_stalls max_floor_lvl</th>\n",
       "      <td>-5.125431e+03</td>\n",
       "      <td>NaN</td>\n",
       "    </tr>\n",
       "    <tr>\n",
       "      <th>floor_area_sqm hawker_within_2km max_floor_lvl</th>\n",
       "      <td>6.250643e+04</td>\n",
       "      <td>NaN</td>\n",
       "    </tr>\n",
       "    <tr>\n",
       "      <th>floor_area_sqm hawker_within_2km mid</th>\n",
       "      <td>1.213616e+03</td>\n",
       "      <td>NaN</td>\n",
       "    </tr>\n",
       "    <tr>\n",
       "      <th>floor_area_sqm max_floor_lvl mid</th>\n",
       "      <td>1.259167e+04</td>\n",
       "      <td>NaN</td>\n",
       "    </tr>\n",
       "    <tr>\n",
       "      <th>floor_area_sqm max_floor_lvl tranc_year</th>\n",
       "      <td>1.304955e+07</td>\n",
       "      <td>NaN</td>\n",
       "    </tr>\n",
       "    <tr>\n",
       "      <th>floor_area_sqm mid tranc_year</th>\n",
       "      <td>1.899208e+06</td>\n",
       "      <td>NaN</td>\n",
       "    </tr>\n",
       "    <tr>\n",
       "      <th>mid</th>\n",
       "      <td>NaN</td>\n",
       "      <td>18426.270513</td>\n",
       "    </tr>\n",
       "    <tr>\n",
       "      <th>hdb_age</th>\n",
       "      <td>NaN</td>\n",
       "      <td>6015.104569</td>\n",
       "    </tr>\n",
       "  </tbody>\n",
       "</table>\n",
       "</div>"
      ],
      "text/plain": [
       "                                                 model_1_coef  baseline_coef\n",
       "floor_area_sqm                                   4.636255e+06   87104.895214\n",
       "max_floor_lvl                                    7.382507e+06   57572.956522\n",
       "5room_sold hawker_within_2km                     2.477777e+05            NaN\n",
       "floor_area_sqm max_floor_lvl                    -1.303559e+07            NaN\n",
       "floor_area_sqm mid                              -1.887414e+06            NaN\n",
       "floor_area_sqm tranc_year                       -4.553746e+06            NaN\n",
       "max_floor_lvl tranc_year                        -7.378557e+06            NaN\n",
       "5room_sold floor_area_sqm hawker_within_2km     -3.628514e+04            NaN\n",
       "5room_sold hawker_within_2km max_floor_lvl      -2.907095e+03            NaN\n",
       "5room_sold hawker_within_2km tranc_year         -2.165987e+05            NaN\n",
       "floor_area_sqm hawker_food_stalls max_floor_lvl -5.125431e+03            NaN\n",
       "floor_area_sqm hawker_within_2km max_floor_lvl   6.250643e+04            NaN\n",
       "floor_area_sqm hawker_within_2km mid             1.213616e+03            NaN\n",
       "floor_area_sqm max_floor_lvl mid                 1.259167e+04            NaN\n",
       "floor_area_sqm max_floor_lvl tranc_year          1.304955e+07            NaN\n",
       "floor_area_sqm mid tranc_year                    1.899208e+06            NaN\n",
       "mid                                                       NaN   18426.270513\n",
       "hdb_age                                                   NaN    6015.104569"
      ]
     },
     "execution_count": 20,
     "metadata": {},
     "output_type": "execute_result"
    }
   ],
   "source": [
    "lr.fit(X_train_1, y_train_1)\n",
    "compare = pd.concat([pd.DataFrame(lr.coef_, index=X.columns),\n",
    "           pd.DataFrame(lr_base.coef_, index=baseline)],\n",
    "          axis = 1)\n",
    "compare.columns = ['model_1_coef', 'baseline_coef']\n",
    "compare"
   ]
  },
  {
   "cell_type": "markdown",
   "id": "ad8ff49a-8ead-4438-92f1-954fab60d511",
   "metadata": {},
   "source": [
    "The 2nd column denotes the coefficients from the baseline model, the notice that area and maximum floor are very significant in the baseline model. They continue to be one of the more significant features in the improved model. The features with the highest significance are (area * max floor) and (area * max floor * transaction year)"
   ]
  },
  {
   "cell_type": "code",
   "execution_count": 21,
   "id": "b0c43cb7-7fdf-4271-9462-f0171a2a5d57",
   "metadata": {},
   "outputs": [
    {
     "data": {
      "text/plain": [
       "69752.17468764973"
      ]
     },
     "execution_count": 21,
     "metadata": {},
     "output_type": "execute_result"
    }
   ],
   "source": [
    "mean_squared_error(y_test_1, lr.predict(X_test_1)) ** 0.5"
   ]
  },
  {
   "cell_type": "code",
   "execution_count": 22,
   "id": "9e71568c-b9c8-48c4-9975-9de83f73e49f",
   "metadata": {},
   "outputs": [
    {
     "data": {
      "text/plain": [
       "69643.98239130751"
      ]
     },
     "execution_count": 22,
     "metadata": {},
     "output_type": "execute_result"
    }
   ],
   "source": [
    "mean_squared_error(y_train_1, lr.predict(X_train_1)) ** 0.5"
   ]
  },
  {
   "cell_type": "code",
   "execution_count": 23,
   "id": "2c881857-659d-4cc7-8d78-880a30f5a7b6",
   "metadata": {},
   "outputs": [
    {
     "data": {
      "text/plain": [
       "0.755123267241431"
      ]
     },
     "execution_count": 23,
     "metadata": {},
     "output_type": "execute_result"
    }
   ],
   "source": [
    "lr.score(X_train_1, y_train_1)"
   ]
  },
  {
   "cell_type": "markdown",
   "id": "8aa0472b-fdf9-4b29-b5c8-0d610375101f",
   "metadata": {},
   "source": [
    "**Kaggle submission!**"
   ]
  },
  {
   "cell_type": "code",
   "execution_count": 24,
   "id": "fb493cda-810b-4571-912d-6053d1702f3a",
   "metadata": {},
   "outputs": [],
   "source": [
    "#import and clean\n",
    "df_test = pd.read_csv('../datasets/test.csv', low_memory=False)\n",
    "df_test.columns = df_test.columns.str.lower().str.replace(' ', '_')\n",
    "df_test_store = df_test[['id']]\n",
    "df_test = df_test.fillna(0)\n",
    "\n",
    "#replicating polynomial features used above\n",
    "poly = PolynomialFeatures(degree=3,interaction_only=True,include_bias=False)\n",
    "X_poly = poly.fit_transform(df_test[continuous])\n",
    "df_poly_test = pd.DataFrame(X_poly, columns=poly.get_feature_names_out(continuous))\n",
    "\n",
    "\n",
    "df_test_1 = df_poly_test[features_for_test_csv]\n",
    "df_test = ss.transform(df_test_1)\n",
    "df_submit = pd.DataFrame(lr.predict(df_test), columns=['Predicted'])\n",
    "df_submit = pd.concat([df_test_store, df_submit], axis = 1)\n",
    "df_submit.columns = df_submit.columns.str.title()\n",
    "df_submit.to_csv('datasets/test-score.csv', index=False)"
   ]
  },
  {
   "cell_type": "markdown",
   "id": "f8479585-3e39-42b9-9564-34523038c7a9",
   "metadata": {},
   "source": [
    "The test set looks correct judging from the mean."
   ]
  },
  {
   "cell_type": "code",
   "execution_count": 25,
   "id": "fb7d2a32-1db6-4ae5-8f12-849fa5fbadb2",
   "metadata": {},
   "outputs": [
    {
     "data": {
      "text/html": [
       "<div>\n",
       "<style scoped>\n",
       "    .dataframe tbody tr th:only-of-type {\n",
       "        vertical-align: middle;\n",
       "    }\n",
       "\n",
       "    .dataframe tbody tr th {\n",
       "        vertical-align: top;\n",
       "    }\n",
       "\n",
       "    .dataframe thead th {\n",
       "        text-align: right;\n",
       "    }\n",
       "</style>\n",
       "<table border=\"1\" class=\"dataframe\">\n",
       "  <thead>\n",
       "    <tr style=\"text-align: right;\">\n",
       "      <th></th>\n",
       "      <th>X_mean</th>\n",
       "      <th>df_test_mean</th>\n",
       "    </tr>\n",
       "  </thead>\n",
       "  <tbody>\n",
       "    <tr>\n",
       "      <th>floor_area_sqm</th>\n",
       "      <td>9.772548e+01</td>\n",
       "      <td>9.692382e+01</td>\n",
       "    </tr>\n",
       "    <tr>\n",
       "      <th>max_floor_lvl</th>\n",
       "      <td>1.513526e+01</td>\n",
       "      <td>1.513001e+01</td>\n",
       "    </tr>\n",
       "    <tr>\n",
       "      <th>5room_sold hawker_within_2km</th>\n",
       "      <td>8.530895e+01</td>\n",
       "      <td>8.392735e+01</td>\n",
       "    </tr>\n",
       "    <tr>\n",
       "      <th>floor_area_sqm max_floor_lvl</th>\n",
       "      <td>1.490878e+03</td>\n",
       "      <td>1.478036e+03</td>\n",
       "    </tr>\n",
       "    <tr>\n",
       "      <th>floor_area_sqm mid</th>\n",
       "      <td>8.120706e+02</td>\n",
       "      <td>8.052167e+02</td>\n",
       "    </tr>\n",
       "    <tr>\n",
       "      <th>floor_area_sqm tranc_year</th>\n",
       "      <td>1.970611e+05</td>\n",
       "      <td>1.954446e+05</td>\n",
       "    </tr>\n",
       "    <tr>\n",
       "      <th>max_floor_lvl tranc_year</th>\n",
       "      <td>3.052131e+04</td>\n",
       "      <td>3.051123e+04</td>\n",
       "    </tr>\n",
       "    <tr>\n",
       "      <th>5room_sold floor_area_sqm hawker_within_2km</th>\n",
       "      <td>9.243537e+03</td>\n",
       "      <td>9.171010e+03</td>\n",
       "    </tr>\n",
       "    <tr>\n",
       "      <th>5room_sold hawker_within_2km max_floor_lvl</th>\n",
       "      <td>1.997726e+03</td>\n",
       "      <td>1.941258e+03</td>\n",
       "    </tr>\n",
       "    <tr>\n",
       "      <th>5room_sold hawker_within_2km tranc_year</th>\n",
       "      <td>1.720394e+05</td>\n",
       "      <td>1.692579e+05</td>\n",
       "    </tr>\n",
       "    <tr>\n",
       "      <th>floor_area_sqm hawker_food_stalls max_floor_lvl</th>\n",
       "      <td>7.153999e+04</td>\n",
       "      <td>7.098656e+04</td>\n",
       "    </tr>\n",
       "    <tr>\n",
       "      <th>floor_area_sqm hawker_within_2km max_floor_lvl</th>\n",
       "      <td>5.768077e+03</td>\n",
       "      <td>5.827367e+03</td>\n",
       "    </tr>\n",
       "    <tr>\n",
       "      <th>floor_area_sqm hawker_within_2km mid</th>\n",
       "      <td>3.090631e+03</td>\n",
       "      <td>3.132625e+03</td>\n",
       "    </tr>\n",
       "    <tr>\n",
       "      <th>floor_area_sqm max_floor_lvl mid</th>\n",
       "      <td>1.419264e+04</td>\n",
       "      <td>1.404392e+04</td>\n",
       "    </tr>\n",
       "    <tr>\n",
       "      <th>floor_area_sqm max_floor_lvl tranc_year</th>\n",
       "      <td>3.006471e+06</td>\n",
       "      <td>2.980609e+06</td>\n",
       "    </tr>\n",
       "    <tr>\n",
       "      <th>floor_area_sqm mid tranc_year</th>\n",
       "      <td>1.637614e+06</td>\n",
       "      <td>1.623819e+06</td>\n",
       "    </tr>\n",
       "  </tbody>\n",
       "</table>\n",
       "</div>"
      ],
      "text/plain": [
       "                                                       X_mean  df_test_mean\n",
       "floor_area_sqm                                   9.772548e+01  9.692382e+01\n",
       "max_floor_lvl                                    1.513526e+01  1.513001e+01\n",
       "5room_sold hawker_within_2km                     8.530895e+01  8.392735e+01\n",
       "floor_area_sqm max_floor_lvl                     1.490878e+03  1.478036e+03\n",
       "floor_area_sqm mid                               8.120706e+02  8.052167e+02\n",
       "floor_area_sqm tranc_year                        1.970611e+05  1.954446e+05\n",
       "max_floor_lvl tranc_year                         3.052131e+04  3.051123e+04\n",
       "5room_sold floor_area_sqm hawker_within_2km      9.243537e+03  9.171010e+03\n",
       "5room_sold hawker_within_2km max_floor_lvl       1.997726e+03  1.941258e+03\n",
       "5room_sold hawker_within_2km tranc_year          1.720394e+05  1.692579e+05\n",
       "floor_area_sqm hawker_food_stalls max_floor_lvl  7.153999e+04  7.098656e+04\n",
       "floor_area_sqm hawker_within_2km max_floor_lvl   5.768077e+03  5.827367e+03\n",
       "floor_area_sqm hawker_within_2km mid             3.090631e+03  3.132625e+03\n",
       "floor_area_sqm max_floor_lvl mid                 1.419264e+04  1.404392e+04\n",
       "floor_area_sqm max_floor_lvl tranc_year          3.006471e+06  2.980609e+06\n",
       "floor_area_sqm mid tranc_year                    1.637614e+06  1.623819e+06"
      ]
     },
     "execution_count": 25,
     "metadata": {},
     "output_type": "execute_result"
    }
   ],
   "source": [
    "pd.concat([X.mean(), df_test_1.mean()], axis = 1).rename({0:'X_mean', 1:'df_test_mean'}, axis = 1)"
   ]
  },
  {
   "cell_type": "markdown",
   "id": "b5ec1200-ed00-436c-a2bd-46dbfaaa0ff5",
   "metadata": {},
   "source": [
    "**STOP HERE** for kaggle submission. Note that we only have continuous features up to here. Our kaggle public score was 71292.\n",
    "\n",
    "Read on for interpretation of our final model and conclusion."
   ]
  },
  {
   "cell_type": "markdown",
   "id": "fd052296-677d-46b4-aa50-656b4321bcda",
   "metadata": {},
   "source": [
    "Our model is still under-fitted. The error is still very large.\\\n",
    "From here on out, we will be repeating the process of adding features and training the models, the same as what we had just done. As such there will not be as much details until we get the final model."
   ]
  },
  {
   "cell_type": "code",
   "execution_count": 26,
   "id": "9bbd99f2-f416-436d-8574-a21124e2307b",
   "metadata": {},
   "outputs": [],
   "source": [
    "def CT_PF_slave(dataframe, threshold):\n",
    "    if 'resale_price' in dataframe.columns:\n",
    "        dataframe = dataframe.drop('resale_price', axis=1)\n",
    "        \n",
    "    ss=StandardScaler()\n",
    "    ohe=OneHotEncoder(sparse=False, handle_unknown='ignore')\n",
    "    cat_vars = dataframe.dtypes[dataframe.dtypes == 'object'].index\n",
    "    num_vars = dataframe.dtypes[dataframe.dtypes != 'object'].index\n",
    "\n",
    "    preprocessor = ColumnTransformer(\n",
    "        transformers=[\n",
    "            ('nums', ss, num_vars),\n",
    "            ('cat', ohe, cat_vars)\n",
    "        ])\n",
    "    \n",
    "    columns = dataframe.columns\n",
    "    dataframe = preprocessor.fit_transform(dataframe)\n",
    "    columns = preprocessor.get_feature_names_out(columns)\n",
    "    #Note that we will be filtering by corr even though it does not really make sense for categorical features. (Interaction terms will probably remain)\n",
    "    #This is because if we do not get rid of features, modeling_slave will run into MemoryError: Unable to allocate 1.32 GiB for an array with shape (1890, 94060) and data type float64\n",
    "    \n",
    "    poly = PolynomialFeatures(degree=2,interaction_only=False,include_bias=False)\n",
    "    X_poly = poly.fit_transform(dataframe)\n",
    "    df_poly = pd.DataFrame(X_poly, columns=poly.get_feature_names_out(columns))\n",
    "    df_poly['resale_price'] = y\n",
    "    df_poly_corr = df_poly.corr()\n",
    "    features = df_poly_corr[(abs(df_poly_corr['resale_price']) > threshold) & (df_poly_corr['resale_price'] != 1)]['resale_price'].index\n",
    "\n",
    "    return df_poly[features], df_poly_corr #df_poly_corr in case you need it later on.\n",
    "    "
   ]
  },
  {
   "cell_type": "code",
   "execution_count": 27,
   "id": "c9b12a64-24e3-415d-b1dd-95ebf9e708e9",
   "metadata": {},
   "outputs": [],
   "source": [
    "def modeling_slave(dataframe):\n",
    "    X = dataframe\n",
    "    y = df['resale_price']\n",
    "    features = X.columns #columns so that we can apply .get_feature_names_out later on.\n",
    "        \n",
    "    X_train, X_test, y_train, y_test = train_test_split(X,\n",
    "                                                    y,\n",
    "                                                    test_size=0.2,\n",
    "                                                    random_state=42)\n",
    "    ss=StandardScaler()\n",
    "    X_train = ss.fit_transform(X_train)\n",
    "    X_test = ss.transform(X_test)\n",
    "    \n",
    "    #We have dropped lasso for this project because it simply takes too long to run, and keeps running into convergence problems.\n",
    "    lr = LinearRegression()\n",
    "    # lasso = LassoCV(n_alphas=200, max_iter=10000, verbose=1)\n",
    "    ridge = RidgeCV(alphas=np.linspace(.1, 10, 100))\n",
    "    \n",
    "    \n",
    "    lr_scores = -cross_val_score(lr, X_train, y_train, \n",
    "                                 scoring='neg_root_mean_squared_error')\n",
    "\n",
    "    # lasso_scores = -cross_val_score(lasso, X_train, y_train, \n",
    "    #                                 scoring='neg_root_mean_squared_error')\n",
    "\n",
    "    ridge_scores = -cross_val_score(ridge, X_train, y_train, \n",
    "                                    scoring='neg_root_mean_squared_error')\n",
    "    \n",
    "    \n",
    "    # instantiate RFECV. Note that features are possibly being deleted so we need to return columns via get_feature_names_out.\n",
    "    selector_lr = RFECV(lr, n_jobs=-1, min_features_to_select=30)\n",
    "    # selector_lasso = RFECV(lasso, n_jobs=-1, min_features_to_select=30)\n",
    "    selector_ridge = RFECV(ridge, n_jobs=-1, min_features_to_select=30)\n",
    "    \n",
    "\n",
    "    X_train_lr = selector_lr.fit_transform(X_train, y_train)\n",
    "    X_test_lr = selector_lr.transform(X_test)\n",
    "    # X_train_lasso = selector_lasso.fit_transform(X_train, y_train)\n",
    "    # X_test_lasso = selector_lasso.transform(X_test)\n",
    "    X_train_ridge = selector_ridge.fit_transform(X_train, y_train)\n",
    "    X_test_ridge = selector_ridge.transform(X_test)\n",
    "\n",
    "\n",
    "    lr_scores = -cross_val_score(lr, X_train_lr, y_train, \n",
    "                                 scoring='neg_root_mean_squared_error')\n",
    "\n",
    "    # lasso_scores = -cross_val_score(lasso, X_train_lasso, y_train, \n",
    "    #                                 scoring='neg_root_mean_squared_error')\n",
    "\n",
    "    ridge_scores = -cross_val_score(ridge, X_train_ridge, y_train, \n",
    "                                    scoring='neg_root_mean_squared_error')\n",
    "\n",
    "    choice = {lr_scores.mean(): [lr, X_train_lr, X_test_lr, selector_lr], ridge_scores.mean(): [ridge, X_train_ridge, X_test_ridge, selector_ridge]}\n",
    "    minimum = min([lr_scores.mean(), ridge_scores.mean()])\n",
    "    \n",
    "    # choice = {lr_scores.mean(): [lr, X_train_lr, X_test_lr, selector_lr], lasso_scores.mean(): [lasso, X_train_lasso, X_test_lasso, selector_lasso], ridge_scores.mean(): [ridge, X_train_ridge, X_test_ridge, selector_ridge]}\n",
    "    # minimum = min([lr_scores.mean(), lasso_scores.mean(), ridge_scores.mean()])\n",
    "    \n",
    "    X_train = choice[minimum][1]\n",
    "    X_test = choice[minimum][2]\n",
    "    columns = choice[minimum][3].get_feature_names_out(features)\n",
    "\n",
    "    print(f'The model with the lowest RMSE score {minimum} is {choice[minimum][0]} ')\n",
    "    \n",
    "    return X_train, X_test, y_train, y_test, columns"
   ]
  },
  {
   "cell_type": "code",
   "execution_count": 29,
   "id": "cabdbe80-3a26-4d6d-9f47-ad43f7c01e79",
   "metadata": {},
   "outputs": [
    {
     "data": {
      "text/plain": [
       "(146970, 70)"
      ]
     },
     "execution_count": 29,
     "metadata": {},
     "output_type": "execute_result"
    }
   ],
   "source": [
    "df_1 = pd.concat([df_poly, df[['flat_model', 'flat_type', 'planning_area']]], axis = 1)\n",
    "df_2, df_2_corr = CT_PF_slave(df_1, threshold = 0.4)\n",
    "df_2.shape"
   ]
  },
  {
   "cell_type": "code",
   "execution_count": 30,
   "id": "8d3009a5-aa01-49c7-8216-1b67e338554b",
   "metadata": {},
   "outputs": [],
   "source": [
    "df_2.to_csv('datasets/full-df.csv', index=False)"
   ]
  },
  {
   "cell_type": "markdown",
   "id": "a62f4b5d-92b1-4a68-8803-3880c7f75060",
   "metadata": {},
   "source": [
    "Again, cell above took 1200secs to run. "
   ]
  },
  {
   "cell_type": "code",
   "execution_count": 31,
   "id": "91fb2374-0658-4092-b310-79825bc09cb3",
   "metadata": {},
   "outputs": [],
   "source": [
    "df_2 = pd.read_csv('../datasets/full-df.csv')"
   ]
  },
  {
   "cell_type": "markdown",
   "id": "decc00c5-71bc-4bdb-87d8-589dbde4b9b0",
   "metadata": {},
   "source": [
    "**Please note that you do not have to run the function**"
   ]
  },
  {
   "cell_type": "code",
   "execution_count": 32,
   "id": "c676822c-06fb-4348-b2dc-2ef195f1b976",
   "metadata": {},
   "outputs": [
    {
     "name": "stdout",
     "output_type": "stream",
     "text": [
      "The model with the lowest RMSE score 66253.90725992566 is LinearRegression() \n"
     ]
    }
   ],
   "source": [
    "X_train, X_test, y_train, y_test, columns = modeling_slave(df_2)"
   ]
  },
  {
   "cell_type": "code",
   "execution_count": 33,
   "id": "7df306a8-1038-4552-afd3-e5050f481e18",
   "metadata": {},
   "outputs": [],
   "source": [
    "df_columns = pd.DataFrame(X_train, columns = columns).head(0)\n",
    "df_columns.to_csv('datasets/df-columns.csv',index=False)"
   ]
  },
  {
   "cell_type": "markdown",
   "id": "5e87c8fa-1b77-4497-ba8b-5a27b87335ea",
   "metadata": {},
   "source": [
    "Saving the columns so we do not have to run function to obtain it"
   ]
  },
  {
   "cell_type": "code",
   "execution_count": 34,
   "id": "a5b5908c-da00-4a9a-9298-62405722d7ed",
   "metadata": {},
   "outputs": [],
   "source": [
    "columns = pd.read_csv('../datasets/df-columns.csv').columns"
   ]
  },
  {
   "cell_type": "code",
   "execution_count": 35,
   "id": "80655471-805d-4e3d-b7f8-dccf06294144",
   "metadata": {},
   "outputs": [
    {
     "data": {
      "text/plain": [
       "70"
      ]
     },
     "execution_count": 35,
     "metadata": {},
     "output_type": "execute_result"
    }
   ],
   "source": [
    "len(columns)"
   ]
  },
  {
   "cell_type": "markdown",
   "id": "b1fdf446-cef1-48e6-b3ce-ef442ba84632",
   "metadata": {},
   "source": [
    "It seems like the RFECV did not throw any values away. It is probably not advisable to use the RFECV for too many columns, as it will simply take too long to compute. It also does not seem to work well with lassoCV. We will not be running another iteration of this. We proceed too fit the model to describe the .coef_ and predict our test.csv RMSE scores."
   ]
  },
  {
   "cell_type": "code",
   "execution_count": null,
   "id": "7585e668-b4a6-4d1e-9af8-62c83da18ddb",
   "metadata": {},
   "outputs": [],
   "source": [
    "#This was created in case X_train, X_test, y_train, y_test, columns = modeling_slave(df_2)\n",
    "#was not ran. Since the function was ran, we will not use this.\n",
    "def not_modeling_slave(dataframe):\n",
    "    X = dataframe\n",
    "    y = df['resale_price']\n",
    "        \n",
    "    X_train, X_test, y_train, y_test = train_test_split(X,\n",
    "                                                    y,\n",
    "                                                    test_size=0.2,\n",
    "                                                    random_state=42)\n",
    "    ss=StandardScaler()\n",
    "    X_train = ss.fit_transform(X_train)\n",
    "    X_test = ss.transform(X_test)\n",
    "    return X_train, X_test, y_train, y_test\n",
    "\n",
    "X_train, X_test, y_train, y_test = not_modeling_slave(df_2)"
   ]
  },
  {
   "cell_type": "code",
   "execution_count": 37,
   "id": "def23673-1049-465b-a203-36a6da86f227",
   "metadata": {},
   "outputs": [
    {
     "data": {
      "text/plain": [
       "66191.61220468926"
      ]
     },
     "execution_count": 37,
     "metadata": {},
     "output_type": "execute_result"
    }
   ],
   "source": [
    "lr_final = LinearRegression()\n",
    "lr_final.fit(X_train, y_train)\n",
    "RMSE_pred = mean_squared_error(y_test, lr_final.predict(X_test)) ** 0.5\n",
    "RMSE_pred"
   ]
  },
  {
   "cell_type": "markdown",
   "id": "78462058-1448-4f01-a744-77804336bcb8",
   "metadata": {},
   "source": [
    "We see only a very slight improvement compared to the model above."
   ]
  },
  {
   "cell_type": "code",
   "execution_count": 38,
   "id": "cd6481bb-49e7-4068-963d-0e09f5969dda",
   "metadata": {},
   "outputs": [
    {
     "data": {
      "text/html": [
       "<div>\n",
       "<style scoped>\n",
       "    .dataframe tbody tr th:only-of-type {\n",
       "        vertical-align: middle;\n",
       "    }\n",
       "\n",
       "    .dataframe tbody tr th {\n",
       "        vertical-align: top;\n",
       "    }\n",
       "\n",
       "    .dataframe thead th {\n",
       "        text-align: right;\n",
       "    }\n",
       "</style>\n",
       "<table border=\"1\" class=\"dataframe\">\n",
       "  <thead>\n",
       "    <tr style=\"text-align: right;\">\n",
       "      <th></th>\n",
       "      <th>final_model_coef</th>\n",
       "      <th>model_1_coef</th>\n",
       "      <th>baseline_coef</th>\n",
       "    </tr>\n",
       "  </thead>\n",
       "  <tbody>\n",
       "    <tr>\n",
       "      <th>nums__floor_area_sqm</th>\n",
       "      <td>4.514781e+06</td>\n",
       "      <td>NaN</td>\n",
       "      <td>NaN</td>\n",
       "    </tr>\n",
       "    <tr>\n",
       "      <th>nums__max_floor_lvl</th>\n",
       "      <td>2.525183e+08</td>\n",
       "      <td>NaN</td>\n",
       "      <td>NaN</td>\n",
       "    </tr>\n",
       "    <tr>\n",
       "      <th>nums__5room_sold hawker_within_2km</th>\n",
       "      <td>4.557116e+08</td>\n",
       "      <td>NaN</td>\n",
       "      <td>NaN</td>\n",
       "    </tr>\n",
       "    <tr>\n",
       "      <th>nums__floor_area_sqm max_floor_lvl</th>\n",
       "      <td>4.760782e+06</td>\n",
       "      <td>NaN</td>\n",
       "      <td>NaN</td>\n",
       "    </tr>\n",
       "    <tr>\n",
       "      <th>nums__floor_area_sqm mid</th>\n",
       "      <td>-2.274306e+06</td>\n",
       "      <td>NaN</td>\n",
       "      <td>NaN</td>\n",
       "    </tr>\n",
       "    <tr>\n",
       "      <th>nums__floor_area_sqm tranc_year</th>\n",
       "      <td>-4.395127e+06</td>\n",
       "      <td>NaN</td>\n",
       "      <td>NaN</td>\n",
       "    </tr>\n",
       "    <tr>\n",
       "      <th>nums__max_floor_lvl tranc_year</th>\n",
       "      <td>-9.202097e+07</td>\n",
       "      <td>NaN</td>\n",
       "      <td>NaN</td>\n",
       "    </tr>\n",
       "    <tr>\n",
       "      <th>nums__5room_sold floor_area_sqm hawker_within_2km</th>\n",
       "      <td>1.367810e+07</td>\n",
       "      <td>NaN</td>\n",
       "      <td>NaN</td>\n",
       "    </tr>\n",
       "    <tr>\n",
       "      <th>nums__5room_sold hawker_within_2km max_floor_lvl</th>\n",
       "      <td>-2.026418e+09</td>\n",
       "      <td>NaN</td>\n",
       "      <td>NaN</td>\n",
       "    </tr>\n",
       "    <tr>\n",
       "      <th>nums__5room_sold hawker_within_2km tranc_year</th>\n",
       "      <td>5.228650e+08</td>\n",
       "      <td>NaN</td>\n",
       "      <td>NaN</td>\n",
       "    </tr>\n",
       "    <tr>\n",
       "      <th>nums__floor_area_sqm hawker_food_stalls max_floor_lvl</th>\n",
       "      <td>-5.925547e+03</td>\n",
       "      <td>NaN</td>\n",
       "      <td>NaN</td>\n",
       "    </tr>\n",
       "    <tr>\n",
       "      <th>nums__floor_area_sqm hawker_within_2km max_floor_lvl</th>\n",
       "      <td>6.446379e+04</td>\n",
       "      <td>NaN</td>\n",
       "      <td>NaN</td>\n",
       "    </tr>\n",
       "    <tr>\n",
       "      <th>nums__floor_area_sqm hawker_within_2km mid</th>\n",
       "      <td>1.061127e+04</td>\n",
       "      <td>NaN</td>\n",
       "      <td>NaN</td>\n",
       "    </tr>\n",
       "    <tr>\n",
       "      <th>nums__floor_area_sqm max_floor_lvl mid</th>\n",
       "      <td>-8.722359e+03</td>\n",
       "      <td>NaN</td>\n",
       "      <td>NaN</td>\n",
       "    </tr>\n",
       "    <tr>\n",
       "      <th>nums__floor_area_sqm max_floor_lvl tranc_year</th>\n",
       "      <td>-7.137618e+06</td>\n",
       "      <td>NaN</td>\n",
       "      <td>NaN</td>\n",
       "    </tr>\n",
       "    <tr>\n",
       "      <th>nums__floor_area_sqm mid tranc_year</th>\n",
       "      <td>2.297214e+06</td>\n",
       "      <td>NaN</td>\n",
       "      <td>NaN</td>\n",
       "    </tr>\n",
       "    <tr>\n",
       "      <th>cat__flat_type_3 ROOM</th>\n",
       "      <td>-1.266187e+04</td>\n",
       "      <td>NaN</td>\n",
       "      <td>NaN</td>\n",
       "    </tr>\n",
       "    <tr>\n",
       "      <th>nums__floor_area_sqm cat__flat_type_3 ROOM</th>\n",
       "      <td>2.103157e+06</td>\n",
       "      <td>NaN</td>\n",
       "      <td>NaN</td>\n",
       "    </tr>\n",
       "    <tr>\n",
       "      <th>nums__max_floor_lvl^2</th>\n",
       "      <td>-6.183665e+09</td>\n",
       "      <td>NaN</td>\n",
       "      <td>NaN</td>\n",
       "    </tr>\n",
       "    <tr>\n",
       "      <th>nums__max_floor_lvl nums__5room_sold hawker_within_2km</th>\n",
       "      <td>-4.369081e+09</td>\n",
       "      <td>NaN</td>\n",
       "      <td>NaN</td>\n",
       "    </tr>\n",
       "    <tr>\n",
       "      <th>nums__max_floor_lvl nums__floor_area_sqm max_floor_lvl</th>\n",
       "      <td>1.439194e+10</td>\n",
       "      <td>NaN</td>\n",
       "      <td>NaN</td>\n",
       "    </tr>\n",
       "    <tr>\n",
       "      <th>nums__max_floor_lvl nums__max_floor_lvl tranc_year</th>\n",
       "      <td>1.236253e+10</td>\n",
       "      <td>NaN</td>\n",
       "      <td>NaN</td>\n",
       "    </tr>\n",
       "    <tr>\n",
       "      <th>nums__max_floor_lvl nums__5room_sold floor_area_sqm hawker_within_2km</th>\n",
       "      <td>1.361286e+09</td>\n",
       "      <td>NaN</td>\n",
       "      <td>NaN</td>\n",
       "    </tr>\n",
       "    <tr>\n",
       "      <th>nums__max_floor_lvl nums__5room_sold hawker_within_2km tranc_year</th>\n",
       "      <td>5.365271e+09</td>\n",
       "      <td>NaN</td>\n",
       "      <td>NaN</td>\n",
       "    </tr>\n",
       "    <tr>\n",
       "      <th>nums__max_floor_lvl nums__floor_area_sqm hawker_within_2km max_floor_lvl</th>\n",
       "      <td>1.145009e+07</td>\n",
       "      <td>NaN</td>\n",
       "      <td>NaN</td>\n",
       "    </tr>\n",
       "    <tr>\n",
       "      <th>nums__max_floor_lvl nums__floor_area_sqm hawker_within_2km mid</th>\n",
       "      <td>6.163682e+05</td>\n",
       "      <td>NaN</td>\n",
       "      <td>NaN</td>\n",
       "    </tr>\n",
       "    <tr>\n",
       "      <th>nums__max_floor_lvl nums__floor_area_sqm max_floor_lvl tranc_year</th>\n",
       "      <td>-1.453782e+10</td>\n",
       "      <td>NaN</td>\n",
       "      <td>NaN</td>\n",
       "    </tr>\n",
       "    <tr>\n",
       "      <th>nums__5room_sold hawker_within_2km nums__floor_area_sqm max_floor_lvl</th>\n",
       "      <td>9.411843e+08</td>\n",
       "      <td>NaN</td>\n",
       "      <td>NaN</td>\n",
       "    </tr>\n",
       "    <tr>\n",
       "      <th>nums__5room_sold hawker_within_2km nums__max_floor_lvl tranc_year</th>\n",
       "      <td>5.479060e+09</td>\n",
       "      <td>NaN</td>\n",
       "      <td>NaN</td>\n",
       "    </tr>\n",
       "    <tr>\n",
       "      <th>nums__5room_sold hawker_within_2km nums__floor_area_sqm hawker_within_2km max_floor_lvl</th>\n",
       "      <td>8.140194e+05</td>\n",
       "      <td>NaN</td>\n",
       "      <td>NaN</td>\n",
       "    </tr>\n",
       "    <tr>\n",
       "      <th>nums__5room_sold hawker_within_2km nums__floor_area_sqm max_floor_lvl tranc_year</th>\n",
       "      <td>-1.638256e+09</td>\n",
       "      <td>NaN</td>\n",
       "      <td>NaN</td>\n",
       "    </tr>\n",
       "    <tr>\n",
       "      <th>nums__5room_sold hawker_within_2km cat__flat_type_5 ROOM</th>\n",
       "      <td>3.021480e+06</td>\n",
       "      <td>NaN</td>\n",
       "      <td>NaN</td>\n",
       "    </tr>\n",
       "    <tr>\n",
       "      <th>nums__floor_area_sqm max_floor_lvl^2</th>\n",
       "      <td>-6.038103e+09</td>\n",
       "      <td>NaN</td>\n",
       "      <td>NaN</td>\n",
       "    </tr>\n",
       "    <tr>\n",
       "      <th>nums__floor_area_sqm max_floor_lvl nums__max_floor_lvl tranc_year</th>\n",
       "      <td>-1.425027e+10</td>\n",
       "      <td>NaN</td>\n",
       "      <td>NaN</td>\n",
       "    </tr>\n",
       "    <tr>\n",
       "      <th>nums__floor_area_sqm max_floor_lvl nums__5room_sold floor_area_sqm hawker_within_2km</th>\n",
       "      <td>-5.373959e+06</td>\n",
       "      <td>NaN</td>\n",
       "      <td>NaN</td>\n",
       "    </tr>\n",
       "    <tr>\n",
       "      <th>nums__floor_area_sqm max_floor_lvl nums__5room_sold hawker_within_2km max_floor_lvl</th>\n",
       "      <td>-1.041929e+07</td>\n",
       "      <td>NaN</td>\n",
       "      <td>NaN</td>\n",
       "    </tr>\n",
       "    <tr>\n",
       "      <th>nums__floor_area_sqm max_floor_lvl nums__5room_sold hawker_within_2km tranc_year</th>\n",
       "      <td>-1.696362e+09</td>\n",
       "      <td>NaN</td>\n",
       "      <td>NaN</td>\n",
       "    </tr>\n",
       "    <tr>\n",
       "      <th>nums__floor_area_sqm max_floor_lvl nums__floor_area_sqm hawker_within_2km max_floor_lvl</th>\n",
       "      <td>-1.444002e+07</td>\n",
       "      <td>NaN</td>\n",
       "      <td>NaN</td>\n",
       "    </tr>\n",
       "    <tr>\n",
       "      <th>nums__floor_area_sqm max_floor_lvl nums__floor_area_sqm hawker_within_2km mid</th>\n",
       "      <td>-5.821982e+05</td>\n",
       "      <td>NaN</td>\n",
       "      <td>NaN</td>\n",
       "    </tr>\n",
       "    <tr>\n",
       "      <th>nums__floor_area_sqm max_floor_lvl nums__floor_area_sqm max_floor_lvl tranc_year</th>\n",
       "      <td>1.208549e+10</td>\n",
       "      <td>NaN</td>\n",
       "      <td>NaN</td>\n",
       "    </tr>\n",
       "    <tr>\n",
       "      <th>nums__floor_area_sqm max_floor_lvl cat__flat_type_3 ROOM</th>\n",
       "      <td>-3.304563e+06</td>\n",
       "      <td>NaN</td>\n",
       "      <td>NaN</td>\n",
       "    </tr>\n",
       "    <tr>\n",
       "      <th>nums__floor_area_sqm max_floor_lvl cat__flat_type_5 ROOM</th>\n",
       "      <td>-6.925301e+05</td>\n",
       "      <td>NaN</td>\n",
       "      <td>NaN</td>\n",
       "    </tr>\n",
       "    <tr>\n",
       "      <th>nums__floor_area_sqm mid cat__flat_type_3 ROOM</th>\n",
       "      <td>9.582000e+05</td>\n",
       "      <td>NaN</td>\n",
       "      <td>NaN</td>\n",
       "    </tr>\n",
       "    <tr>\n",
       "      <th>nums__floor_area_sqm tranc_year cat__flat_type_3 ROOM</th>\n",
       "      <td>-2.078656e+06</td>\n",
       "      <td>NaN</td>\n",
       "      <td>NaN</td>\n",
       "    </tr>\n",
       "    <tr>\n",
       "      <th>nums__max_floor_lvl tranc_year^2</th>\n",
       "      <td>-6.178846e+09</td>\n",
       "      <td>NaN</td>\n",
       "      <td>NaN</td>\n",
       "    </tr>\n",
       "    <tr>\n",
       "      <th>nums__max_floor_lvl tranc_year nums__5room_sold floor_area_sqm hawker_within_2km</th>\n",
       "      <td>-1.348575e+09</td>\n",
       "      <td>NaN</td>\n",
       "      <td>NaN</td>\n",
       "    </tr>\n",
       "    <tr>\n",
       "      <th>nums__max_floor_lvl tranc_year nums__5room_sold hawker_within_2km tranc_year</th>\n",
       "      <td>-5.422847e+09</td>\n",
       "      <td>NaN</td>\n",
       "      <td>NaN</td>\n",
       "    </tr>\n",
       "    <tr>\n",
       "      <th>nums__max_floor_lvl tranc_year nums__floor_area_sqm hawker_within_2km max_floor_lvl</th>\n",
       "      <td>-1.149242e+07</td>\n",
       "      <td>NaN</td>\n",
       "      <td>NaN</td>\n",
       "    </tr>\n",
       "    <tr>\n",
       "      <th>nums__max_floor_lvl tranc_year nums__floor_area_sqm hawker_within_2km mid</th>\n",
       "      <td>-6.188972e+05</td>\n",
       "      <td>NaN</td>\n",
       "      <td>NaN</td>\n",
       "    </tr>\n",
       "    <tr>\n",
       "      <th>nums__max_floor_lvl tranc_year nums__floor_area_sqm max_floor_lvl tranc_year</th>\n",
       "      <td>1.439611e+10</td>\n",
       "      <td>NaN</td>\n",
       "      <td>NaN</td>\n",
       "    </tr>\n",
       "    <tr>\n",
       "      <th>nums__5room_sold floor_area_sqm hawker_within_2km nums__floor_area_sqm hawker_within_2km max_floor_lvl</th>\n",
       "      <td>-1.435351e+04</td>\n",
       "      <td>NaN</td>\n",
       "      <td>NaN</td>\n",
       "    </tr>\n",
       "    <tr>\n",
       "      <th>nums__5room_sold floor_area_sqm hawker_within_2km nums__floor_area_sqm max_floor_lvl tranc_year</th>\n",
       "      <td>5.433412e+06</td>\n",
       "      <td>NaN</td>\n",
       "      <td>NaN</td>\n",
       "    </tr>\n",
       "    <tr>\n",
       "      <th>nums__5room_sold floor_area_sqm hawker_within_2km cat__flat_type_3 ROOM</th>\n",
       "      <td>-6.559160e+03</td>\n",
       "      <td>NaN</td>\n",
       "      <td>NaN</td>\n",
       "    </tr>\n",
       "    <tr>\n",
       "      <th>nums__5room_sold floor_area_sqm hawker_within_2km cat__flat_type_5 ROOM</th>\n",
       "      <td>-4.149503e+04</td>\n",
       "      <td>NaN</td>\n",
       "      <td>NaN</td>\n",
       "    </tr>\n",
       "    <tr>\n",
       "      <th>nums__5room_sold hawker_within_2km max_floor_lvl nums__floor_area_sqm hawker_within_2km max_floor_lvl</th>\n",
       "      <td>-5.613813e+04</td>\n",
       "      <td>NaN</td>\n",
       "      <td>NaN</td>\n",
       "    </tr>\n",
       "    <tr>\n",
       "      <th>nums__5room_sold hawker_within_2km max_floor_lvl nums__floor_area_sqm max_floor_lvl tranc_year</th>\n",
       "      <td>1.049013e+07</td>\n",
       "      <td>NaN</td>\n",
       "      <td>NaN</td>\n",
       "    </tr>\n",
       "    <tr>\n",
       "      <th>nums__5room_sold hawker_within_2km tranc_year nums__floor_area_sqm hawker_within_2km max_floor_lvl</th>\n",
       "      <td>-7.449996e+05</td>\n",
       "      <td>NaN</td>\n",
       "      <td>NaN</td>\n",
       "    </tr>\n",
       "    <tr>\n",
       "      <th>nums__5room_sold hawker_within_2km tranc_year nums__floor_area_sqm max_floor_lvl tranc_year</th>\n",
       "      <td>2.379407e+09</td>\n",
       "      <td>NaN</td>\n",
       "      <td>NaN</td>\n",
       "    </tr>\n",
       "    <tr>\n",
       "      <th>nums__5room_sold hawker_within_2km tranc_year cat__flat_type_5 ROOM</th>\n",
       "      <td>-2.975932e+06</td>\n",
       "      <td>NaN</td>\n",
       "      <td>NaN</td>\n",
       "    </tr>\n",
       "    <tr>\n",
       "      <th>nums__floor_area_sqm hawker_within_2km max_floor_lvl^2</th>\n",
       "      <td>-2.542093e+04</td>\n",
       "      <td>NaN</td>\n",
       "      <td>NaN</td>\n",
       "    </tr>\n",
       "    <tr>\n",
       "      <th>nums__floor_area_sqm hawker_within_2km max_floor_lvl nums__floor_area_sqm hawker_within_2km mid</th>\n",
       "      <td>-6.387784e+03</td>\n",
       "      <td>NaN</td>\n",
       "      <td>NaN</td>\n",
       "    </tr>\n",
       "    <tr>\n",
       "      <th>nums__floor_area_sqm hawker_within_2km max_floor_lvl nums__floor_area_sqm max_floor_lvl mid</th>\n",
       "      <td>-4.491154e+03</td>\n",
       "      <td>NaN</td>\n",
       "      <td>NaN</td>\n",
       "    </tr>\n",
       "    <tr>\n",
       "      <th>nums__floor_area_sqm hawker_within_2km max_floor_lvl nums__floor_area_sqm max_floor_lvl tranc_year</th>\n",
       "      <td>1.449972e+07</td>\n",
       "      <td>NaN</td>\n",
       "      <td>NaN</td>\n",
       "    </tr>\n",
       "    <tr>\n",
       "      <th>nums__floor_area_sqm hawker_within_2km mid nums__floor_area_sqm max_floor_lvl tranc_year</th>\n",
       "      <td>5.935516e+05</td>\n",
       "      <td>NaN</td>\n",
       "      <td>NaN</td>\n",
       "    </tr>\n",
       "    <tr>\n",
       "      <th>nums__floor_area_sqm max_floor_lvl mid cat__flat_type_3 ROOM</th>\n",
       "      <td>1.316165e+04</td>\n",
       "      <td>NaN</td>\n",
       "      <td>NaN</td>\n",
       "    </tr>\n",
       "    <tr>\n",
       "      <th>nums__floor_area_sqm max_floor_lvl tranc_year^2</th>\n",
       "      <td>-6.047349e+09</td>\n",
       "      <td>NaN</td>\n",
       "      <td>NaN</td>\n",
       "    </tr>\n",
       "    <tr>\n",
       "      <th>nums__floor_area_sqm max_floor_lvl tranc_year cat__flat_type_3 ROOM</th>\n",
       "      <td>3.264711e+06</td>\n",
       "      <td>NaN</td>\n",
       "      <td>NaN</td>\n",
       "    </tr>\n",
       "    <tr>\n",
       "      <th>nums__floor_area_sqm max_floor_lvl tranc_year cat__flat_type_5 ROOM</th>\n",
       "      <td>6.956202e+05</td>\n",
       "      <td>NaN</td>\n",
       "      <td>NaN</td>\n",
       "    </tr>\n",
       "    <tr>\n",
       "      <th>nums__floor_area_sqm mid tranc_year cat__flat_type_3 ROOM</th>\n",
       "      <td>-9.682216e+05</td>\n",
       "      <td>NaN</td>\n",
       "      <td>NaN</td>\n",
       "    </tr>\n",
       "    <tr>\n",
       "      <th>cat__flat_type_3 ROOM^2</th>\n",
       "      <td>-1.266250e+04</td>\n",
       "      <td>NaN</td>\n",
       "      <td>NaN</td>\n",
       "    </tr>\n",
       "    <tr>\n",
       "      <th>floor_area_sqm</th>\n",
       "      <td>NaN</td>\n",
       "      <td>4.636255e+06</td>\n",
       "      <td>87104.895214</td>\n",
       "    </tr>\n",
       "    <tr>\n",
       "      <th>max_floor_lvl</th>\n",
       "      <td>NaN</td>\n",
       "      <td>7.382507e+06</td>\n",
       "      <td>57572.956522</td>\n",
       "    </tr>\n",
       "    <tr>\n",
       "      <th>5room_sold hawker_within_2km</th>\n",
       "      <td>NaN</td>\n",
       "      <td>2.477777e+05</td>\n",
       "      <td>NaN</td>\n",
       "    </tr>\n",
       "    <tr>\n",
       "      <th>floor_area_sqm max_floor_lvl</th>\n",
       "      <td>NaN</td>\n",
       "      <td>-1.303559e+07</td>\n",
       "      <td>NaN</td>\n",
       "    </tr>\n",
       "    <tr>\n",
       "      <th>floor_area_sqm mid</th>\n",
       "      <td>NaN</td>\n",
       "      <td>-1.887414e+06</td>\n",
       "      <td>NaN</td>\n",
       "    </tr>\n",
       "    <tr>\n",
       "      <th>floor_area_sqm tranc_year</th>\n",
       "      <td>NaN</td>\n",
       "      <td>-4.553746e+06</td>\n",
       "      <td>NaN</td>\n",
       "    </tr>\n",
       "    <tr>\n",
       "      <th>max_floor_lvl tranc_year</th>\n",
       "      <td>NaN</td>\n",
       "      <td>-7.378557e+06</td>\n",
       "      <td>NaN</td>\n",
       "    </tr>\n",
       "    <tr>\n",
       "      <th>5room_sold floor_area_sqm hawker_within_2km</th>\n",
       "      <td>NaN</td>\n",
       "      <td>-3.628514e+04</td>\n",
       "      <td>NaN</td>\n",
       "    </tr>\n",
       "    <tr>\n",
       "      <th>5room_sold hawker_within_2km max_floor_lvl</th>\n",
       "      <td>NaN</td>\n",
       "      <td>-2.907095e+03</td>\n",
       "      <td>NaN</td>\n",
       "    </tr>\n",
       "    <tr>\n",
       "      <th>5room_sold hawker_within_2km tranc_year</th>\n",
       "      <td>NaN</td>\n",
       "      <td>-2.165987e+05</td>\n",
       "      <td>NaN</td>\n",
       "    </tr>\n",
       "    <tr>\n",
       "      <th>floor_area_sqm hawker_food_stalls max_floor_lvl</th>\n",
       "      <td>NaN</td>\n",
       "      <td>-5.125431e+03</td>\n",
       "      <td>NaN</td>\n",
       "    </tr>\n",
       "    <tr>\n",
       "      <th>floor_area_sqm hawker_within_2km max_floor_lvl</th>\n",
       "      <td>NaN</td>\n",
       "      <td>6.250643e+04</td>\n",
       "      <td>NaN</td>\n",
       "    </tr>\n",
       "    <tr>\n",
       "      <th>floor_area_sqm hawker_within_2km mid</th>\n",
       "      <td>NaN</td>\n",
       "      <td>1.213616e+03</td>\n",
       "      <td>NaN</td>\n",
       "    </tr>\n",
       "    <tr>\n",
       "      <th>floor_area_sqm max_floor_lvl mid</th>\n",
       "      <td>NaN</td>\n",
       "      <td>1.259167e+04</td>\n",
       "      <td>NaN</td>\n",
       "    </tr>\n",
       "    <tr>\n",
       "      <th>floor_area_sqm max_floor_lvl tranc_year</th>\n",
       "      <td>NaN</td>\n",
       "      <td>1.304955e+07</td>\n",
       "      <td>NaN</td>\n",
       "    </tr>\n",
       "    <tr>\n",
       "      <th>floor_area_sqm mid tranc_year</th>\n",
       "      <td>NaN</td>\n",
       "      <td>1.899208e+06</td>\n",
       "      <td>NaN</td>\n",
       "    </tr>\n",
       "    <tr>\n",
       "      <th>mid</th>\n",
       "      <td>NaN</td>\n",
       "      <td>NaN</td>\n",
       "      <td>18426.270513</td>\n",
       "    </tr>\n",
       "    <tr>\n",
       "      <th>hdb_age</th>\n",
       "      <td>NaN</td>\n",
       "      <td>NaN</td>\n",
       "      <td>6015.104569</td>\n",
       "    </tr>\n",
       "  </tbody>\n",
       "</table>\n",
       "</div>"
      ],
      "text/plain": [
       "                                                    final_model_coef  \\\n",
       "nums__floor_area_sqm                                    4.514781e+06   \n",
       "nums__max_floor_lvl                                     2.525183e+08   \n",
       "nums__5room_sold hawker_within_2km                      4.557116e+08   \n",
       "nums__floor_area_sqm max_floor_lvl                      4.760782e+06   \n",
       "nums__floor_area_sqm mid                               -2.274306e+06   \n",
       "nums__floor_area_sqm tranc_year                        -4.395127e+06   \n",
       "nums__max_floor_lvl tranc_year                         -9.202097e+07   \n",
       "nums__5room_sold floor_area_sqm hawker_within_2km       1.367810e+07   \n",
       "nums__5room_sold hawker_within_2km max_floor_lvl       -2.026418e+09   \n",
       "nums__5room_sold hawker_within_2km tranc_year           5.228650e+08   \n",
       "nums__floor_area_sqm hawker_food_stalls max_flo...     -5.925547e+03   \n",
       "nums__floor_area_sqm hawker_within_2km max_floo...      6.446379e+04   \n",
       "nums__floor_area_sqm hawker_within_2km mid              1.061127e+04   \n",
       "nums__floor_area_sqm max_floor_lvl mid                 -8.722359e+03   \n",
       "nums__floor_area_sqm max_floor_lvl tranc_year          -7.137618e+06   \n",
       "nums__floor_area_sqm mid tranc_year                     2.297214e+06   \n",
       "cat__flat_type_3 ROOM                                  -1.266187e+04   \n",
       "nums__floor_area_sqm cat__flat_type_3 ROOM              2.103157e+06   \n",
       "nums__max_floor_lvl^2                                  -6.183665e+09   \n",
       "nums__max_floor_lvl nums__5room_sold hawker_wit...     -4.369081e+09   \n",
       "nums__max_floor_lvl nums__floor_area_sqm max_fl...      1.439194e+10   \n",
       "nums__max_floor_lvl nums__max_floor_lvl tranc_year      1.236253e+10   \n",
       "nums__max_floor_lvl nums__5room_sold floor_area...      1.361286e+09   \n",
       "nums__max_floor_lvl nums__5room_sold hawker_wit...      5.365271e+09   \n",
       "nums__max_floor_lvl nums__floor_area_sqm hawker...      1.145009e+07   \n",
       "nums__max_floor_lvl nums__floor_area_sqm hawker...      6.163682e+05   \n",
       "nums__max_floor_lvl nums__floor_area_sqm max_fl...     -1.453782e+10   \n",
       "nums__5room_sold hawker_within_2km nums__floor_...      9.411843e+08   \n",
       "nums__5room_sold hawker_within_2km nums__max_fl...      5.479060e+09   \n",
       "nums__5room_sold hawker_within_2km nums__floor_...      8.140194e+05   \n",
       "nums__5room_sold hawker_within_2km nums__floor_...     -1.638256e+09   \n",
       "nums__5room_sold hawker_within_2km cat__flat_ty...      3.021480e+06   \n",
       "nums__floor_area_sqm max_floor_lvl^2                   -6.038103e+09   \n",
       "nums__floor_area_sqm max_floor_lvl nums__max_fl...     -1.425027e+10   \n",
       "nums__floor_area_sqm max_floor_lvl nums__5room_...     -5.373959e+06   \n",
       "nums__floor_area_sqm max_floor_lvl nums__5room_...     -1.041929e+07   \n",
       "nums__floor_area_sqm max_floor_lvl nums__5room_...     -1.696362e+09   \n",
       "nums__floor_area_sqm max_floor_lvl nums__floor_...     -1.444002e+07   \n",
       "nums__floor_area_sqm max_floor_lvl nums__floor_...     -5.821982e+05   \n",
       "nums__floor_area_sqm max_floor_lvl nums__floor_...      1.208549e+10   \n",
       "nums__floor_area_sqm max_floor_lvl cat__flat_ty...     -3.304563e+06   \n",
       "nums__floor_area_sqm max_floor_lvl cat__flat_ty...     -6.925301e+05   \n",
       "nums__floor_area_sqm mid cat__flat_type_3 ROOM          9.582000e+05   \n",
       "nums__floor_area_sqm tranc_year cat__flat_type_...     -2.078656e+06   \n",
       "nums__max_floor_lvl tranc_year^2                       -6.178846e+09   \n",
       "nums__max_floor_lvl tranc_year nums__5room_sold...     -1.348575e+09   \n",
       "nums__max_floor_lvl tranc_year nums__5room_sold...     -5.422847e+09   \n",
       "nums__max_floor_lvl tranc_year nums__floor_area...     -1.149242e+07   \n",
       "nums__max_floor_lvl tranc_year nums__floor_area...     -6.188972e+05   \n",
       "nums__max_floor_lvl tranc_year nums__floor_area...      1.439611e+10   \n",
       "nums__5room_sold floor_area_sqm hawker_within_2...     -1.435351e+04   \n",
       "nums__5room_sold floor_area_sqm hawker_within_2...      5.433412e+06   \n",
       "nums__5room_sold floor_area_sqm hawker_within_2...     -6.559160e+03   \n",
       "nums__5room_sold floor_area_sqm hawker_within_2...     -4.149503e+04   \n",
       "nums__5room_sold hawker_within_2km max_floor_lv...     -5.613813e+04   \n",
       "nums__5room_sold hawker_within_2km max_floor_lv...      1.049013e+07   \n",
       "nums__5room_sold hawker_within_2km tranc_year n...     -7.449996e+05   \n",
       "nums__5room_sold hawker_within_2km tranc_year n...      2.379407e+09   \n",
       "nums__5room_sold hawker_within_2km tranc_year c...     -2.975932e+06   \n",
       "nums__floor_area_sqm hawker_within_2km max_floo...     -2.542093e+04   \n",
       "nums__floor_area_sqm hawker_within_2km max_floo...     -6.387784e+03   \n",
       "nums__floor_area_sqm hawker_within_2km max_floo...     -4.491154e+03   \n",
       "nums__floor_area_sqm hawker_within_2km max_floo...      1.449972e+07   \n",
       "nums__floor_area_sqm hawker_within_2km mid nums...      5.935516e+05   \n",
       "nums__floor_area_sqm max_floor_lvl mid cat__fla...      1.316165e+04   \n",
       "nums__floor_area_sqm max_floor_lvl tranc_year^2        -6.047349e+09   \n",
       "nums__floor_area_sqm max_floor_lvl tranc_year c...      3.264711e+06   \n",
       "nums__floor_area_sqm max_floor_lvl tranc_year c...      6.956202e+05   \n",
       "nums__floor_area_sqm mid tranc_year cat__flat_t...     -9.682216e+05   \n",
       "cat__flat_type_3 ROOM^2                                -1.266250e+04   \n",
       "floor_area_sqm                                                   NaN   \n",
       "max_floor_lvl                                                    NaN   \n",
       "5room_sold hawker_within_2km                                     NaN   \n",
       "floor_area_sqm max_floor_lvl                                     NaN   \n",
       "floor_area_sqm mid                                               NaN   \n",
       "floor_area_sqm tranc_year                                        NaN   \n",
       "max_floor_lvl tranc_year                                         NaN   \n",
       "5room_sold floor_area_sqm hawker_within_2km                      NaN   \n",
       "5room_sold hawker_within_2km max_floor_lvl                       NaN   \n",
       "5room_sold hawker_within_2km tranc_year                          NaN   \n",
       "floor_area_sqm hawker_food_stalls max_floor_lvl                  NaN   \n",
       "floor_area_sqm hawker_within_2km max_floor_lvl                   NaN   \n",
       "floor_area_sqm hawker_within_2km mid                             NaN   \n",
       "floor_area_sqm max_floor_lvl mid                                 NaN   \n",
       "floor_area_sqm max_floor_lvl tranc_year                          NaN   \n",
       "floor_area_sqm mid tranc_year                                    NaN   \n",
       "mid                                                              NaN   \n",
       "hdb_age                                                          NaN   \n",
       "\n",
       "                                                    model_1_coef  \\\n",
       "nums__floor_area_sqm                                         NaN   \n",
       "nums__max_floor_lvl                                          NaN   \n",
       "nums__5room_sold hawker_within_2km                           NaN   \n",
       "nums__floor_area_sqm max_floor_lvl                           NaN   \n",
       "nums__floor_area_sqm mid                                     NaN   \n",
       "nums__floor_area_sqm tranc_year                              NaN   \n",
       "nums__max_floor_lvl tranc_year                               NaN   \n",
       "nums__5room_sold floor_area_sqm hawker_within_2km            NaN   \n",
       "nums__5room_sold hawker_within_2km max_floor_lvl             NaN   \n",
       "nums__5room_sold hawker_within_2km tranc_year                NaN   \n",
       "nums__floor_area_sqm hawker_food_stalls max_flo...           NaN   \n",
       "nums__floor_area_sqm hawker_within_2km max_floo...           NaN   \n",
       "nums__floor_area_sqm hawker_within_2km mid                   NaN   \n",
       "nums__floor_area_sqm max_floor_lvl mid                       NaN   \n",
       "nums__floor_area_sqm max_floor_lvl tranc_year                NaN   \n",
       "nums__floor_area_sqm mid tranc_year                          NaN   \n",
       "cat__flat_type_3 ROOM                                        NaN   \n",
       "nums__floor_area_sqm cat__flat_type_3 ROOM                   NaN   \n",
       "nums__max_floor_lvl^2                                        NaN   \n",
       "nums__max_floor_lvl nums__5room_sold hawker_wit...           NaN   \n",
       "nums__max_floor_lvl nums__floor_area_sqm max_fl...           NaN   \n",
       "nums__max_floor_lvl nums__max_floor_lvl tranc_year           NaN   \n",
       "nums__max_floor_lvl nums__5room_sold floor_area...           NaN   \n",
       "nums__max_floor_lvl nums__5room_sold hawker_wit...           NaN   \n",
       "nums__max_floor_lvl nums__floor_area_sqm hawker...           NaN   \n",
       "nums__max_floor_lvl nums__floor_area_sqm hawker...           NaN   \n",
       "nums__max_floor_lvl nums__floor_area_sqm max_fl...           NaN   \n",
       "nums__5room_sold hawker_within_2km nums__floor_...           NaN   \n",
       "nums__5room_sold hawker_within_2km nums__max_fl...           NaN   \n",
       "nums__5room_sold hawker_within_2km nums__floor_...           NaN   \n",
       "nums__5room_sold hawker_within_2km nums__floor_...           NaN   \n",
       "nums__5room_sold hawker_within_2km cat__flat_ty...           NaN   \n",
       "nums__floor_area_sqm max_floor_lvl^2                         NaN   \n",
       "nums__floor_area_sqm max_floor_lvl nums__max_fl...           NaN   \n",
       "nums__floor_area_sqm max_floor_lvl nums__5room_...           NaN   \n",
       "nums__floor_area_sqm max_floor_lvl nums__5room_...           NaN   \n",
       "nums__floor_area_sqm max_floor_lvl nums__5room_...           NaN   \n",
       "nums__floor_area_sqm max_floor_lvl nums__floor_...           NaN   \n",
       "nums__floor_area_sqm max_floor_lvl nums__floor_...           NaN   \n",
       "nums__floor_area_sqm max_floor_lvl nums__floor_...           NaN   \n",
       "nums__floor_area_sqm max_floor_lvl cat__flat_ty...           NaN   \n",
       "nums__floor_area_sqm max_floor_lvl cat__flat_ty...           NaN   \n",
       "nums__floor_area_sqm mid cat__flat_type_3 ROOM               NaN   \n",
       "nums__floor_area_sqm tranc_year cat__flat_type_...           NaN   \n",
       "nums__max_floor_lvl tranc_year^2                             NaN   \n",
       "nums__max_floor_lvl tranc_year nums__5room_sold...           NaN   \n",
       "nums__max_floor_lvl tranc_year nums__5room_sold...           NaN   \n",
       "nums__max_floor_lvl tranc_year nums__floor_area...           NaN   \n",
       "nums__max_floor_lvl tranc_year nums__floor_area...           NaN   \n",
       "nums__max_floor_lvl tranc_year nums__floor_area...           NaN   \n",
       "nums__5room_sold floor_area_sqm hawker_within_2...           NaN   \n",
       "nums__5room_sold floor_area_sqm hawker_within_2...           NaN   \n",
       "nums__5room_sold floor_area_sqm hawker_within_2...           NaN   \n",
       "nums__5room_sold floor_area_sqm hawker_within_2...           NaN   \n",
       "nums__5room_sold hawker_within_2km max_floor_lv...           NaN   \n",
       "nums__5room_sold hawker_within_2km max_floor_lv...           NaN   \n",
       "nums__5room_sold hawker_within_2km tranc_year n...           NaN   \n",
       "nums__5room_sold hawker_within_2km tranc_year n...           NaN   \n",
       "nums__5room_sold hawker_within_2km tranc_year c...           NaN   \n",
       "nums__floor_area_sqm hawker_within_2km max_floo...           NaN   \n",
       "nums__floor_area_sqm hawker_within_2km max_floo...           NaN   \n",
       "nums__floor_area_sqm hawker_within_2km max_floo...           NaN   \n",
       "nums__floor_area_sqm hawker_within_2km max_floo...           NaN   \n",
       "nums__floor_area_sqm hawker_within_2km mid nums...           NaN   \n",
       "nums__floor_area_sqm max_floor_lvl mid cat__fla...           NaN   \n",
       "nums__floor_area_sqm max_floor_lvl tranc_year^2              NaN   \n",
       "nums__floor_area_sqm max_floor_lvl tranc_year c...           NaN   \n",
       "nums__floor_area_sqm max_floor_lvl tranc_year c...           NaN   \n",
       "nums__floor_area_sqm mid tranc_year cat__flat_t...           NaN   \n",
       "cat__flat_type_3 ROOM^2                                      NaN   \n",
       "floor_area_sqm                                      4.636255e+06   \n",
       "max_floor_lvl                                       7.382507e+06   \n",
       "5room_sold hawker_within_2km                        2.477777e+05   \n",
       "floor_area_sqm max_floor_lvl                       -1.303559e+07   \n",
       "floor_area_sqm mid                                 -1.887414e+06   \n",
       "floor_area_sqm tranc_year                          -4.553746e+06   \n",
       "max_floor_lvl tranc_year                           -7.378557e+06   \n",
       "5room_sold floor_area_sqm hawker_within_2km        -3.628514e+04   \n",
       "5room_sold hawker_within_2km max_floor_lvl         -2.907095e+03   \n",
       "5room_sold hawker_within_2km tranc_year            -2.165987e+05   \n",
       "floor_area_sqm hawker_food_stalls max_floor_lvl    -5.125431e+03   \n",
       "floor_area_sqm hawker_within_2km max_floor_lvl      6.250643e+04   \n",
       "floor_area_sqm hawker_within_2km mid                1.213616e+03   \n",
       "floor_area_sqm max_floor_lvl mid                    1.259167e+04   \n",
       "floor_area_sqm max_floor_lvl tranc_year             1.304955e+07   \n",
       "floor_area_sqm mid tranc_year                       1.899208e+06   \n",
       "mid                                                          NaN   \n",
       "hdb_age                                                      NaN   \n",
       "\n",
       "                                                    baseline_coef  \n",
       "nums__floor_area_sqm                                          NaN  \n",
       "nums__max_floor_lvl                                           NaN  \n",
       "nums__5room_sold hawker_within_2km                            NaN  \n",
       "nums__floor_area_sqm max_floor_lvl                            NaN  \n",
       "nums__floor_area_sqm mid                                      NaN  \n",
       "nums__floor_area_sqm tranc_year                               NaN  \n",
       "nums__max_floor_lvl tranc_year                                NaN  \n",
       "nums__5room_sold floor_area_sqm hawker_within_2km             NaN  \n",
       "nums__5room_sold hawker_within_2km max_floor_lvl              NaN  \n",
       "nums__5room_sold hawker_within_2km tranc_year                 NaN  \n",
       "nums__floor_area_sqm hawker_food_stalls max_flo...            NaN  \n",
       "nums__floor_area_sqm hawker_within_2km max_floo...            NaN  \n",
       "nums__floor_area_sqm hawker_within_2km mid                    NaN  \n",
       "nums__floor_area_sqm max_floor_lvl mid                        NaN  \n",
       "nums__floor_area_sqm max_floor_lvl tranc_year                 NaN  \n",
       "nums__floor_area_sqm mid tranc_year                           NaN  \n",
       "cat__flat_type_3 ROOM                                         NaN  \n",
       "nums__floor_area_sqm cat__flat_type_3 ROOM                    NaN  \n",
       "nums__max_floor_lvl^2                                         NaN  \n",
       "nums__max_floor_lvl nums__5room_sold hawker_wit...            NaN  \n",
       "nums__max_floor_lvl nums__floor_area_sqm max_fl...            NaN  \n",
       "nums__max_floor_lvl nums__max_floor_lvl tranc_year            NaN  \n",
       "nums__max_floor_lvl nums__5room_sold floor_area...            NaN  \n",
       "nums__max_floor_lvl nums__5room_sold hawker_wit...            NaN  \n",
       "nums__max_floor_lvl nums__floor_area_sqm hawker...            NaN  \n",
       "nums__max_floor_lvl nums__floor_area_sqm hawker...            NaN  \n",
       "nums__max_floor_lvl nums__floor_area_sqm max_fl...            NaN  \n",
       "nums__5room_sold hawker_within_2km nums__floor_...            NaN  \n",
       "nums__5room_sold hawker_within_2km nums__max_fl...            NaN  \n",
       "nums__5room_sold hawker_within_2km nums__floor_...            NaN  \n",
       "nums__5room_sold hawker_within_2km nums__floor_...            NaN  \n",
       "nums__5room_sold hawker_within_2km cat__flat_ty...            NaN  \n",
       "nums__floor_area_sqm max_floor_lvl^2                          NaN  \n",
       "nums__floor_area_sqm max_floor_lvl nums__max_fl...            NaN  \n",
       "nums__floor_area_sqm max_floor_lvl nums__5room_...            NaN  \n",
       "nums__floor_area_sqm max_floor_lvl nums__5room_...            NaN  \n",
       "nums__floor_area_sqm max_floor_lvl nums__5room_...            NaN  \n",
       "nums__floor_area_sqm max_floor_lvl nums__floor_...            NaN  \n",
       "nums__floor_area_sqm max_floor_lvl nums__floor_...            NaN  \n",
       "nums__floor_area_sqm max_floor_lvl nums__floor_...            NaN  \n",
       "nums__floor_area_sqm max_floor_lvl cat__flat_ty...            NaN  \n",
       "nums__floor_area_sqm max_floor_lvl cat__flat_ty...            NaN  \n",
       "nums__floor_area_sqm mid cat__flat_type_3 ROOM                NaN  \n",
       "nums__floor_area_sqm tranc_year cat__flat_type_...            NaN  \n",
       "nums__max_floor_lvl tranc_year^2                              NaN  \n",
       "nums__max_floor_lvl tranc_year nums__5room_sold...            NaN  \n",
       "nums__max_floor_lvl tranc_year nums__5room_sold...            NaN  \n",
       "nums__max_floor_lvl tranc_year nums__floor_area...            NaN  \n",
       "nums__max_floor_lvl tranc_year nums__floor_area...            NaN  \n",
       "nums__max_floor_lvl tranc_year nums__floor_area...            NaN  \n",
       "nums__5room_sold floor_area_sqm hawker_within_2...            NaN  \n",
       "nums__5room_sold floor_area_sqm hawker_within_2...            NaN  \n",
       "nums__5room_sold floor_area_sqm hawker_within_2...            NaN  \n",
       "nums__5room_sold floor_area_sqm hawker_within_2...            NaN  \n",
       "nums__5room_sold hawker_within_2km max_floor_lv...            NaN  \n",
       "nums__5room_sold hawker_within_2km max_floor_lv...            NaN  \n",
       "nums__5room_sold hawker_within_2km tranc_year n...            NaN  \n",
       "nums__5room_sold hawker_within_2km tranc_year n...            NaN  \n",
       "nums__5room_sold hawker_within_2km tranc_year c...            NaN  \n",
       "nums__floor_area_sqm hawker_within_2km max_floo...            NaN  \n",
       "nums__floor_area_sqm hawker_within_2km max_floo...            NaN  \n",
       "nums__floor_area_sqm hawker_within_2km max_floo...            NaN  \n",
       "nums__floor_area_sqm hawker_within_2km max_floo...            NaN  \n",
       "nums__floor_area_sqm hawker_within_2km mid nums...            NaN  \n",
       "nums__floor_area_sqm max_floor_lvl mid cat__fla...            NaN  \n",
       "nums__floor_area_sqm max_floor_lvl tranc_year^2               NaN  \n",
       "nums__floor_area_sqm max_floor_lvl tranc_year c...            NaN  \n",
       "nums__floor_area_sqm max_floor_lvl tranc_year c...            NaN  \n",
       "nums__floor_area_sqm mid tranc_year cat__flat_t...            NaN  \n",
       "cat__flat_type_3 ROOM^2                                       NaN  \n",
       "floor_area_sqm                                       87104.895214  \n",
       "max_floor_lvl                                        57572.956522  \n",
       "5room_sold hawker_within_2km                                  NaN  \n",
       "floor_area_sqm max_floor_lvl                                  NaN  \n",
       "floor_area_sqm mid                                            NaN  \n",
       "floor_area_sqm tranc_year                                     NaN  \n",
       "max_floor_lvl tranc_year                                      NaN  \n",
       "5room_sold floor_area_sqm hawker_within_2km                   NaN  \n",
       "5room_sold hawker_within_2km max_floor_lvl                    NaN  \n",
       "5room_sold hawker_within_2km tranc_year                       NaN  \n",
       "floor_area_sqm hawker_food_stalls max_floor_lvl               NaN  \n",
       "floor_area_sqm hawker_within_2km max_floor_lvl                NaN  \n",
       "floor_area_sqm hawker_within_2km mid                          NaN  \n",
       "floor_area_sqm max_floor_lvl mid                              NaN  \n",
       "floor_area_sqm max_floor_lvl tranc_year                       NaN  \n",
       "floor_area_sqm mid tranc_year                                 NaN  \n",
       "mid                                                  18426.270513  \n",
       "hdb_age                                               6015.104569  "
      ]
     },
     "execution_count": 38,
     "metadata": {},
     "output_type": "execute_result"
    }
   ],
   "source": [
    "compare = pd.concat([pd.DataFrame(lr_final.coef_, index=columns),\n",
    "           compare],\n",
    "          axis = 1)\n",
    "compare.columns = ['final_model_coef','model_1_coef', 'baseline_coef']\n",
    "compare"
   ]
  },
  {
   "cell_type": "markdown",
   "id": "69ccefc9-8092-4126-911f-820c2180e3da",
   "metadata": {},
   "source": [
    "Sorry for the extremely long list. The columns from left most represent the coefficients of our latest model while the extreme right is the baseline model. Notice that in our final model (max degree = 6, **recall we applied polynomial features of up to degree 2 on a degree 3 dataset**), none of the features used in the previous models (max degree = 3) are deemed as important."
   ]
  },
  {
   "cell_type": "markdown",
   "id": "fd5f105d-51cd-4202-80f1-c0d720a5849f",
   "metadata": {},
   "source": [
    "<a id='pattern'></a>\n",
    "\n",
    "[Back](#future)"
   ]
  },
  {
   "cell_type": "code",
   "execution_count": 39,
   "id": "ea8651fc-47b7-4b27-b807-d6916398e641",
   "metadata": {},
   "outputs": [
    {
     "data": {
      "text/plain": [
       "nums__max_floor_lvl tranc_year nums__floor_area_sqm max_floor_lvl tranc_year    1.439611e+10\n",
       "nums__max_floor_lvl nums__floor_area_sqm max_floor_lvl                          1.439194e+10\n",
       "nums__max_floor_lvl nums__max_floor_lvl tranc_year                              1.236253e+10\n",
       "Name: final_model_coef, dtype: float64"
      ]
     },
     "execution_count": 39,
     "metadata": {},
     "output_type": "execute_result"
    }
   ],
   "source": [
    "compare.iloc[:, 0].sort_values(ascending=False).dropna().head(3)"
   ]
  },
  {
   "cell_type": "markdown",
   "id": "9b564a40-88fd-4492-a23b-5ec7bd6aa895",
   "metadata": {},
   "source": [
    "<a id='back'></a>From the top, notice that all the 3 top features are just some variation of the features (max floor, tranc year, area (sqm) ) these 3 features has been showing themselves to be important features since the the improved model.\\\n",
    "Like we [explained](#sidenote) max floor is probably somewhat related to age of the flats. This means that age of the hdb is an important consideration for home buyers.\\\n",
    "There are a variety of plausible reasons, such as inflation and specificities of any given year, as to why transaction year is an important feature. This would require us to consult with domain experts, and we would need to do further research.\\\n",
    "What we can tell from our data (**refer to the last ending of part 1**) is that the prices seem to have been increasing from from 2019 onwards (source: friend in interior design), probably due to covid and everyone has much more money to spend. The average price of each year is only higher than the total average price in the years 2012, 2013, 2019 and 2021, *seemingly* having a pattern in our dataset."
   ]
  },
  {
   "cell_type": "code",
   "execution_count": 40,
   "id": "8ad75bad-7117-430f-840b-6bcbf4d4266d",
   "metadata": {},
   "outputs": [
    {
     "data": {
      "text/plain": [
       "nums__floor_area_sqm max_floor_lvl^2                                -6.038103e+09\n",
       "nums__floor_area_sqm max_floor_lvl tranc_year^2                     -6.047349e+09\n",
       "nums__max_floor_lvl tranc_year^2                                    -6.178846e+09\n",
       "nums__max_floor_lvl^2                                               -6.183665e+09\n",
       "nums__floor_area_sqm max_floor_lvl nums__max_floor_lvl tranc_year   -1.425027e+10\n",
       "nums__max_floor_lvl nums__floor_area_sqm max_floor_lvl tranc_year   -1.453782e+10\n",
       "Name: final_model_coef, dtype: float64"
      ]
     },
     "execution_count": 40,
     "metadata": {},
     "output_type": "execute_result"
    }
   ],
   "source": [
    "compare.iloc[:, 0].sort_values(ascending=False).dropna().tail(6)"
   ]
  },
  {
   "cell_type": "markdown",
   "id": "e80abd8e-70bc-4bad-b6cd-0431320bde5d",
   "metadata": {},
   "source": [
    "We once again see our 3 best friends as the bottom 3! **NOTE THAT BEING AT THE BOTTOM DOES NOT MEAN NOT SIGNIFICANT. THEY ARE JUST VERY SIGNIFICANT NEGATIVELY.**"
   ]
  },
  {
   "cell_type": "markdown",
   "id": "a7603ad8-d1cb-4b56-8337-a4632bf889b9",
   "metadata": {},
   "source": [
    "That said, let's remove those seemingly similar features from out model too see what happens."
   ]
  },
  {
   "cell_type": "markdown",
   "id": "e9077927-0cde-44da-8f73-8e71692a34c4",
   "metadata": {},
   "source": [
    "### Making the best of a failed attempt at modeling!"
   ]
  },
  {
   "cell_type": "code",
   "execution_count": 41,
   "id": "a79af1d1-bba0-4faa-9135-34cd3f108a6e",
   "metadata": {},
   "outputs": [],
   "source": [
    "def coll_checker(df): #remember to remove target!\n",
    "    cor_matrix = df.corr().abs()\n",
    "    upper_tri = cor_matrix.where(np.triu(np.ones(cor_matrix.shape),k=1).astype(bool))\n",
    "    return [column for column in upper_tri.columns if any(upper_tri[column] > 0.9)]"
   ]
  },
  {
   "cell_type": "markdown",
   "id": "3bd4994e-d686-49bd-be9a-fb49bdd67259",
   "metadata": {},
   "source": [
    "Sorry, I just thought of doing this because I couldn't decide if it was ok to just drop interaction features.\\\n",
    "Also, please forgive the overwriting of some variables below, we are at the end."
   ]
  },
  {
   "cell_type": "code",
   "execution_count": 42,
   "id": "ccbc107a-1e31-40c9-a6da-48b376c886ef",
   "metadata": {},
   "outputs": [
    {
     "name": "stdout",
     "output_type": "stream",
     "text": [
      "The model with the lowest RMSE score 69919.80108313057 is LinearRegression() \n"
     ]
    }
   ],
   "source": [
    "df_3 = df_2.drop(columns=(coll_checker(df_2)))\n",
    "X_train, X_test, y_train, y_test, columns = modeling_slave(df_3)"
   ]
  },
  {
   "cell_type": "code",
   "execution_count": 43,
   "id": "c0dfc107-5f5e-463d-a209-cd45e6e485ea",
   "metadata": {},
   "outputs": [
    {
     "data": {
      "text/plain": [
       "70198.86945293055"
      ]
     },
     "execution_count": 43,
     "metadata": {},
     "output_type": "execute_result"
    }
   ],
   "source": [
    "lr_test = LinearRegression()\n",
    "lr_test.fit(X_train, y_train)\n",
    "RMSE_pred_test = mean_squared_error(y_test, lr_test.predict(X_test)) ** 0.5\n",
    "RMSE_pred_test"
   ]
  },
  {
   "cell_type": "code",
   "execution_count": 46,
   "id": "9411f701-aa56-47de-81a9-1e6d894ede25",
   "metadata": {},
   "outputs": [
    {
     "data": {
      "text/plain": [
       "0.7503046122506922"
      ]
     },
     "execution_count": 46,
     "metadata": {},
     "output_type": "execute_result"
    }
   ],
   "source": [
    "lr_test.score(X_test, y_test)"
   ]
  },
  {
   "cell_type": "code",
   "execution_count": 44,
   "id": "b7ba585c-5110-4412-957d-e93d26af1e7a",
   "metadata": {},
   "outputs": [
    {
     "data": {
      "text/html": [
       "<div>\n",
       "<style scoped>\n",
       "    .dataframe tbody tr th:only-of-type {\n",
       "        vertical-align: middle;\n",
       "    }\n",
       "\n",
       "    .dataframe tbody tr th {\n",
       "        vertical-align: top;\n",
       "    }\n",
       "\n",
       "    .dataframe thead th {\n",
       "        text-align: right;\n",
       "    }\n",
       "</style>\n",
       "<table border=\"1\" class=\"dataframe\">\n",
       "  <thead>\n",
       "    <tr style=\"text-align: right;\">\n",
       "      <th></th>\n",
       "      <th>0</th>\n",
       "    </tr>\n",
       "  </thead>\n",
       "  <tbody>\n",
       "    <tr>\n",
       "      <th>nums__floor_area_sqm</th>\n",
       "      <td>98921.991198</td>\n",
       "    </tr>\n",
       "    <tr>\n",
       "      <th>nums__max_floor_lvl</th>\n",
       "      <td>42010.489844</td>\n",
       "    </tr>\n",
       "    <tr>\n",
       "      <th>nums__5room_sold hawker_within_2km</th>\n",
       "      <td>-7133.603607</td>\n",
       "    </tr>\n",
       "    <tr>\n",
       "      <th>nums__floor_area_sqm max_floor_lvl</th>\n",
       "      <td>-31622.006321</td>\n",
       "    </tr>\n",
       "    <tr>\n",
       "      <th>nums__floor_area_sqm mid</th>\n",
       "      <td>11805.290045</td>\n",
       "    </tr>\n",
       "    <tr>\n",
       "      <th>nums__floor_area_sqm hawker_food_stalls max_floor_lvl</th>\n",
       "      <td>-3798.806414</td>\n",
       "    </tr>\n",
       "    <tr>\n",
       "      <th>nums__floor_area_sqm hawker_within_2km max_floor_lvl</th>\n",
       "      <td>62345.923632</td>\n",
       "    </tr>\n",
       "    <tr>\n",
       "      <th>nums__floor_area_sqm hawker_within_2km mid</th>\n",
       "      <td>8880.591538</td>\n",
       "    </tr>\n",
       "    <tr>\n",
       "      <th>nums__floor_area_sqm max_floor_lvl mid</th>\n",
       "      <td>10505.293421</td>\n",
       "    </tr>\n",
       "    <tr>\n",
       "      <th>cat__flat_type_3 ROOM</th>\n",
       "      <td>-16474.479013</td>\n",
       "    </tr>\n",
       "    <tr>\n",
       "      <th>nums__max_floor_lvl^2</th>\n",
       "      <td>17255.083981</td>\n",
       "    </tr>\n",
       "    <tr>\n",
       "      <th>nums__max_floor_lvl nums__floor_area_sqm hawker_within_2km max_floor_lvl</th>\n",
       "      <td>-12664.771321</td>\n",
       "    </tr>\n",
       "    <tr>\n",
       "      <th>nums__max_floor_lvl nums__floor_area_sqm hawker_within_2km mid</th>\n",
       "      <td>-8086.139824</td>\n",
       "    </tr>\n",
       "    <tr>\n",
       "      <th>nums__5room_sold hawker_within_2km cat__flat_type_5 ROOM</th>\n",
       "      <td>1027.832189</td>\n",
       "    </tr>\n",
       "    <tr>\n",
       "      <th>nums__floor_area_sqm max_floor_lvl cat__flat_type_3 ROOM</th>\n",
       "      <td>-18390.954178</td>\n",
       "    </tr>\n",
       "    <tr>\n",
       "      <th>nums__floor_area_sqm max_floor_lvl cat__flat_type_5 ROOM</th>\n",
       "      <td>1397.937025</td>\n",
       "    </tr>\n",
       "    <tr>\n",
       "      <th>nums__floor_area_sqm mid cat__flat_type_3 ROOM</th>\n",
       "      <td>-1093.929622</td>\n",
       "    </tr>\n",
       "    <tr>\n",
       "      <th>nums__5room_sold floor_area_sqm hawker_within_2km cat__flat_type_3 ROOM</th>\n",
       "      <td>1939.621913</td>\n",
       "    </tr>\n",
       "  </tbody>\n",
       "</table>\n",
       "</div>"
      ],
      "text/plain": [
       "                                                               0\n",
       "nums__floor_area_sqm                                98921.991198\n",
       "nums__max_floor_lvl                                 42010.489844\n",
       "nums__5room_sold hawker_within_2km                  -7133.603607\n",
       "nums__floor_area_sqm max_floor_lvl                 -31622.006321\n",
       "nums__floor_area_sqm mid                            11805.290045\n",
       "nums__floor_area_sqm hawker_food_stalls max_flo...  -3798.806414\n",
       "nums__floor_area_sqm hawker_within_2km max_floo...  62345.923632\n",
       "nums__floor_area_sqm hawker_within_2km mid           8880.591538\n",
       "nums__floor_area_sqm max_floor_lvl mid              10505.293421\n",
       "cat__flat_type_3 ROOM                              -16474.479013\n",
       "nums__max_floor_lvl^2                               17255.083981\n",
       "nums__max_floor_lvl nums__floor_area_sqm hawker... -12664.771321\n",
       "nums__max_floor_lvl nums__floor_area_sqm hawker...  -8086.139824\n",
       "nums__5room_sold hawker_within_2km cat__flat_ty...   1027.832189\n",
       "nums__floor_area_sqm max_floor_lvl cat__flat_ty... -18390.954178\n",
       "nums__floor_area_sqm max_floor_lvl cat__flat_ty...   1397.937025\n",
       "nums__floor_area_sqm mid cat__flat_type_3 ROOM      -1093.929622\n",
       "nums__5room_sold floor_area_sqm hawker_within_2...   1939.621913"
      ]
     },
     "execution_count": 44,
     "metadata": {},
     "output_type": "execute_result"
    }
   ],
   "source": [
    "pd.DataFrame(lr_test.coef_, index=df_3.columns)"
   ]
  },
  {
   "cell_type": "code",
   "execution_count": 45,
   "id": "36e24ab3-4867-4bba-8bc9-9804048947d0",
   "metadata": {},
   "outputs": [
    {
     "data": {
      "text/plain": [
       "(146970, 18)"
      ]
     },
     "execution_count": 45,
     "metadata": {},
     "output_type": "execute_result"
    }
   ],
   "source": [
    "df_3.shape"
   ]
  },
  {
   "cell_type": "markdown",
   "id": "8bd17be9-937d-431b-b775-70c30b8cdd68",
   "metadata": {},
   "source": [
    "<a id='obs'></a>Although the RMSE has increased, the coefficients actually look somewhat more reasonable now. Notice that this here is a polynomial of degree at most 4 (as compared to the model right above which had degree 6)! The features also look more interpretable than compared to before. This could only mean one thing! GIGO! The [garbage](#garbage) definitely started here, where we failed to get rid of the interaction terms what have correlation = 1. This also answers the question we asked in one of the cells. This however does not change some of the insights we have gained through the mistaken results."
   ]
  },
  {
   "cell_type": "markdown",
   "id": "a5ebea2d-d238-4afc-b86a-bc734632006b",
   "metadata": {},
   "source": [
    "[Back to contents](#Contents:)"
   ]
  },
  {
   "cell_type": "markdown",
   "id": "66f1b60f-d50e-433e-95b2-b72cbd601549",
   "metadata": {},
   "source": [
    "## Conclusion"
   ]
  },
  {
   "cell_type": "markdown",
   "id": "efb57903-570d-4719-8e11-f8b6d1dd1e65",
   "metadata": {},
   "source": [
    "Though this modeling process, we have found some features that quite significantly impact the results of our scoring. Of note are, floor area and maximum number of floors of the block. These 2 features seem to always be one of the mean features that impact the resale price, even as terms of degree 1. Arguments could be made using these feature about the behavioural patterns of Singaporeans.\\\n",
    "While those are definitely impactful and important features, more interesting would be why (also seen in the top 7 continuous features back in part 1) the number of 3 room or 5 room flats in a block would affect the prices of a flat. A quick google search yielded no results. This could imply several things, practically, that the data collection was flawed, in terms of research, it might be that somebodty has already tried to investigate this phenomena but found that the results are uninteresting. It could also be that we did not google search hard enough.\\\n",
    "[Finally, we are convinced that if we are limited to the 3 linear regression models used in this project, the model will perpetually be under-fitted.](#https://datascience.stackexchange.com/questions/81163/predictive-power-of-a-dataset#:~:text=Occasionally%2C%20linear%20regression%20will%20fail%20to%20recover%20a%20good%20solution%20for%20a%20data%20set.%20While%20this%20may%20be%20because%20our%20data%20doesn%E2%80%99t%20actually%20have%20predictive%20power%2C%20it%20might%20also%20just%20indicate%20that%20our%20data%20is%20provided%20in%20a%20format%20unsuitable%20for%20linear%20regression.) We have already seen throughout that the scores consistantly imply under-fitting. From **hearsay**, there was once a model with 9000 features that produced an RMSE score of 37,000.\\\n",
    "These would all be important considerations when we attempt again to build a model to predict hdb flat prices."
   ]
  },
  {
   "cell_type": "markdown",
   "id": "31938f79-f876-4bf3-b8fe-7611124212f8",
   "metadata": {},
   "source": [
    "### Limitations"
   ]
  },
  {
   "cell_type": "markdown",
   "id": "31589ce0-7968-45ef-9eee-bea9969e7950",
   "metadata": {},
   "source": [
    "Back in part 1, we have dropped many features including information about schools, longitude and latitude, and even some categories from within the features. Our model will not be able to say anything with regards to those dropped features."
   ]
  },
  {
   "cell_type": "markdown",
   "id": "09fac8d5-51c4-4bf0-8027-74972c5e088e",
   "metadata": {},
   "source": [
    "### Future Work"
   ]
  },
  {
   "cell_type": "markdown",
   "id": "9012a292-bf50-469e-b2ee-28f3a7af1f7f",
   "metadata": {},
   "source": [
    "It might be interesting to investigate if there are any patterns that could possibly relate correlation coefficient and the coefficients of the linear regression model (like [this](#garbage) but probably more subtle)."
   ]
  },
  {
   "cell_type": "markdown",
   "id": "9bbfab19-80f2-4d51-93ab-b581f639b6a2",
   "metadata": {},
   "source": [
    "[Back to contents](#Contents:)"
   ]
  }
 ],
 "metadata": {
  "kernelspec": {
   "display_name": "Python 3 (ipykernel)",
   "language": "python",
   "name": "python3"
  },
  "language_info": {
   "codemirror_mode": {
    "name": "ipython",
    "version": 3
   },
   "file_extension": ".py",
   "mimetype": "text/x-python",
   "name": "python",
   "nbconvert_exporter": "python",
   "pygments_lexer": "ipython3",
   "version": "3.9.13"
  }
 },
 "nbformat": 4,
 "nbformat_minor": 5
}
