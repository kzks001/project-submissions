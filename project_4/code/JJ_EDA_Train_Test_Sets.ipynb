{
 "cells": [
  {
   "cell_type": "code",
   "execution_count": 1,
   "id": "b6495347",
   "metadata": {},
   "outputs": [],
   "source": [
    "import pandas as pd\n",
    "import numpy as np\n",
    "import datetime as dt\n",
    "import os\n",
    "import seaborn as sns\n",
    "import matplotlib.pyplot as plt\n",
    "from sklearn.linear_model import LinearRegression, LassoCV, RidgeCV\n",
    "from sklearn.preprocessing import PolynomialFeatures, StandardScaler\n",
    "from sklearn.model_selection import train_test_split, cross_val_score, cross_val_predict\n",
    "from sklearn.metrics import r2_score, mean_squared_error\n",
    "from sklearn.preprocessing import OrdinalEncoder\n",
    "from sklearn.feature_selection import mutual_info_regression\n",
    "from sklearn.neighbors import KNeighborsClassifier\n",
    "from sklearn.cluster import KMeans\n",
    "from sklearn.metrics import silhouette_score\n",
    "\n",
    "from category_encoders import MEstimateEncoder\n",
    "\n",
    "from sklearn.preprocessing import OneHotEncoder\n",
    "\n",
    "%matplotlib inline\n",
    "\n",
    "pd.set_option(\"display.max_rows\", 50)\n",
    "pd.set_option(\"display.max_columns\", 78)"
   ]
  },
  {
   "cell_type": "code",
   "execution_count": 2,
   "id": "29d936f2",
   "metadata": {},
   "outputs": [],
   "source": [
    "test_file = '../data/test.csv'\n",
    "train_file = '../data/train.csv'\n",
    "spray_file = '../data/spray.csv'\n",
    "weather_file = '../data/weather.csv'\n",
    "\n",
    "train_df = pd.read_csv(train_file)\n",
    "test_df = pd.read_csv(test_file)\n",
    "spray_df = pd.read_csv(spray_file)\n",
    "weather_df = pd.read_csv(weather_file)"
   ]
  },
  {
   "cell_type": "code",
   "execution_count": 3,
   "id": "10ae51a9",
   "metadata": {},
   "outputs": [
    {
     "name": "stdout",
     "output_type": "stream",
     "text": [
      "<class 'pandas.core.frame.DataFrame'>\n",
      "DatetimeIndex: 10506 entries, 2007-05-29 to 2013-09-26\n",
      "Data columns (total 11 columns):\n",
      " #   Column                  Non-Null Count  Dtype  \n",
      "---  ------                  --------------  -----  \n",
      " 0   Address                 10506 non-null  object \n",
      " 1   Species                 10506 non-null  object \n",
      " 2   Block                   10506 non-null  int64  \n",
      " 3   Street                  10506 non-null  object \n",
      " 4   Trap                    10506 non-null  object \n",
      " 5   AddressNumberAndStreet  10506 non-null  object \n",
      " 6   Latitude                10506 non-null  float64\n",
      " 7   Longitude               10506 non-null  float64\n",
      " 8   AddressAccuracy         10506 non-null  int64  \n",
      " 9   NumMosquitos            10506 non-null  int64  \n",
      " 10  WnvPresent              10506 non-null  int64  \n",
      "dtypes: float64(2), int64(4), object(5)\n",
      "memory usage: 984.9+ KB\n"
     ]
    }
   ],
   "source": [
    "# Convert Date column to datetime and set as index\n",
    "train_df['Date'] = pd.to_datetime(train_df['Date'], yearfirst=True)\n",
    "train_df.set_index('Date', inplace=True)\n",
    "\n",
    "# Do the same for test set\n",
    "test_df['Date'] = pd.to_datetime(test_df['Date'], yearfirst=True)\n",
    "test_df.set_index('Date', inplace=True)\n",
    "\n",
    "train_df.info()"
   ]
  },
  {
   "cell_type": "code",
   "execution_count": 4,
   "id": "d37dbc99",
   "metadata": {},
   "outputs": [
    {
     "name": "stdout",
     "output_type": "stream",
     "text": [
      "Trap T002: 1\n",
      "Trap T007: 1\n",
      "Trap T015: 1\n",
      "Trap T045: 1\n",
      "Trap T046: 1\n",
      "Trap T048: 1\n",
      "Trap T049: 1\n",
      "Trap T050: 1\n",
      "Trap T054: 1\n",
      "Trap T086: 1\n",
      "Trap T091: 1\n",
      "Trap T094: 1\n",
      "Trap T096: 1\n",
      "Trap T129: 1\n",
      "Trap T143: 1\n",
      "Trap T148: 1\n",
      "Trap T153: 1\n",
      "Trap T159: 1\n",
      "Trap T009: 2\n",
      "Trap T011: 1\n",
      "Trap T016: 1\n",
      "Trap T019: 1\n",
      "Trap T025: 1\n",
      "Trap T028: 1\n",
      "Trap T031: 1\n",
      "Trap T033: 1\n",
      "Trap T089: 1\n",
      "Trap T090: 1\n",
      "Trap T092: 1\n",
      "Trap T135: 1\n",
      "Trap T141: 1\n",
      "Trap T142: 1\n",
      "Trap T145: 1\n",
      "Trap T146: 1\n",
      "Trap T147: 1\n",
      "Trap T149: 1\n",
      "Trap T150: 1\n",
      "Trap T151: 1\n",
      "Trap T152: 1\n",
      "Trap T154: 1\n",
      "Trap T158: 1\n",
      "Trap T162: 1\n",
      "Trap T218: 1\n",
      "Trap T220: 1\n",
      "Trap T001: 1\n",
      "Trap T003: 1\n",
      "Trap T006: 1\n",
      "Trap T008: 1\n",
      "Trap T012: 1\n",
      "Trap T034: 1\n",
      "Trap T037: 1\n",
      "Trap T040: 1\n",
      "Trap T043: 1\n",
      "Trap T047: 1\n",
      "Trap T051: 1\n",
      "Trap T085: 1\n",
      "Trap T088: 1\n",
      "Trap T161: 1\n",
      "Trap T219: 1\n",
      "Trap T013: 1\n",
      "Trap T014: 1\n",
      "Trap T018: 1\n",
      "Trap T030: 1\n",
      "Trap T084: 1\n",
      "Trap T144: 1\n",
      "Trap T160: 1\n",
      "Trap T005: 1\n",
      "Trap T017: 1\n",
      "Trap T044: 1\n",
      "Trap T095: 1\n",
      "Trap T004: 1\n",
      "Trap T035: 2\n",
      "Trap T036: 1\n",
      "Trap T039: 1\n",
      "Trap T060: 1\n",
      "Trap T061: 1\n",
      "Trap T062: 1\n",
      "Trap T065: 1\n",
      "Trap T066: 1\n",
      "Trap T067: 1\n",
      "Trap T069: 1\n",
      "Trap T070: 1\n",
      "Trap T071: 1\n",
      "Trap T073: 1\n",
      "Trap T074: 1\n",
      "Trap T075: 1\n",
      "Trap T076: 1\n",
      "Trap T077: 1\n",
      "Trap T079: 1\n",
      "Trap T080: 1\n",
      "Trap T081: 1\n",
      "Trap T082: 1\n",
      "Trap T083: 1\n",
      "Trap T114: 1\n",
      "Trap T155: 1\n",
      "Trap T063: 1\n",
      "Trap T115: 1\n",
      "Trap T138: 1\n",
      "Trap T200: 1\n",
      "Trap T206: 1\n",
      "Trap T209: 1\n",
      "Trap T212: 1\n",
      "Trap T215: 1\n",
      "Trap T107: 1\n",
      "Trap T128: 1\n",
      "Trap T072: 1\n",
      "Trap T078: 1\n",
      "Trap T097: 1\n",
      "Trap T099: 1\n",
      "Trap T100: 1\n",
      "Trap T102: 1\n",
      "Trap T103: 1\n",
      "Trap T027: 1\n",
      "Trap T156: 1\n",
      "Trap T157: 1\n",
      "Trap T221: 1\n",
      "Trap T900: 1\n",
      "Trap T903: 1\n",
      "Trap T222: 1\n",
      "Trap T223: 1\n",
      "Trap T225: 1\n",
      "Trap T227: 1\n",
      "Trap T224: 1\n",
      "Trap T226: 1\n",
      "Trap T229: 1\n",
      "Trap T230: 1\n",
      "Trap T228: 1\n",
      "Trap T232: 1\n",
      "Trap T231: 1\n",
      "Trap T235: 1\n",
      "Trap T233: 1\n",
      "Trap T236: 1\n",
      "Trap T237: 1\n",
      "Trap T238: 1\n",
      "Trap T094B: 1\n",
      "Trap T054C: 1\n"
     ]
    }
   ],
   "source": [
    "# Check for the Trap with more than 1 geolocation \n",
    "for trap in train_df['Trap'].unique():\n",
    "    print(f\"Trap {trap}: {len(train_df[train_df['Trap']==trap][['Latitude','Longitude']].drop_duplicates())}\")\n",
    "    \n",
    "    \n",
    "# Trap T009: 2 locations\n",
    "# Trap T035: 2 locations\n",
    "\n",
    "# New question: Was it intended to change the location of these two traps? Likely i think. \n",
    "# Rename these two traps with a suffix to indicate a change of location"
   ]
  },
  {
   "cell_type": "code",
   "execution_count": 5,
   "id": "6b7d93e4",
   "metadata": {},
   "outputs": [
    {
     "data": {
      "text/html": [
       "<div>\n",
       "<style scoped>\n",
       "    .dataframe tbody tr th:only-of-type {\n",
       "        vertical-align: middle;\n",
       "    }\n",
       "\n",
       "    .dataframe tbody tr th {\n",
       "        vertical-align: top;\n",
       "    }\n",
       "\n",
       "    .dataframe thead th {\n",
       "        text-align: right;\n",
       "    }\n",
       "</style>\n",
       "<table border=\"1\" class=\"dataframe\">\n",
       "  <thead>\n",
       "    <tr style=\"text-align: right;\">\n",
       "      <th></th>\n",
       "      <th>Latitude</th>\n",
       "      <th>Longitude</th>\n",
       "    </tr>\n",
       "    <tr>\n",
       "      <th>Date</th>\n",
       "      <th></th>\n",
       "      <th></th>\n",
       "    </tr>\n",
       "  </thead>\n",
       "  <tbody>\n",
       "    <tr>\n",
       "      <th>2007-07-11</th>\n",
       "      <td>41.836644</td>\n",
       "      <td>-87.677737</td>\n",
       "    </tr>\n",
       "    <tr>\n",
       "      <th>2011-06-17</th>\n",
       "      <td>41.763733</td>\n",
       "      <td>-87.742302</td>\n",
       "    </tr>\n",
       "  </tbody>\n",
       "</table>\n",
       "</div>"
      ],
      "text/plain": [
       "             Latitude  Longitude\n",
       "Date                            \n",
       "2007-07-11  41.836644 -87.677737\n",
       "2011-06-17  41.763733 -87.742302"
      ]
     },
     "execution_count": 5,
     "metadata": {},
     "output_type": "execute_result"
    }
   ],
   "source": [
    "# Example: two different locations for Trap T009\n",
    "train_df[train_df['Trap']=='T035'][['Latitude','Longitude']].drop_duplicates()"
   ]
  },
  {
   "cell_type": "code",
   "execution_count": 6,
   "id": "42cd249a",
   "metadata": {},
   "outputs": [],
   "source": [
    "# Rename Trap T009 with a new suffix __2 to indicate a change of location\n",
    "train_df.loc[(train_df['Trap']=='T009') & (train_df['Latitude']==41.992478) & (train_df['Longitude']==-87.862995),'Trap']='T009__2'\n",
    "\n",
    "# Rename Trap T035 with a new suffix __2 to indicate a change of location\n",
    "train_df.loc[(train_df['Trap']=='T035') & (train_df['Latitude']==41.763733) & (train_df['Longitude']==-87.742302),'Trap']='T035__2'"
   ]
  },
  {
   "cell_type": "code",
   "execution_count": 7,
   "id": "4f14c344",
   "metadata": {},
   "outputs": [
    {
     "data": {
      "text/plain": [
       "138"
      ]
     },
     "execution_count": 7,
     "metadata": {},
     "output_type": "execute_result"
    }
   ],
   "source": [
    "# Number of unique Traps is now 138 matching number of unique geolocations\n",
    "train_df['Trap'].nunique()"
   ]
  },
  {
   "cell_type": "code",
   "execution_count": 8,
   "id": "7c9d4bc9",
   "metadata": {},
   "outputs": [],
   "source": [
    "# Transform the Test set to update the Trap T009 for the new location suffix __2 likewise\n",
    "test_df.loc[(test_df['Trap']=='T009') & (test_df['Latitude']==41.992478) & (test_df['Longitude']==-87.862995),'Trap']='T009__2'\n",
    "\n",
    "# Transform the Test set to update the Trap T035 for the new location suffix __2 likewise\n",
    "test_df.loc[(test_df['Trap']=='T035') & (test_df['Latitude']==41.763733) & (test_df['Longitude']==-87.742302),'Trap']='T035__2'"
   ]
  },
  {
   "cell_type": "code",
   "execution_count": 9,
   "id": "6f9f0d5f",
   "metadata": {},
   "outputs": [
    {
     "data": {
      "text/plain": [
       "151"
      ]
     },
     "execution_count": 9,
     "metadata": {},
     "output_type": "execute_result"
    }
   ],
   "source": [
    "test_df['Trap'].nunique()  \n",
    "\n",
    "# There are 151 Traps in test set, means some of the Trap data won't be captured in train set! Need to somehow capture this\n",
    "# By geolocation clustering and features associated with each geo-cluster, we can ignore the Trap id as a feature (don't bother target-encoding Trap)\n"
   ]
  },
  {
   "cell_type": "code",
   "execution_count": 10,
   "id": "4c69f606",
   "metadata": {},
   "outputs": [
    {
     "name": "stdout",
     "output_type": "stream",
     "text": [
      "<class 'pandas.core.frame.DataFrame'>\n",
      "DatetimeIndex: 10506 entries, 2007-05-29 to 2013-09-26\n",
      "Data columns (total 11 columns):\n",
      " #   Column                  Non-Null Count  Dtype  \n",
      "---  ------                  --------------  -----  \n",
      " 0   Address                 10506 non-null  object \n",
      " 1   Species                 10506 non-null  object \n",
      " 2   Block                   10506 non-null  int64  \n",
      " 3   Street                  10506 non-null  object \n",
      " 4   Trap                    10506 non-null  object \n",
      " 5   AddressNumberAndStreet  10506 non-null  object \n",
      " 6   Latitude                10506 non-null  float64\n",
      " 7   Longitude               10506 non-null  float64\n",
      " 8   AddressAccuracy         10506 non-null  int64  \n",
      " 9   NumMosquitos            10506 non-null  int64  \n",
      " 10  WnvPresent              10506 non-null  int64  \n",
      "dtypes: float64(2), int64(4), object(5)\n",
      "memory usage: 984.9+ KB\n"
     ]
    }
   ],
   "source": [
    "train_df.info()"
   ]
  },
  {
   "cell_type": "code",
   "execution_count": 11,
   "id": "43adbb22",
   "metadata": {},
   "outputs": [
    {
     "name": "stderr",
     "output_type": "stream",
     "text": [
      "C:\\Users\\samue\\AppData\\Local\\Temp\\ipykernel_17676\\3599355915.py:4: FutureWarning: weekofyear and week have been deprecated, please use DatetimeIndex.isocalendar().week instead, which returns a Series. To exactly reproduce the behavior of week and weekofyear and return an Index, you may call pd.Int64Index(idx.isocalendar().week)\n",
      "  train_df['week'] = train_df.index.week\n",
      "C:\\Users\\samue\\AppData\\Local\\Temp\\ipykernel_17676\\3599355915.py:10: FutureWarning: weekofyear and week have been deprecated, please use DatetimeIndex.isocalendar().week instead, which returns a Series. To exactly reproduce the behavior of week and weekofyear and return an Index, you may call pd.Int64Index(idx.isocalendar().week)\n",
      "  test_df['week'] = test_df.index.week\n"
     ]
    }
   ],
   "source": [
    "# Create new cols for Month and Year index\n",
    "train_df['month'] = train_df.index.month\n",
    "train_df['year'] = train_df.index.year\n",
    "train_df['week'] = train_df.index.week\n",
    "\n",
    "\n",
    "# Do the same for test set\n",
    "test_df['month'] = test_df.index.month\n",
    "test_df['year'] = test_df.index.year\n",
    "test_df['week'] = test_df.index.week"
   ]
  },
  {
   "cell_type": "code",
   "execution_count": 12,
   "id": "6157ceb6",
   "metadata": {},
   "outputs": [],
   "source": [
    "# Define a function to create a col for YearWeek\n",
    "\n",
    "def year_week(row):\n",
    "    week = row['week']\n",
    "    year = row['year']\n",
    "    row['YearWeek'] = f'{year}{week}'\n",
    "    row['YearWeek'] = int(row['YearWeek'])\n",
    "    return row"
   ]
  },
  {
   "cell_type": "code",
   "execution_count": 13,
   "id": "884704b6",
   "metadata": {},
   "outputs": [],
   "source": [
    "# Create new col for YearWeek \n",
    "\n",
    "train_df = train_df.apply(year_week, axis=1)\n",
    "test_df = test_df.apply(year_week, axis=1)"
   ]
  },
  {
   "cell_type": "code",
   "execution_count": 14,
   "id": "b152a34d",
   "metadata": {},
   "outputs": [
    {
     "data": {
      "text/html": [
       "<div>\n",
       "<style scoped>\n",
       "    .dataframe tbody tr th:only-of-type {\n",
       "        vertical-align: middle;\n",
       "    }\n",
       "\n",
       "    .dataframe tbody tr th {\n",
       "        vertical-align: top;\n",
       "    }\n",
       "\n",
       "    .dataframe thead th {\n",
       "        text-align: right;\n",
       "    }\n",
       "</style>\n",
       "<table border=\"1\" class=\"dataframe\">\n",
       "  <thead>\n",
       "    <tr style=\"text-align: right;\">\n",
       "      <th></th>\n",
       "      <th>Address</th>\n",
       "      <th>Species</th>\n",
       "      <th>Block</th>\n",
       "      <th>Street</th>\n",
       "      <th>Trap</th>\n",
       "      <th>AddressNumberAndStreet</th>\n",
       "      <th>Latitude</th>\n",
       "      <th>Longitude</th>\n",
       "      <th>AddressAccuracy</th>\n",
       "      <th>NumMosquitos</th>\n",
       "      <th>WnvPresent</th>\n",
       "      <th>month</th>\n",
       "      <th>year</th>\n",
       "      <th>week</th>\n",
       "      <th>YearWeek</th>\n",
       "    </tr>\n",
       "    <tr>\n",
       "      <th>Date</th>\n",
       "      <th></th>\n",
       "      <th></th>\n",
       "      <th></th>\n",
       "      <th></th>\n",
       "      <th></th>\n",
       "      <th></th>\n",
       "      <th></th>\n",
       "      <th></th>\n",
       "      <th></th>\n",
       "      <th></th>\n",
       "      <th></th>\n",
       "      <th></th>\n",
       "      <th></th>\n",
       "      <th></th>\n",
       "      <th></th>\n",
       "    </tr>\n",
       "  </thead>\n",
       "  <tbody>\n",
       "    <tr>\n",
       "      <th>2007-05-29</th>\n",
       "      <td>4100 North Oak Park Avenue, Chicago, IL 60634,...</td>\n",
       "      <td>CULEX PIPIENS/RESTUANS</td>\n",
       "      <td>41</td>\n",
       "      <td>N OAK PARK AVE</td>\n",
       "      <td>T002</td>\n",
       "      <td>4100  N OAK PARK AVE, Chicago, IL</td>\n",
       "      <td>41.954690</td>\n",
       "      <td>-87.800991</td>\n",
       "      <td>9</td>\n",
       "      <td>1</td>\n",
       "      <td>0</td>\n",
       "      <td>5</td>\n",
       "      <td>2007</td>\n",
       "      <td>22</td>\n",
       "      <td>200722</td>\n",
       "    </tr>\n",
       "    <tr>\n",
       "      <th>2007-05-29</th>\n",
       "      <td>4100 North Oak Park Avenue, Chicago, IL 60634,...</td>\n",
       "      <td>CULEX RESTUANS</td>\n",
       "      <td>41</td>\n",
       "      <td>N OAK PARK AVE</td>\n",
       "      <td>T002</td>\n",
       "      <td>4100  N OAK PARK AVE, Chicago, IL</td>\n",
       "      <td>41.954690</td>\n",
       "      <td>-87.800991</td>\n",
       "      <td>9</td>\n",
       "      <td>1</td>\n",
       "      <td>0</td>\n",
       "      <td>5</td>\n",
       "      <td>2007</td>\n",
       "      <td>22</td>\n",
       "      <td>200722</td>\n",
       "    </tr>\n",
       "    <tr>\n",
       "      <th>2007-05-29</th>\n",
       "      <td>6200 North Mandell Avenue, Chicago, IL 60646, USA</td>\n",
       "      <td>CULEX RESTUANS</td>\n",
       "      <td>62</td>\n",
       "      <td>N MANDELL AVE</td>\n",
       "      <td>T007</td>\n",
       "      <td>6200  N MANDELL AVE, Chicago, IL</td>\n",
       "      <td>41.994991</td>\n",
       "      <td>-87.769279</td>\n",
       "      <td>9</td>\n",
       "      <td>1</td>\n",
       "      <td>0</td>\n",
       "      <td>5</td>\n",
       "      <td>2007</td>\n",
       "      <td>22</td>\n",
       "      <td>200722</td>\n",
       "    </tr>\n",
       "    <tr>\n",
       "      <th>2007-05-29</th>\n",
       "      <td>7900 West Foster Avenue, Chicago, IL 60656, USA</td>\n",
       "      <td>CULEX PIPIENS/RESTUANS</td>\n",
       "      <td>79</td>\n",
       "      <td>W FOSTER AVE</td>\n",
       "      <td>T015</td>\n",
       "      <td>7900  W FOSTER AVE, Chicago, IL</td>\n",
       "      <td>41.974089</td>\n",
       "      <td>-87.824812</td>\n",
       "      <td>8</td>\n",
       "      <td>1</td>\n",
       "      <td>0</td>\n",
       "      <td>5</td>\n",
       "      <td>2007</td>\n",
       "      <td>22</td>\n",
       "      <td>200722</td>\n",
       "    </tr>\n",
       "    <tr>\n",
       "      <th>2007-05-29</th>\n",
       "      <td>7900 West Foster Avenue, Chicago, IL 60656, USA</td>\n",
       "      <td>CULEX RESTUANS</td>\n",
       "      <td>79</td>\n",
       "      <td>W FOSTER AVE</td>\n",
       "      <td>T015</td>\n",
       "      <td>7900  W FOSTER AVE, Chicago, IL</td>\n",
       "      <td>41.974089</td>\n",
       "      <td>-87.824812</td>\n",
       "      <td>8</td>\n",
       "      <td>4</td>\n",
       "      <td>0</td>\n",
       "      <td>5</td>\n",
       "      <td>2007</td>\n",
       "      <td>22</td>\n",
       "      <td>200722</td>\n",
       "    </tr>\n",
       "  </tbody>\n",
       "</table>\n",
       "</div>"
      ],
      "text/plain": [
       "                                                      Address  \\\n",
       "Date                                                            \n",
       "2007-05-29  4100 North Oak Park Avenue, Chicago, IL 60634,...   \n",
       "2007-05-29  4100 North Oak Park Avenue, Chicago, IL 60634,...   \n",
       "2007-05-29  6200 North Mandell Avenue, Chicago, IL 60646, USA   \n",
       "2007-05-29    7900 West Foster Avenue, Chicago, IL 60656, USA   \n",
       "2007-05-29    7900 West Foster Avenue, Chicago, IL 60656, USA   \n",
       "\n",
       "                           Species  Block           Street  Trap  \\\n",
       "Date                                                               \n",
       "2007-05-29  CULEX PIPIENS/RESTUANS     41   N OAK PARK AVE  T002   \n",
       "2007-05-29          CULEX RESTUANS     41   N OAK PARK AVE  T002   \n",
       "2007-05-29          CULEX RESTUANS     62    N MANDELL AVE  T007   \n",
       "2007-05-29  CULEX PIPIENS/RESTUANS     79     W FOSTER AVE  T015   \n",
       "2007-05-29          CULEX RESTUANS     79     W FOSTER AVE  T015   \n",
       "\n",
       "                       AddressNumberAndStreet   Latitude  Longitude  \\\n",
       "Date                                                                  \n",
       "2007-05-29  4100  N OAK PARK AVE, Chicago, IL  41.954690 -87.800991   \n",
       "2007-05-29  4100  N OAK PARK AVE, Chicago, IL  41.954690 -87.800991   \n",
       "2007-05-29   6200  N MANDELL AVE, Chicago, IL  41.994991 -87.769279   \n",
       "2007-05-29    7900  W FOSTER AVE, Chicago, IL  41.974089 -87.824812   \n",
       "2007-05-29    7900  W FOSTER AVE, Chicago, IL  41.974089 -87.824812   \n",
       "\n",
       "            AddressAccuracy  NumMosquitos  WnvPresent  month  year  week  \\\n",
       "Date                                                                       \n",
       "2007-05-29                9             1           0      5  2007    22   \n",
       "2007-05-29                9             1           0      5  2007    22   \n",
       "2007-05-29                9             1           0      5  2007    22   \n",
       "2007-05-29                8             1           0      5  2007    22   \n",
       "2007-05-29                8             4           0      5  2007    22   \n",
       "\n",
       "            YearWeek  \n",
       "Date                  \n",
       "2007-05-29    200722  \n",
       "2007-05-29    200722  \n",
       "2007-05-29    200722  \n",
       "2007-05-29    200722  \n",
       "2007-05-29    200722  "
      ]
     },
     "execution_count": 14,
     "metadata": {},
     "output_type": "execute_result"
    }
   ],
   "source": [
    "train_df.head()"
   ]
  },
  {
   "cell_type": "code",
   "execution_count": 15,
   "id": "59adb64d",
   "metadata": {},
   "outputs": [],
   "source": [
    "# OneHot encode Species column\n",
    "\n",
    "OH_encoder = OneHotEncoder(handle_unknown='ignore', sparse=False)\n",
    "\n",
    "OH_cols_train = pd.DataFrame(OH_encoder.fit_transform(train_df[['Species']]))\n",
    "OH_cols_test = pd.DataFrame(OH_encoder.transform(test_df[['Species']]))\n",
    "\n",
    "# Rename OH_cols columns \n",
    "feature_names = OH_encoder.get_feature_names_out(['Species'])\n",
    "OH_cols_train.columns = feature_names\n",
    "OH_cols_test.columns = feature_names\n",
    "\n",
    "# Put back index to OH_cols df\n",
    "OH_cols_train.index = train_df.index\n",
    "OH_cols_test.index = test_df.index\n",
    "\n",
    "# Add OH encoded columns to original df\n",
    "train_df = pd.concat([train_df, OH_cols_train], axis=1)\n",
    "test_df = pd.concat([test_df, OH_cols_test], axis=1)"
   ]
  },
  {
   "cell_type": "code",
   "execution_count": 16,
   "id": "9c9b974f",
   "metadata": {},
   "outputs": [
    {
     "name": "stdout",
     "output_type": "stream",
     "text": [
      "<class 'pandas.core.frame.DataFrame'>\n",
      "DatetimeIndex: 10506 entries, 2007-05-29 to 2013-09-26\n",
      "Data columns (total 22 columns):\n",
      " #   Column                          Non-Null Count  Dtype  \n",
      "---  ------                          --------------  -----  \n",
      " 0   Address                         10506 non-null  object \n",
      " 1   Species                         10506 non-null  object \n",
      " 2   Block                           10506 non-null  int64  \n",
      " 3   Street                          10506 non-null  object \n",
      " 4   Trap                            10506 non-null  object \n",
      " 5   AddressNumberAndStreet          10506 non-null  object \n",
      " 6   Latitude                        10506 non-null  float64\n",
      " 7   Longitude                       10506 non-null  float64\n",
      " 8   AddressAccuracy                 10506 non-null  int64  \n",
      " 9   NumMosquitos                    10506 non-null  int64  \n",
      " 10  WnvPresent                      10506 non-null  int64  \n",
      " 11  month                           10506 non-null  int64  \n",
      " 12  year                            10506 non-null  int64  \n",
      " 13  week                            10506 non-null  int64  \n",
      " 14  YearWeek                        10506 non-null  int64  \n",
      " 15  Species_CULEX ERRATICUS         10506 non-null  float64\n",
      " 16  Species_CULEX PIPIENS           10506 non-null  float64\n",
      " 17  Species_CULEX PIPIENS/RESTUANS  10506 non-null  float64\n",
      " 18  Species_CULEX RESTUANS          10506 non-null  float64\n",
      " 19  Species_CULEX SALINARIUS        10506 non-null  float64\n",
      " 20  Species_CULEX TARSALIS          10506 non-null  float64\n",
      " 21  Species_CULEX TERRITANS         10506 non-null  float64\n",
      "dtypes: float64(9), int64(8), object(5)\n",
      "memory usage: 1.8+ MB\n"
     ]
    }
   ],
   "source": [
    "train_df.info()"
   ]
  },
  {
   "cell_type": "markdown",
   "id": "28fa76e1",
   "metadata": {},
   "source": [
    "## Clustering NumMosquitos"
   ]
  },
  {
   "cell_type": "code",
   "execution_count": 17,
   "id": "5abf6378",
   "metadata": {},
   "outputs": [],
   "source": [
    "X_train = train_df[['Latitude','Longitude','NumMosquitos']]\n",
    "\n",
    "\n",
    "sc = StandardScaler()\n",
    "X_train_scaled = sc.fit_transform(X_train)"
   ]
  },
  {
   "cell_type": "code",
   "execution_count": 18,
   "id": "c34925a6",
   "metadata": {},
   "outputs": [],
   "source": [
    "scores = []\n",
    "for k in range(2,31):\n",
    "    km = KMeans(n_clusters=k)\n",
    "    km.fit(X_train_scaled)\n",
    "    inertia = km.inertia_\n",
    "    sil = silhouette_score(X_train_scaled, km.labels_)\n",
    "    scores.append([k, inertia, sil])\n",
    "    \n",
    "score_df = pd.DataFrame(scores)\n",
    "score_df.columns = ['k', 'inertia', 'silhouette']"
   ]
  },
  {
   "cell_type": "code",
   "execution_count": 19,
   "id": "d6fb0d5a",
   "metadata": {},
   "outputs": [
    {
     "data": {
      "image/png": "[encoded data removed]",
      "text/plain": [
       "<Figure size 1400x700 with 2 Axes>"
      ]
     },
     "metadata": {},
     "output_type": "display_data"
    }
   ],
   "source": [
    "# Plot inertia and silhouette by k to select optimal k\n",
    "fig, axes = plt.subplots(1, 2, figsize=(14, 7))\n",
    "axes[0].plot(score_df.k, score_df.inertia)\n",
    "axes[0].set_title('Inertia over k')\n",
    "axes[1].plot(score_df.k, score_df.silhouette)\n",
    "axes[1].set_title('Silhouette Score over k');\n",
    "\n",
    "# optimal k=3 "
   ]
  },
  {
   "cell_type": "code",
   "execution_count": 20,
   "id": "5157981e",
   "metadata": {},
   "outputs": [
    {
     "data": {
      "text/html": [
       "<div>\n",
       "<style scoped>\n",
       "    .dataframe tbody tr th:only-of-type {\n",
       "        vertical-align: middle;\n",
       "    }\n",
       "\n",
       "    .dataframe tbody tr th {\n",
       "        vertical-align: top;\n",
       "    }\n",
       "\n",
       "    .dataframe thead th {\n",
       "        text-align: right;\n",
       "    }\n",
       "</style>\n",
       "<table border=\"1\" class=\"dataframe\">\n",
       "  <thead>\n",
       "    <tr style=\"text-align: right;\">\n",
       "      <th></th>\n",
       "      <th>Latitude</th>\n",
       "      <th>Longitude</th>\n",
       "      <th>NumMosquitos</th>\n",
       "      <th>cluster</th>\n",
       "    </tr>\n",
       "  </thead>\n",
       "  <tbody>\n",
       "    <tr>\n",
       "      <th>0</th>\n",
       "      <td>1.007225</td>\n",
       "      <td>-1.047388</td>\n",
       "      <td>-0.734735</td>\n",
       "      <td>0</td>\n",
       "    </tr>\n",
       "    <tr>\n",
       "      <th>1</th>\n",
       "      <td>1.007225</td>\n",
       "      <td>-1.047388</td>\n",
       "      <td>-0.734735</td>\n",
       "      <td>0</td>\n",
       "    </tr>\n",
       "    <tr>\n",
       "      <th>2</th>\n",
       "      <td>1.364706</td>\n",
       "      <td>-0.718799</td>\n",
       "      <td>-0.734735</td>\n",
       "      <td>0</td>\n",
       "    </tr>\n",
       "    <tr>\n",
       "      <th>3</th>\n",
       "      <td>1.179300</td>\n",
       "      <td>-1.294214</td>\n",
       "      <td>-0.734735</td>\n",
       "      <td>0</td>\n",
       "    </tr>\n",
       "    <tr>\n",
       "      <th>4</th>\n",
       "      <td>1.179300</td>\n",
       "      <td>-1.294214</td>\n",
       "      <td>-0.548781</td>\n",
       "      <td>0</td>\n",
       "    </tr>\n",
       "    <tr>\n",
       "      <th>5</th>\n",
       "      <td>0.713708</td>\n",
       "      <td>0.346629</td>\n",
       "      <td>-0.672750</td>\n",
       "      <td>2</td>\n",
       "    </tr>\n",
       "    <tr>\n",
       "      <th>6</th>\n",
       "      <td>0.443325</td>\n",
       "      <td>0.470596</td>\n",
       "      <td>-0.734735</td>\n",
       "      <td>2</td>\n",
       "    </tr>\n",
       "    <tr>\n",
       "      <th>7</th>\n",
       "      <td>0.230349</td>\n",
       "      <td>0.473362</td>\n",
       "      <td>-0.734735</td>\n",
       "      <td>2</td>\n",
       "    </tr>\n",
       "    <tr>\n",
       "      <th>8</th>\n",
       "      <td>0.230349</td>\n",
       "      <td>0.473362</td>\n",
       "      <td>-0.672750</td>\n",
       "      <td>2</td>\n",
       "    </tr>\n",
       "    <tr>\n",
       "      <th>9</th>\n",
       "      <td>0.489131</td>\n",
       "      <td>0.462918</td>\n",
       "      <td>-0.734735</td>\n",
       "      <td>2</td>\n",
       "    </tr>\n",
       "  </tbody>\n",
       "</table>\n",
       "</div>"
      ],
      "text/plain": [
       "   Latitude  Longitude  NumMosquitos  cluster\n",
       "0  1.007225  -1.047388     -0.734735        0\n",
       "1  1.007225  -1.047388     -0.734735        0\n",
       "2  1.364706  -0.718799     -0.734735        0\n",
       "3  1.179300  -1.294214     -0.734735        0\n",
       "4  1.179300  -1.294214     -0.548781        0\n",
       "5  0.713708   0.346629     -0.672750        2\n",
       "6  0.443325   0.470596     -0.734735        2\n",
       "7  0.230349   0.473362     -0.734735        2\n",
       "8  0.230349   0.473362     -0.672750        2\n",
       "9  0.489131   0.462918     -0.734735        2"
      ]
     },
     "execution_count": 20,
     "metadata": {},
     "output_type": "execute_result"
    }
   ],
   "source": [
    "# Convert X_scaled into dataframe with col names\n",
    "feature_cols = ['Latitude','Longitude','NumMosquitos']\n",
    "X_train_scaled = pd.DataFrame(X_train_scaled, columns=feature_cols)\n",
    "\n",
    "\n",
    "# Create a cluster feature \n",
    "km = KMeans(n_clusters=3)\n",
    "X_train_scaled['cluster'] = km.fit_predict(X_train_scaled)\n",
    "X_train_scaled.head(10)"
   ]
  },
  {
   "cell_type": "code",
   "execution_count": 21,
   "id": "85824fa7",
   "metadata": {},
   "outputs": [
    {
     "data": {
      "text/plain": [
       "cluster\n",
       "0    11.814787\n",
       "1    44.262925\n",
       "2     5.384031\n",
       "Name: NumMosquitos, dtype: float64"
      ]
     },
     "execution_count": 21,
     "metadata": {},
     "output_type": "execute_result"
    }
   ],
   "source": [
    "# Check mean NumMosquitos in each of the three clusters\n",
    "\n",
    "X_inverse = pd.DataFrame(sc.inverse_transform(np.array(X_train_scaled[['Latitude','Longitude','NumMosquitos']])), columns=['Latitude','Longitude','NumMosquitos'])\n",
    "X_inverse['cluster'] = X_train_scaled['cluster']\n",
    "X_inverse.groupby('cluster')['NumMosquitos'].mean()\n",
    "\n",
    "# Cluster 2 has the highest average NumMosquitos per trap; Cluster 1 has the lowest average\n",
    "# Reorder these cluster labels as it should be Ordinal"
   ]
  },
  {
   "cell_type": "code",
   "execution_count": 22,
   "id": "f3eee952",
   "metadata": {},
   "outputs": [
    {
     "name": "stderr",
     "output_type": "stream",
     "text": [
      "C:\\Users\\samue\\anaconda3\\lib\\site-packages\\seaborn\\relational.py:654: FutureWarning: elementwise comparison failed; returning scalar instead, but in the future will perform elementwise comparison\n",
      "  kws[\"alpha\"] = 1 if self.alpha == \"auto\" else self.alpha\n"
     ]
    },
    {
     "data": {
      "image/png": "[encoded data removed]",
      "text/plain": [
       "<Figure size 558.875x500 with 1 Axes>"
      ]
     },
     "metadata": {},
     "output_type": "display_data"
    }
   ],
   "source": [
    "# Visualize the three NumMosquitos clusters (more observations=dark dots)\n",
    "\n",
    "alphas = np.random.rand(len(train_df))\n",
    "custom_palette = [\"#8b6508\", \"#9e9e9e\", \"#00ffff\" ]\n",
    "\n",
    "sns.relplot(x='Longitude', y='Latitude', hue='cluster', data=X_inverse, alpha=alphas, s=40, palette=custom_palette);"
   ]
  },
  {
   "cell_type": "code",
   "execution_count": 23,
   "id": "28a50bdb",
   "metadata": {},
   "outputs": [
    {
     "data": {
      "text/plain": [
       "0        1\n",
       "1        1\n",
       "2        1\n",
       "3        1\n",
       "4        1\n",
       "        ..\n",
       "10501    3\n",
       "10502    1\n",
       "10503    3\n",
       "10504    1\n",
       "10505    3\n",
       "Name: cluster, Length: 10506, dtype: int64"
      ]
     },
     "execution_count": 23,
     "metadata": {},
     "output_type": "execute_result"
    }
   ],
   "source": [
    "# Reorder the NumMosquitos cluster labels first (1-least NumMosquitos, 3-most NumMosquitos)\n",
    "\n",
    "X_train_scaled['cluster'] = X_train_scaled['cluster'].map(lambda x: 1 if x==0 else (2 if x==1 else 3))\n",
    "X_train_scaled['cluster']"
   ]
  },
  {
   "cell_type": "code",
   "execution_count": 24,
   "id": "b51f8666",
   "metadata": {},
   "outputs": [
    {
     "data": {
      "text/plain": [
       "Date\n",
       "2007-05-29    1\n",
       "2007-05-29    1\n",
       "2007-05-29    1\n",
       "2007-05-29    1\n",
       "2007-05-29    1\n",
       "             ..\n",
       "2013-09-26    3\n",
       "2013-09-26    1\n",
       "2013-09-26    3\n",
       "2013-09-26    1\n",
       "2013-09-26    3\n",
       "Name: NumMosquitos_cluster, Length: 10506, dtype: int64"
      ]
     },
     "execution_count": 24,
     "metadata": {},
     "output_type": "execute_result"
    }
   ],
   "source": [
    "train_df['NumMosquitos_cluster'] = np.array(X_train_scaled['cluster'])   # different indexes so need to change dtype to add col to train_df\n",
    "train_df['NumMosquitos_cluster']"
   ]
  },
  {
   "cell_type": "code",
   "execution_count": 25,
   "id": "0d3801cd",
   "metadata": {},
   "outputs": [
    {
     "name": "stderr",
     "output_type": "stream",
     "text": [
      "C:\\Users\\samue\\anaconda3\\lib\\site-packages\\seaborn\\relational.py:654: FutureWarning: elementwise comparison failed; returning scalar instead, but in the future will perform elementwise comparison\n",
      "  kws[\"alpha\"] = 1 if self.alpha == \"auto\" else self.alpha\n"
     ]
    },
    {
     "data": {
      "image/png": "[encoded data removed]",
      "text/plain": [
       "<Figure size 668.111x500 with 1 Axes>"
      ]
     },
     "metadata": {},
     "output_type": "display_data"
    }
   ],
   "source": [
    "# Visualize the three NumMosquitos clusters again in their correct clusters (more observations=dark dots)\n",
    "\n",
    "alphas = np.random.rand(len(train_df))\n",
    "custom_palette = [\"#8b6508\", \"#9e9e9e\", \"#00ffff\" ]\n",
    "\n",
    "sns.relplot(x='Longitude', y='Latitude', hue='NumMosquitos_cluster', data=train_df[['Longitude','Latitude','NumMosquitos_cluster']], alpha=alphas, s=40, palette=custom_palette);"
   ]
  },
  {
   "cell_type": "code",
   "execution_count": 26,
   "id": "1be0784e",
   "metadata": {},
   "outputs": [
    {
     "data": {
      "text/plain": [
       "0.9089091947458595"
      ]
     },
     "execution_count": 26,
     "metadata": {},
     "output_type": "execute_result"
    }
   ],
   "source": [
    "# Fit kNearestNeighbors model to predict the right cluster that indicate NumMosquitos\n",
    "knn_y = X_train_scaled.pop('cluster')\n",
    "knn_X = X_train_scaled[['Latitude','Longitude']]\n",
    "knn = KNeighborsClassifier(n_neighbors=150, weights='distance')\n",
    "knn.fit(knn_X, knn_y)\n",
    "knn.score(knn_X, knn_y)\n",
    "\n",
    "# Reasonably good accuracy of 91% which we will use this kNN model to predict the clusters in test set"
   ]
  },
  {
   "cell_type": "code",
   "execution_count": 27,
   "id": "fa9389b6",
   "metadata": {},
   "outputs": [
    {
     "name": "stderr",
     "output_type": "stream",
     "text": [
      "C:\\Users\\samue\\anaconda3\\lib\\site-packages\\sklearn\\base.py:450: UserWarning: X does not have valid feature names, but KNeighborsClassifier was fitted with feature names\n",
      "  warnings.warn(\n"
     ]
    }
   ],
   "source": [
    "# Predict the NumMosquitos clusters for test set according to their geo-coordinates\n",
    "X_test = test_df[['Latitude','Longitude']]\n",
    "\n",
    "sc = StandardScaler()\n",
    "X_test_scaled = sc.fit_transform(X_test)\n",
    "\n",
    "test_df['NumMosquitos_cluster'] = knn.predict(X_test_scaled)"
   ]
  },
  {
   "cell_type": "code",
   "execution_count": 28,
   "id": "f10c48f7",
   "metadata": {},
   "outputs": [
    {
     "data": {
      "text/plain": [
       "3    68686\n",
       "1    45311\n",
       "2     2296\n",
       "Name: NumMosquitos_cluster, dtype: int64"
      ]
     },
     "execution_count": 28,
     "metadata": {},
     "output_type": "execute_result"
    }
   ],
   "source": [
    "test_df['NumMosquitos_cluster'].value_counts()"
   ]
  },
  {
   "cell_type": "code",
   "execution_count": 29,
   "id": "51bbf1e6",
   "metadata": {},
   "outputs": [
    {
     "data": {
      "text/plain": [
       "array(['T002', 'T007', 'T015', 'T045', 'T046', 'T048', 'T049', 'T050',\n",
       "       'T054', 'T086', 'T091', 'T094', 'T096', 'T129', 'T143', 'T148',\n",
       "       'T153', 'T159', 'T009', 'T011', 'T016', 'T019', 'T025', 'T028',\n",
       "       'T031', 'T033', 'T089', 'T090', 'T092', 'T135', 'T141', 'T142',\n",
       "       'T145', 'T146', 'T147', 'T149', 'T150', 'T151', 'T152', 'T154',\n",
       "       'T158', 'T162', 'T218', 'T220', 'T001', 'T003', 'T006', 'T008',\n",
       "       'T012', 'T034', 'T037', 'T040', 'T043', 'T047', 'T051', 'T085',\n",
       "       'T088', 'T161', 'T219', 'T013', 'T014', 'T018', 'T030', 'T084',\n",
       "       'T144', 'T160', 'T005', 'T017', 'T044', 'T095', 'T004', 'T035',\n",
       "       'T036', 'T039', 'T060', 'T061', 'T062', 'T065', 'T066', 'T067',\n",
       "       'T069', 'T070', 'T071', 'T073', 'T074', 'T075', 'T076', 'T077',\n",
       "       'T079', 'T080', 'T081', 'T082', 'T083', 'T114', 'T155', 'T063',\n",
       "       'T115', 'T138', 'T200', 'T206', 'T209', 'T212', 'T215', 'T107',\n",
       "       'T128', 'T072', 'T078', 'T097', 'T099', 'T100', 'T102', 'T103',\n",
       "       'T027', 'T156', 'T157', 'T221', 'T009__2', 'T900', 'T903', 'T090A',\n",
       "       'T090B', 'T090C', 'T200A', 'T128A', 'T200B', 'T218A', 'T218C',\n",
       "       'T218B', 'T222', 'T223', 'T225', 'T227', 'T224', 'T226', 'T229',\n",
       "       'T230', 'T228', 'T035__2', 'T231', 'T232', 'T002A', 'T002B',\n",
       "       'T233', 'T234', 'T235', 'T236', 'T237', 'T238', 'T065A', 'T094B',\n",
       "       'T054C'], dtype=object)"
      ]
     },
     "execution_count": 29,
     "metadata": {},
     "output_type": "execute_result"
    }
   ],
   "source": [
    "test_df['Trap'].unique()"
   ]
  },
  {
   "cell_type": "markdown",
   "id": "ae7f50b1",
   "metadata": {},
   "source": [
    "## Clustering Traps"
   ]
  },
  {
   "cell_type": "code",
   "execution_count": 30,
   "id": "54bc0e46",
   "metadata": {
    "scrolled": true
   },
   "outputs": [
    {
     "data": {
      "text/plain": [
       "['T065A',\n",
       " 'T218B',\n",
       " 'T218A',\n",
       " 'T200B',\n",
       " 'T200A',\n",
       " 'T002B',\n",
       " 'T090C',\n",
       " 'T090A',\n",
       " 'T128A',\n",
       " 'T090B',\n",
       " 'T218C',\n",
       " 'T002A',\n",
       " 'T234']"
      ]
     },
     "execution_count": 30,
     "metadata": {},
     "output_type": "execute_result"
    }
   ],
   "source": [
    "new_traps = list(set(test_df['Trap']) - set(train_df['Trap']))\n",
    "new_traps\n",
    "\n",
    "# The additional Traps in test set are all satellite traps except T234!\n",
    "# Why are the surveillance traps only in the test set?\n",
    "# Why only these traps have surveillance traps? hotspots?"
   ]
  },
  {
   "cell_type": "code",
   "execution_count": 31,
   "id": "bb364112",
   "metadata": {},
   "outputs": [
    {
     "data": {
      "image/png": "[encoded data removed]",
      "text/plain": [
       "<Figure size 2500x1000 with 1 Axes>"
      ]
     },
     "metadata": {},
     "output_type": "display_data"
    }
   ],
   "source": [
    "# Total WnvPresent by Traps (bigger dot size=more counts of WnvPresent)\n",
    "\n",
    "traps_mosquitos = train_df.groupby('Trap')['WnvPresent'].sum().to_frame().reset_index()\n",
    "plt.figure(figsize=(25,10))\n",
    "plt.xticks(rotation=90, size=10)\n",
    "plt.scatter(x='Trap', y='WnvPresent', s=traps_mosquitos['WnvPresent'].values*16, data=traps_mosquitos);\n",
    "\n",
    "# Seems that Traps can be clustered into at least 3 tiers by their WnvPresent counts."
   ]
  },
  {
   "cell_type": "code",
   "execution_count": 32,
   "id": "1a81174e",
   "metadata": {},
   "outputs": [
    {
     "data": {
      "text/html": [
       "<div>\n",
       "<style scoped>\n",
       "    .dataframe tbody tr th:only-of-type {\n",
       "        vertical-align: middle;\n",
       "    }\n",
       "\n",
       "    .dataframe tbody tr th {\n",
       "        vertical-align: top;\n",
       "    }\n",
       "\n",
       "    .dataframe thead th {\n",
       "        text-align: right;\n",
       "    }\n",
       "</style>\n",
       "<table border=\"1\" class=\"dataframe\">\n",
       "  <thead>\n",
       "    <tr style=\"text-align: right;\">\n",
       "      <th></th>\n",
       "      <th>Trap</th>\n",
       "      <th>WnvPresent</th>\n",
       "      <th>Wnv_cluster</th>\n",
       "    </tr>\n",
       "  </thead>\n",
       "  <tbody>\n",
       "    <tr>\n",
       "      <th>0</th>\n",
       "      <td>T001</td>\n",
       "      <td>0</td>\n",
       "      <td>1</td>\n",
       "    </tr>\n",
       "    <tr>\n",
       "      <th>1</th>\n",
       "      <td>T002</td>\n",
       "      <td>18</td>\n",
       "      <td>2</td>\n",
       "    </tr>\n",
       "    <tr>\n",
       "      <th>2</th>\n",
       "      <td>T003</td>\n",
       "      <td>14</td>\n",
       "      <td>2</td>\n",
       "    </tr>\n",
       "    <tr>\n",
       "      <th>3</th>\n",
       "      <td>T004</td>\n",
       "      <td>0</td>\n",
       "      <td>1</td>\n",
       "    </tr>\n",
       "    <tr>\n",
       "      <th>4</th>\n",
       "      <td>T005</td>\n",
       "      <td>2</td>\n",
       "      <td>1</td>\n",
       "    </tr>\n",
       "    <tr>\n",
       "      <th>5</th>\n",
       "      <td>T006</td>\n",
       "      <td>4</td>\n",
       "      <td>1</td>\n",
       "    </tr>\n",
       "    <tr>\n",
       "      <th>6</th>\n",
       "      <td>T007</td>\n",
       "      <td>0</td>\n",
       "      <td>1</td>\n",
       "    </tr>\n",
       "    <tr>\n",
       "      <th>7</th>\n",
       "      <td>T008</td>\n",
       "      <td>10</td>\n",
       "      <td>2</td>\n",
       "    </tr>\n",
       "    <tr>\n",
       "      <th>8</th>\n",
       "      <td>T009</td>\n",
       "      <td>3</td>\n",
       "      <td>1</td>\n",
       "    </tr>\n",
       "    <tr>\n",
       "      <th>9</th>\n",
       "      <td>T009__2</td>\n",
       "      <td>6</td>\n",
       "      <td>2</td>\n",
       "    </tr>\n",
       "  </tbody>\n",
       "</table>\n",
       "</div>"
      ],
      "text/plain": [
       "      Trap  WnvPresent  Wnv_cluster\n",
       "0     T001           0            1\n",
       "1     T002          18            2\n",
       "2     T003          14            2\n",
       "3     T004           0            1\n",
       "4     T005           2            1\n",
       "5     T006           4            1\n",
       "6     T007           0            1\n",
       "7     T008          10            2\n",
       "8     T009           3            1\n",
       "9  T009__2           6            2"
      ]
     },
     "execution_count": 32,
     "metadata": {},
     "output_type": "execute_result"
    }
   ],
   "source": [
    "# Cluster Traps by their count of WnvPresent into 3 clusters\n",
    "\n",
    "# Label 1: if count of WnvPresent < 5\n",
    "# Label 2: if count of WnvPresent < 20\n",
    "# Label 3: if count of WnvPresent >= 20\n",
    "\n",
    "traps_mosquitos['Wnv_cluster'] = traps_mosquitos['WnvPresent'].map(lambda x: 1 if x<5 else (2 if x<20 else 3))\n",
    "traps_mosquitos.head(10)"
   ]
  },
  {
   "cell_type": "code",
   "execution_count": 33,
   "id": "1f1a4ddb",
   "metadata": {},
   "outputs": [],
   "source": [
    "# Add the geocoordinates of each Trap to df\n",
    "traps_mosquitos['Latitude'] = traps_mosquitos['Trap'].map(lambda x: train_df[train_df['Trap']==x][['Latitude','Longitude']].iloc[0,0])\n",
    "traps_mosquitos['Longitude'] = traps_mosquitos['Trap'].map(lambda x: train_df[train_df['Trap']==x][['Latitude','Longitude']].iloc[0,1])"
   ]
  },
  {
   "cell_type": "code",
   "execution_count": 34,
   "id": "6701b996",
   "metadata": {},
   "outputs": [
    {
     "data": {
      "image/png": "[encoded data removed]",
      "text/plain": [
       "<Figure size 595.986x500 with 1 Axes>"
      ]
     },
     "metadata": {},
     "output_type": "display_data"
    }
   ],
   "source": [
    "# Plot the geolocation of the Trap clusters (1-least Wnv detected, 3-most Wnv detected)\n",
    "to_plot = traps_mosquitos[['Latitude','Longitude','Wnv_cluster']]\n",
    "\n",
    "custom_palette = [\"#8b6508\", \"#9e9e9e\", \"#00ffff\" ]\n",
    "sns.relplot(x='Longitude', y='Latitude', hue='Wnv_cluster', data=to_plot, palette=custom_palette);"
   ]
  },
  {
   "cell_type": "code",
   "execution_count": 35,
   "id": "7975969c",
   "metadata": {
    "scrolled": true
   },
   "outputs": [
    {
     "data": {
      "text/plain": [
       "{'T001': {'Latitude': 41.953705, 'Longitude': -87.733974},\n",
       " 'T002': {'Latitude': 41.95469, 'Longitude': -87.800991},\n",
       " 'T003': {'Latitude': 41.964242, 'Longitude': -87.757639},\n",
       " 'T004': {'Latitude': 41.962728, 'Longitude': -87.748367},\n",
       " 'T005': {'Latitude': 41.942114, 'Longitude': -87.776385},\n",
       " 'T006': {'Latitude': 41.990284, 'Longitude': -87.797127},\n",
       " 'T007': {'Latitude': 41.994991, 'Longitude': -87.769279},\n",
       " 'T008': {'Latitude': 42.008314, 'Longitude': -87.777921},\n",
       " 'T009': {'Latitude': 41.981964, 'Longitude': -87.812827},\n",
       " 'T009__2': {'Latitude': 41.992478, 'Longitude': -87.862995},\n",
       " 'T011': {'Latitude': 41.944869, 'Longitude': -87.832763},\n",
       " 'T012': {'Latitude': 41.991429, 'Longitude': -87.747113},\n",
       " 'T013': {'Latitude': 41.923738, 'Longitude': -87.785288},\n",
       " 'T014': {'Latitude': 41.970248, 'Longitude': -87.787992},\n",
       " 'T015': {'Latitude': 41.974089, 'Longitude': -87.824812},\n",
       " 'T016': {'Latitude': 42.011601, 'Longitude': -87.811506},\n",
       " 'T017': {'Latitude': 41.960616, 'Longitude': -87.777189},\n",
       " 'T018': {'Latitude': 42.010412, 'Longitude': -87.66214},\n",
       " 'T019': {'Latitude': 41.94983, 'Longitude': -87.698457},\n",
       " 'T025': {'Latitude': 41.979243, 'Longitude': -87.750938},\n",
       " 'T027': {'Latitude': 41.984809, 'Longitude': -87.728492},\n",
       " 'T028': {'Latitude': 41.986921, 'Longitude': -87.689778},\n",
       " 'T030': {'Latitude': 41.89923, 'Longitude': -87.716788},\n",
       " 'T031': {'Latitude': 41.801498, 'Longitude': -87.763416},\n",
       " 'T033': {'Latitude': 41.906638, 'Longitude': -87.701431},\n",
       " 'T034': {'Latitude': 41.843811, 'Longitude': -87.686763},\n",
       " 'T035': {'Latitude': 41.836644, 'Longitude': -87.677737},\n",
       " 'T035__2': {'Latitude': 41.763733, 'Longitude': -87.742302},\n",
       " 'T036': {'Latitude': 41.837085, 'Longitude': -87.729384},\n",
       " 'T037': {'Latitude': 41.921177, 'Longitude': -87.79518},\n",
       " 'T039': {'Latitude': 41.911824, 'Longitude': -87.726737},\n",
       " 'T040': {'Latitude': 41.852652, 'Longitude': -87.719887},\n",
       " 'T043': {'Latitude': 41.857402, 'Longitude': -87.694991},\n",
       " 'T044': {'Latitude': 41.883284, 'Longitude': -87.705085},\n",
       " 'T045': {'Latitude': 41.9216, 'Longitude': -87.666455},\n",
       " 'T046': {'Latitude': 41.891118, 'Longitude': -87.654491},\n",
       " 'T047': {'Latitude': 41.868142, 'Longitude': -87.696269},\n",
       " 'T048': {'Latitude': 41.867108, 'Longitude': -87.654224},\n",
       " 'T049': {'Latitude': 41.896282, 'Longitude': -87.655232},\n",
       " 'T050': {'Latitude': 41.919343, 'Longitude': -87.694259},\n",
       " 'T051': {'Latitude': 41.846283, 'Longitude': -87.656913},\n",
       " 'T054': {'Latitude': 41.921965, 'Longitude': -87.632085},\n",
       " 'T054C': {'Latitude': 41.925652, 'Longitude': -87.63359},\n",
       " 'T060': {'Latitude': 41.823065, 'Longitude': -87.678378},\n",
       " 'T061': {'Latitude': 41.801179, 'Longitude': -87.679447},\n",
       " 'T062': {'Latitude': 41.800737, 'Longitude': -87.71188},\n",
       " 'T063': {'Latitude': 41.82561, 'Longitude': -87.726549},\n",
       " 'T065': {'Latitude': 41.778297, 'Longitude': -87.752411},\n",
       " 'T066': {'Latitude': 41.77166, 'Longitude': -87.703047},\n",
       " 'T067': {'Latitude': 41.759346, 'Longitude': -87.745602},\n",
       " 'T069': {'Latitude': 41.768388, 'Longitude': -87.678649},\n",
       " 'T070': {'Latitude': 41.797616, 'Longitude': -87.797894},\n",
       " 'T071': {'Latitude': 41.781416, 'Longitude': -87.776532},\n",
       " 'T072': {'Latitude': 41.74785, 'Longitude': -87.702716},\n",
       " 'T073': {'Latitude': 41.773215, 'Longitude': -87.60088},\n",
       " 'T074': {'Latitude': 41.822536, 'Longitude': -87.666343},\n",
       " 'T075': {'Latitude': 41.799282, 'Longitude': -87.585487},\n",
       " 'T076': {'Latitude': 41.794781, 'Longitude': -87.615989},\n",
       " 'T077': {'Latitude': 41.778748, 'Longitude': -87.586427},\n",
       " 'T078': {'Latitude': 41.775051, 'Longitude': -87.655356},\n",
       " 'T079': {'Latitude': 41.766202, 'Longitude': -87.562889},\n",
       " 'T080': {'Latitude': 41.754676, 'Longitude': -87.612922},\n",
       " 'T081': {'Latitude': 41.821582, 'Longitude': -87.627796},\n",
       " 'T082': {'Latitude': 41.803423, 'Longitude': -87.642984},\n",
       " 'T083': {'Latitude': 41.754292, 'Longitude': -87.590773},\n",
       " 'T084': {'Latitude': 41.692555, 'Longitude': -87.598865},\n",
       " 'T085': {'Latitude': 41.721474, 'Longitude': -87.648064},\n",
       " 'T086': {'Latitude': 41.688324, 'Longitude': -87.676709},\n",
       " 'T088': {'Latitude': 41.869107, 'Longitude': -87.696293},\n",
       " 'T089': {'Latitude': 41.723195, 'Longitude': -87.64997},\n",
       " 'T090': {'Latitude': 41.868077, 'Longitude': -87.666901},\n",
       " 'T091': {'Latitude': 41.862292, 'Longitude': -87.64886},\n",
       " 'T092': {'Latitude': 41.869216, 'Longitude': -87.627561},\n",
       " 'T094': {'Latitude': 41.720848, 'Longitude': -87.666014},\n",
       " 'T094B': {'Latitude': 41.71914, 'Longitude': -87.669539},\n",
       " 'T095': {'Latitude': 41.704336, 'Longitude': -87.703736},\n",
       " 'T096': {'Latitude': 41.731922, 'Longitude': -87.677512},\n",
       " 'T097': {'Latitude': 41.644612, 'Longitude': -87.604498},\n",
       " 'T099': {'Latitude': 41.733643, 'Longitude': -87.55551},\n",
       " 'T100': {'Latitude': 41.717753, 'Longitude': -87.531657},\n",
       " 'T102': {'Latitude': 41.750498, 'Longitude': -87.605294},\n",
       " 'T103': {'Latitude': 41.702724, 'Longitude': -87.536497},\n",
       " 'T107': {'Latitude': 41.729669, 'Longitude': -87.582699},\n",
       " 'T114': {'Latitude': 41.798697, 'Longitude': -87.736812},\n",
       " 'T115': {'Latitude': 41.673408, 'Longitude': -87.599862},\n",
       " 'T128': {'Latitude': 41.704572, 'Longitude': -87.565666},\n",
       " 'T129': {'Latitude': 41.891126, 'Longitude': -87.61156},\n",
       " 'T135': {'Latitude': 41.662014, 'Longitude': -87.724608},\n",
       " 'T138': {'Latitude': 41.726465, 'Longitude': -87.585413},\n",
       " 'T141': {'Latitude': 41.961743, 'Longitude': -87.76007},\n",
       " 'T142': {'Latitude': 41.953067, 'Longitude': -87.776792},\n",
       " 'T143': {'Latitude': 41.999129, 'Longitude': -87.795585},\n",
       " 'T144': {'Latitude': 41.94016, 'Longitude': -87.794896},\n",
       " 'T145': {'Latitude': 41.878114, 'Longitude': -87.629798},\n",
       " 'T146': {'Latitude': 41.958271, 'Longitude': -87.702575},\n",
       " 'T147': {'Latitude': 41.932094, 'Longitude': -87.700117},\n",
       " 'T148': {'Latitude': 42.01743, 'Longitude': -87.687769},\n",
       " 'T149': {'Latitude': 41.994469, 'Longitude': -87.667736},\n",
       " 'T150': {'Latitude': 42.006858, 'Longitude': -87.675919},\n",
       " 'T151': {'Latitude': 41.916265, 'Longitude': -87.800515},\n",
       " 'T152': {'Latitude': 41.846075, 'Longitude': -87.716277},\n",
       " 'T153': {'Latitude': 41.907645, 'Longitude': -87.760886},\n",
       " 'T154': {'Latitude': 41.918705, 'Longitude': -87.752329},\n",
       " 'T155': {'Latitude': 41.776156, 'Longitude': -87.778927},\n",
       " 'T156': {'Latitude': 41.772846, 'Longitude': -87.740029},\n",
       " 'T157': {'Latitude': 41.825902, 'Longitude': -87.667827},\n",
       " 'T158': {'Latitude': 41.682587, 'Longitude': -87.707973},\n",
       " 'T159': {'Latitude': 41.732984, 'Longitude': -87.649642},\n",
       " 'T160': {'Latitude': 41.903002, 'Longitude': -87.688267},\n",
       " 'T161': {'Latitude': 41.719059, 'Longitude': -87.675088},\n",
       " 'T162': {'Latitude': 41.725517, 'Longitude': -87.614258},\n",
       " 'T200': {'Latitude': 41.678618, 'Longitude': -87.559308},\n",
       " 'T206': {'Latitude': 41.737052, 'Longitude': -87.543067},\n",
       " 'T209': {'Latitude': 41.740641, 'Longitude': -87.546587},\n",
       " 'T212': {'Latitude': 41.680946, 'Longitude': -87.535198},\n",
       " 'T215': {'Latitude': 41.686398, 'Longitude': -87.531635},\n",
       " 'T218': {'Latitude': 41.948167, 'Longitude': -87.730698},\n",
       " 'T219': {'Latitude': 41.966987, 'Longitude': -87.674677},\n",
       " 'T220': {'Latitude': 41.963976, 'Longitude': -87.69181},\n",
       " 'T221': {'Latitude': 41.659112, 'Longitude': -87.538693},\n",
       " 'T222': {'Latitude': 41.925198, 'Longitude': -87.746381},\n",
       " 'T223': {'Latitude': 41.973845, 'Longitude': -87.805059},\n",
       " 'T224': {'Latitude': 41.947227, 'Longitude': -87.671457},\n",
       " 'T225': {'Latitude': 41.743402, 'Longitude': -87.731435},\n",
       " 'T226': {'Latitude': 41.793818, 'Longitude': -87.654234},\n",
       " 'T227': {'Latitude': 41.728495, 'Longitude': -87.600963},\n",
       " 'T228': {'Latitude': 41.951866, 'Longitude': -87.725057},\n",
       " 'T229': {'Latitude': 41.753411, 'Longitude': -87.639817},\n",
       " 'T230': {'Latitude': 41.904194, 'Longitude': -87.756155},\n",
       " 'T231': {'Latitude': 41.98728, 'Longitude': -87.666066},\n",
       " 'T232': {'Latitude': 41.912563, 'Longitude': -87.668055},\n",
       " 'T233': {'Latitude': 42.009876, 'Longitude': -87.807277},\n",
       " 'T235': {'Latitude': 41.776428, 'Longitude': -87.627096},\n",
       " 'T236': {'Latitude': 41.994679, 'Longitude': -87.770899},\n",
       " 'T237': {'Latitude': 41.738903, 'Longitude': -87.695443},\n",
       " 'T238': {'Latitude': 41.753391, 'Longitude': -87.707394},\n",
       " 'T900': {'Latitude': 41.974689, 'Longitude': -87.890615},\n",
       " 'T903': {'Latitude': 41.957799, 'Longitude': -87.930995},\n",
       " 'T065A': {'Latitude': 41.777689, 'Longitude': -87.749149},\n",
       " 'T218B': {'Latitude': 41.94828, 'Longitude': -87.74134},\n",
       " 'T218A': {'Latitude': 41.95477, 'Longitude': -87.73089},\n",
       " 'T200B': {'Latitude': 41.646541, 'Longitude': -87.543762},\n",
       " 'T200A': {'Latitude': 41.731929, 'Longitude': -87.54854},\n",
       " 'T002B': {'Latitude': 41.951878, 'Longitude': -87.789234},\n",
       " 'T090C': {'Latitude': 41.675876, 'Longitude': -87.651515},\n",
       " 'T090A': {'Latitude': 41.690423, 'Longitude': -87.656929},\n",
       " 'T128A': {'Latitude': 41.738583, 'Longitude': -87.567726},\n",
       " 'T090B': {'Latitude': 41.868533, 'Longitude': -87.661638},\n",
       " 'T218C': {'Latitude': 41.933652, 'Longitude': -87.738416},\n",
       " 'T002A': {'Latitude': 41.965571, 'Longitude': -87.781978},\n",
       " 'T234': {'Latitude': 41.942285, 'Longitude': -87.761726}}"
      ]
     },
     "execution_count": 35,
     "metadata": {},
     "output_type": "execute_result"
    }
   ],
   "source": [
    "# Create dict of all the Traps coordinates for easy retrieval\n",
    "traps_coordinates = traps_mosquitos[['Trap', 'Latitude','Longitude']].T\n",
    "traps_coordinates.columns = traps_coordinates.iloc[0]\n",
    "traps_coordinates = traps_coordinates.iloc[1:].to_dict()\n",
    "\n",
    "# Add in the geocoordinates of the 13 new Traps from test set into the dict\n",
    "for trap in new_traps:\n",
    "    trap_lat = test_df[test_df['Trap']==trap][['Latitude','Longitude']].iloc[0,0]\n",
    "    trap_long  = test_df[test_df['Trap']==trap][['Latitude','Longitude']].iloc[0,1]\n",
    "    traps_coordinates[trap] = {'Latitude':trap_lat, 'Longitude':trap_long}\n",
    "\n",
    "    \n",
    "traps_coordinates"
   ]
  },
  {
   "cell_type": "code",
   "execution_count": 36,
   "id": "e46dc4c9",
   "metadata": {},
   "outputs": [],
   "source": [
    "# Create a traps_cluster dict to store the cluster label of each Trap\n",
    "traps_clusters = traps_mosquitos[['Trap', 'Wnv_cluster']].set_index('Trap')\n",
    "traps_clusters = traps_clusters['Wnv_cluster'].to_dict()\n"
   ]
  },
  {
   "cell_type": "code",
   "execution_count": 37,
   "id": "892d15ec",
   "metadata": {},
   "outputs": [
    {
     "name": "stderr",
     "output_type": "stream",
     "text": [
      "C:\\Users\\samue\\anaconda3\\lib\\site-packages\\sklearn\\neighbors\\_classification.py:228: FutureWarning: Unlike other reduction functions (e.g. `skew`, `kurtosis`), the default behavior of `mode` typically preserves the axis it acts along. In SciPy 1.11.0, this behavior will change: the default value of `keepdims` will become False, the `axis` over which the statistic is taken will be eliminated, and the value None will no longer be accepted. Set `keepdims` to True or False to avoid this warning.\n",
      "  mode, _ = stats.mode(_y[neigh_ind, k], axis=1)\n",
      "C:\\Users\\samue\\anaconda3\\lib\\site-packages\\sklearn\\neighbors\\_classification.py:228: FutureWarning: Unlike other reduction functions (e.g. `skew`, `kurtosis`), the default behavior of `mode` typically preserves the axis it acts along. In SciPy 1.11.0, this behavior will change: the default value of `keepdims` will become False, the `axis` over which the statistic is taken will be eliminated, and the value None will no longer be accepted. Set `keepdims` to True or False to avoid this warning.\n",
      "  mode, _ = stats.mode(_y[neigh_ind, k], axis=1)\n",
      "C:\\Users\\samue\\anaconda3\\lib\\site-packages\\sklearn\\neighbors\\_classification.py:228: FutureWarning: Unlike other reduction functions (e.g. `skew`, `kurtosis`), the default behavior of `mode` typically preserves the axis it acts along. In SciPy 1.11.0, this behavior will change: the default value of `keepdims` will become False, the `axis` over which the statistic is taken will be eliminated, and the value None will no longer be accepted. Set `keepdims` to True or False to avoid this warning.\n",
      "  mode, _ = stats.mode(_y[neigh_ind, k], axis=1)\n",
      "C:\\Users\\samue\\anaconda3\\lib\\site-packages\\sklearn\\neighbors\\_classification.py:228: FutureWarning: Unlike other reduction functions (e.g. `skew`, `kurtosis`), the default behavior of `mode` typically preserves the axis it acts along. In SciPy 1.11.0, this behavior will change: the default value of `keepdims` will become False, the `axis` over which the statistic is taken will be eliminated, and the value None will no longer be accepted. Set `keepdims` to True or False to avoid this warning.\n",
      "  mode, _ = stats.mode(_y[neigh_ind, k], axis=1)\n",
      "C:\\Users\\samue\\anaconda3\\lib\\site-packages\\sklearn\\neighbors\\_classification.py:228: FutureWarning: Unlike other reduction functions (e.g. `skew`, `kurtosis`), the default behavior of `mode` typically preserves the axis it acts along. In SciPy 1.11.0, this behavior will change: the default value of `keepdims` will become False, the `axis` over which the statistic is taken will be eliminated, and the value None will no longer be accepted. Set `keepdims` to True or False to avoid this warning.\n",
      "  mode, _ = stats.mode(_y[neigh_ind, k], axis=1)\n",
      "C:\\Users\\samue\\anaconda3\\lib\\site-packages\\sklearn\\neighbors\\_classification.py:228: FutureWarning: Unlike other reduction functions (e.g. `skew`, `kurtosis`), the default behavior of `mode` typically preserves the axis it acts along. In SciPy 1.11.0, this behavior will change: the default value of `keepdims` will become False, the `axis` over which the statistic is taken will be eliminated, and the value None will no longer be accepted. Set `keepdims` to True or False to avoid this warning.\n",
      "  mode, _ = stats.mode(_y[neigh_ind, k], axis=1)\n",
      "C:\\Users\\samue\\anaconda3\\lib\\site-packages\\sklearn\\neighbors\\_classification.py:228: FutureWarning: Unlike other reduction functions (e.g. `skew`, `kurtosis`), the default behavior of `mode` typically preserves the axis it acts along. In SciPy 1.11.0, this behavior will change: the default value of `keepdims` will become False, the `axis` over which the statistic is taken will be eliminated, and the value None will no longer be accepted. Set `keepdims` to True or False to avoid this warning.\n",
      "  mode, _ = stats.mode(_y[neigh_ind, k], axis=1)\n",
      "C:\\Users\\samue\\anaconda3\\lib\\site-packages\\sklearn\\neighbors\\_classification.py:228: FutureWarning: Unlike other reduction functions (e.g. `skew`, `kurtosis`), the default behavior of `mode` typically preserves the axis it acts along. In SciPy 1.11.0, this behavior will change: the default value of `keepdims` will become False, the `axis` over which the statistic is taken will be eliminated, and the value None will no longer be accepted. Set `keepdims` to True or False to avoid this warning.\n",
      "  mode, _ = stats.mode(_y[neigh_ind, k], axis=1)\n",
      "C:\\Users\\samue\\anaconda3\\lib\\site-packages\\sklearn\\neighbors\\_classification.py:228: FutureWarning: Unlike other reduction functions (e.g. `skew`, `kurtosis`), the default behavior of `mode` typically preserves the axis it acts along. In SciPy 1.11.0, this behavior will change: the default value of `keepdims` will become False, the `axis` over which the statistic is taken will be eliminated, and the value None will no longer be accepted. Set `keepdims` to True or False to avoid this warning.\n",
      "  mode, _ = stats.mode(_y[neigh_ind, k], axis=1)\n",
      "C:\\Users\\samue\\anaconda3\\lib\\site-packages\\sklearn\\neighbors\\_classification.py:228: FutureWarning: Unlike other reduction functions (e.g. `skew`, `kurtosis`), the default behavior of `mode` typically preserves the axis it acts along. In SciPy 1.11.0, this behavior will change: the default value of `keepdims` will become False, the `axis` over which the statistic is taken will be eliminated, and the value None will no longer be accepted. Set `keepdims` to True or False to avoid this warning.\n",
      "  mode, _ = stats.mode(_y[neigh_ind, k], axis=1)\n",
      "C:\\Users\\samue\\anaconda3\\lib\\site-packages\\sklearn\\neighbors\\_classification.py:228: FutureWarning: Unlike other reduction functions (e.g. `skew`, `kurtosis`), the default behavior of `mode` typically preserves the axis it acts along. In SciPy 1.11.0, this behavior will change: the default value of `keepdims` will become False, the `axis` over which the statistic is taken will be eliminated, and the value None will no longer be accepted. Set `keepdims` to True or False to avoid this warning.\n",
      "  mode, _ = stats.mode(_y[neigh_ind, k], axis=1)\n",
      "C:\\Users\\samue\\anaconda3\\lib\\site-packages\\sklearn\\neighbors\\_classification.py:228: FutureWarning: Unlike other reduction functions (e.g. `skew`, `kurtosis`), the default behavior of `mode` typically preserves the axis it acts along. In SciPy 1.11.0, this behavior will change: the default value of `keepdims` will become False, the `axis` over which the statistic is taken will be eliminated, and the value None will no longer be accepted. Set `keepdims` to True or False to avoid this warning.\n",
      "  mode, _ = stats.mode(_y[neigh_ind, k], axis=1)\n",
      "C:\\Users\\samue\\anaconda3\\lib\\site-packages\\sklearn\\neighbors\\_classification.py:228: FutureWarning: Unlike other reduction functions (e.g. `skew`, `kurtosis`), the default behavior of `mode` typically preserves the axis it acts along. In SciPy 1.11.0, this behavior will change: the default value of `keepdims` will become False, the `axis` over which the statistic is taken will be eliminated, and the value None will no longer be accepted. Set `keepdims` to True or False to avoid this warning.\n",
      "  mode, _ = stats.mode(_y[neigh_ind, k], axis=1)\n"
     ]
    }
   ],
   "source": [
    "# Cluster the 13 new Traps in test set into their closest neighbor's cluster label in the train set\n",
    "\n",
    "from sklearn.neighbors import KNeighborsClassifier\n",
    "\n",
    "train_wnv_cluster = traps_mosquitos[['Latitude','Longitude']]\n",
    "train_wnv_cluster = train_wnv_cluster.to_records(index=False).tolist()\n",
    "y_wnv_cluster = traps_mosquitos['Wnv_cluster']\n",
    "\n",
    "knn_traps_cluster = KNeighborsClassifier(n_neighbors=1)\n",
    "\n",
    "knn_traps_cluster.fit(train_wnv_cluster, y_wnv_cluster)\n",
    "\n",
    "# Test score of training set =1.0 (so model works)\n",
    "# knn_traps_cluster.score(train_wnv_cluster,y_wnv_cluster)\n",
    "\n",
    "\n",
    "# Classifying the 13 new Traps here\n",
    "test_wnv_cluster = []\n",
    "new_traps_coords = test_df[['Trap', 'Latitude','Longitude']].reset_index()\n",
    "\n",
    "for trap in new_traps:\n",
    "    trap_tuple = (traps_coordinates[trap]['Latitude'], traps_coordinates[trap]['Longitude'])\n",
    "    test_wnv_cluster.append(trap_tuple)\n",
    "    traps_clusters[trap] = knn_traps_cluster.predict([trap_tuple])[0]\n"
   ]
  },
  {
   "cell_type": "code",
   "execution_count": 38,
   "id": "65bb2a1f",
   "metadata": {},
   "outputs": [
    {
     "data": {
      "text/plain": [
       "{'T001': 1,\n",
       " 'T002': 2,\n",
       " 'T003': 2,\n",
       " 'T004': 1,\n",
       " 'T005': 1,\n",
       " 'T006': 1,\n",
       " 'T007': 1,\n",
       " 'T008': 2,\n",
       " 'T009': 1,\n",
       " 'T009__2': 2,\n",
       " 'T011': 2,\n",
       " 'T012': 1,\n",
       " 'T013': 2,\n",
       " 'T014': 1,\n",
       " 'T015': 1,\n",
       " 'T016': 2,\n",
       " 'T017': 1,\n",
       " 'T018': 1,\n",
       " 'T019': 1,\n",
       " 'T025': 1,\n",
       " 'T027': 2,\n",
       " 'T028': 2,\n",
       " 'T030': 2,\n",
       " 'T031': 2,\n",
       " 'T033': 2,\n",
       " 'T034': 1,\n",
       " 'T035': 1,\n",
       " 'T035__2': 1,\n",
       " 'T036': 1,\n",
       " 'T037': 1,\n",
       " 'T039': 1,\n",
       " 'T040': 1,\n",
       " 'T043': 1,\n",
       " 'T044': 1,\n",
       " 'T045': 1,\n",
       " 'T046': 1,\n",
       " 'T047': 1,\n",
       " 'T048': 1,\n",
       " 'T049': 1,\n",
       " 'T050': 1,\n",
       " 'T051': 1,\n",
       " 'T054': 2,\n",
       " 'T054C': 1,\n",
       " 'T060': 1,\n",
       " 'T061': 2,\n",
       " 'T062': 1,\n",
       " 'T063': 1,\n",
       " 'T065': 2,\n",
       " 'T066': 2,\n",
       " 'T067': 1,\n",
       " 'T069': 1,\n",
       " 'T070': 1,\n",
       " 'T071': 1,\n",
       " 'T072': 1,\n",
       " 'T073': 1,\n",
       " 'T074': 1,\n",
       " 'T075': 1,\n",
       " 'T076': 1,\n",
       " 'T077': 1,\n",
       " 'T078': 1,\n",
       " 'T079': 1,\n",
       " 'T080': 1,\n",
       " 'T081': 1,\n",
       " 'T082': 2,\n",
       " 'T083': 1,\n",
       " 'T084': 1,\n",
       " 'T085': 1,\n",
       " 'T086': 2,\n",
       " 'T088': 1,\n",
       " 'T089': 1,\n",
       " 'T090': 2,\n",
       " 'T091': 1,\n",
       " 'T092': 1,\n",
       " 'T094': 1,\n",
       " 'T094B': 1,\n",
       " 'T095': 2,\n",
       " 'T096': 2,\n",
       " 'T097': 1,\n",
       " 'T099': 1,\n",
       " 'T100': 1,\n",
       " 'T102': 1,\n",
       " 'T103': 2,\n",
       " 'T107': 1,\n",
       " 'T114': 2,\n",
       " 'T115': 3,\n",
       " 'T128': 2,\n",
       " 'T129': 1,\n",
       " 'T135': 2,\n",
       " 'T138': 2,\n",
       " 'T141': 1,\n",
       " 'T142': 1,\n",
       " 'T143': 2,\n",
       " 'T144': 1,\n",
       " 'T145': 1,\n",
       " 'T146': 1,\n",
       " 'T147': 1,\n",
       " 'T148': 1,\n",
       " 'T149': 1,\n",
       " 'T150': 1,\n",
       " 'T151': 2,\n",
       " 'T152': 1,\n",
       " 'T153': 1,\n",
       " 'T154': 1,\n",
       " 'T155': 2,\n",
       " 'T156': 1,\n",
       " 'T157': 1,\n",
       " 'T158': 2,\n",
       " 'T159': 1,\n",
       " 'T160': 1,\n",
       " 'T161': 1,\n",
       " 'T162': 1,\n",
       " 'T200': 1,\n",
       " 'T206': 1,\n",
       " 'T209': 1,\n",
       " 'T212': 1,\n",
       " 'T215': 1,\n",
       " 'T218': 1,\n",
       " 'T219': 1,\n",
       " 'T220': 1,\n",
       " 'T221': 2,\n",
       " 'T222': 1,\n",
       " 'T223': 2,\n",
       " 'T224': 1,\n",
       " 'T225': 2,\n",
       " 'T226': 1,\n",
       " 'T227': 1,\n",
       " 'T228': 2,\n",
       " 'T229': 1,\n",
       " 'T230': 2,\n",
       " 'T231': 1,\n",
       " 'T232': 1,\n",
       " 'T233': 2,\n",
       " 'T235': 2,\n",
       " 'T236': 1,\n",
       " 'T237': 1,\n",
       " 'T238': 1,\n",
       " 'T900': 3,\n",
       " 'T903': 2,\n",
       " 'T065A': 2,\n",
       " 'T218B': 1,\n",
       " 'T218A': 1,\n",
       " 'T200B': 2,\n",
       " 'T200A': 1,\n",
       " 'T002B': 2,\n",
       " 'T090C': 2,\n",
       " 'T090A': 2,\n",
       " 'T128A': 1,\n",
       " 'T090B': 2,\n",
       " 'T218C': 1,\n",
       " 'T002A': 1,\n",
       " 'T234': 1}"
      ]
     },
     "execution_count": 38,
     "metadata": {},
     "output_type": "execute_result"
    }
   ],
   "source": [
    "# Check all 151 Trap clusters are here\n",
    "traps_clusters"
   ]
  },
  {
   "cell_type": "code",
   "execution_count": 39,
   "id": "13bc7924",
   "metadata": {},
   "outputs": [],
   "source": [
    "# Create new col to classify all the Traps in train and test set to their respective clusters\n",
    "\n",
    "train_df['trap_cluster'] = train_df['Trap'].map(lambda x: traps_clusters[x])\n",
    "test_df['trap_cluster'] = test_df['Trap'].map(lambda x: traps_clusters[x])"
   ]
  },
  {
   "cell_type": "code",
   "execution_count": 40,
   "id": "e93f2371",
   "metadata": {},
   "outputs": [
    {
     "name": "stdout",
     "output_type": "stream",
     "text": [
      "<class 'pandas.core.frame.DataFrame'>\n",
      "DatetimeIndex: 10506 entries, 2007-05-29 to 2013-09-26\n",
      "Data columns (total 24 columns):\n",
      " #   Column                          Non-Null Count  Dtype  \n",
      "---  ------                          --------------  -----  \n",
      " 0   Address                         10506 non-null  object \n",
      " 1   Species                         10506 non-null  object \n",
      " 2   Block                           10506 non-null  int64  \n",
      " 3   Street                          10506 non-null  object \n",
      " 4   Trap                            10506 non-null  object \n",
      " 5   AddressNumberAndStreet          10506 non-null  object \n",
      " 6   Latitude                        10506 non-null  float64\n",
      " 7   Longitude                       10506 non-null  float64\n",
      " 8   AddressAccuracy                 10506 non-null  int64  \n",
      " 9   NumMosquitos                    10506 non-null  int64  \n",
      " 10  WnvPresent                      10506 non-null  int64  \n",
      " 11  month                           10506 non-null  int64  \n",
      " 12  year                            10506 non-null  int64  \n",
      " 13  week                            10506 non-null  int64  \n",
      " 14  YearWeek                        10506 non-null  int64  \n",
      " 15  Species_CULEX ERRATICUS         10506 non-null  float64\n",
      " 16  Species_CULEX PIPIENS           10506 non-null  float64\n",
      " 17  Species_CULEX PIPIENS/RESTUANS  10506 non-null  float64\n",
      " 18  Species_CULEX RESTUANS          10506 non-null  float64\n",
      " 19  Species_CULEX SALINARIUS        10506 non-null  float64\n",
      " 20  Species_CULEX TARSALIS          10506 non-null  float64\n",
      " 21  Species_CULEX TERRITANS         10506 non-null  float64\n",
      " 22  NumMosquitos_cluster            10506 non-null  int64  \n",
      " 23  trap_cluster                    10506 non-null  int64  \n",
      "dtypes: float64(9), int64(10), object(5)\n",
      "memory usage: 2.3+ MB\n"
     ]
    }
   ],
   "source": [
    "train_df.info()"
   ]
  },
  {
   "cell_type": "code",
   "execution_count": 41,
   "id": "7f74a283",
   "metadata": {},
   "outputs": [],
   "source": [
    "# Target-encode AddressNumberAndStreet and Trap features\n",
    "\n",
    "# X = train_df.copy()\n",
    "# y = X.pop('WnvPresent')\n",
    "\n",
    "# X_encode, X_train, y_encode, y_train = train_test_split(X, y, test_size=0.25, stratify=y, random_state=0)\n",
    "\n",
    "# encoder = MEstimateEncoder(cols=['AddressNumberAndStreet', 'Trap'], m=5.0)   # higher m if alot of noise (default=1.0)\n",
    "\n",
    "# encoder.fit(X_encode, y_encode)\n",
    "\n",
    "# X_train = encoder.transform(X_train)   # Use this X_train and y_train for modeling later \n",
    "# X_test = encoder.transform(test_df)    # Use this X_test and y_train for modeling later \n",
    "\n",
    "\n",
    "# # Put back WnvPresent (the y_train series) into X_train df before exporting\n",
    "# X_train['WnvPresent'] = y_train"
   ]
  },
  {
   "cell_type": "code",
   "execution_count": 42,
   "id": "fb3bb6c3",
   "metadata": {},
   "outputs": [],
   "source": [
    "# plt.figure(dpi=90)\n",
    "# ax = sns.distplot(y, kde=False, norm_hist=True)\n",
    "# ax = sns.kdeplot(X_train.Trap, color='r', ax=ax)   \n",
    "# ax.set_xlabel (\"Trap\")\n",
    "# ax.legend(labels=['Trap', 'WnvPresent']);"
   ]
  },
  {
   "cell_type": "code",
   "execution_count": 43,
   "id": "6aad018d",
   "metadata": {},
   "outputs": [],
   "source": [
    "test_df.to_csv('../data/cleaned_test.csv', index=True)\n",
    "train_df.to_csv('../data/cleaned_train.csv', index=True)"
   ]
  },
  {
   "cell_type": "code",
   "execution_count": null,
   "id": "25c14653",
   "metadata": {},
   "outputs": [],
   "source": []
  }
 ],
 "metadata": {
  "kernelspec": {
   "display_name": "Python 3 (ipykernel)",
   "language": "python",
   "name": "python3"
  },
  "language_info": {
   "codemirror_mode": {
    "name": "ipython",
    "version": 3
   },
   "file_extension": ".py",
   "mimetype": "text/x-python",
   "name": "python",
   "nbconvert_exporter": "python",
   "pygments_lexer": "ipython3",
   "version": "3.9.13"
  }
 },
 "nbformat": 4,
 "nbformat_minor": 5
}
